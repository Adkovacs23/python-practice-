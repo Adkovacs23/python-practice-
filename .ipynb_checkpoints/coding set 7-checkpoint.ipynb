{
 "cells": [
  {
   "cell_type": "markdown",
   "id": "bff7c940",
   "metadata": {},
   "source": [
    "Algorithm workbench problem 1"
   ]
  },
  {
   "cell_type": "markdown",
   "id": "9e3f515c",
   "metadata": {},
   "source": [
    "this problem is asking us to write a sttement that creates a list with the following strings, einstein, newton, copernicus and ekpler"
   ]
  },
  {
   "cell_type": "code",
   "execution_count": 5,
   "id": "06a66bc4",
   "metadata": {},
   "outputs": [],
   "source": [
    "my_list = [\",Einstein\", \"newton\", \"and\" \"kepler\"]"
   ]
  },
  {
   "cell_type": "markdown",
   "id": "8c2a2483",
   "metadata": {},
   "source": [
    "### Algorithm workbench problem 2"
   ]
  },
  {
   "cell_type": "markdown",
   "id": "70f4e38a",
   "metadata": {},
   "source": [
    "this problem wants us to assume names references a list, meaning it wants us to reference the list from the first problem and write a FOR loop that displays each element of the list."
   ]
  },
  {
   "cell_type": "code",
   "execution_count": 6,
   "id": "d844f919",
   "metadata": {},
   "outputs": [
    {
     "name": "stdout",
     "output_type": "stream",
     "text": [
      ",Einstein\n",
      "newton\n",
      "andkepler\n"
     ]
    }
   ],
   "source": [
    "for element in my_list:\n",
    "    print(element)"
   ]
  },
  {
   "cell_type": "markdown",
   "id": "8f921357",
   "metadata": {},
   "source": [
    "### programming excercise 1"
   ]
  },
  {
   "cell_type": "markdown",
   "id": "c115024d",
   "metadata": {},
   "source": [
    "this problem wants us to design a program that asks the user to enter a store's sales for each day of the week. the amounts should be stored in a list. use a loop to calculate the total sales for the week and display the result"
   ]
  },
  {
   "cell_type": "code",
   "execution_count": null,
   "id": "5b57cac4",
   "metadata": {},
   "outputs": [],
   "source": [
    " def main():\n",
    "        sales = []\n",
    "        for day in ['monday', 'tuesday', 'wednesday', 'thursday', 'friday', 'saturday', 'sunday' ]:\n",
    "            daily_sales = float(input(f\"enter sales for {day}: $\"))\n",
    "            sales.append(daily_sales)\n",
    "        \n",
    "        total_sales = sum(sales)\n",
    "        \n",
    "        \n",
    "        print(f\"Total sales for the week: ${total_sales:.2f}\")\n",
    "        \n",
    "        \n",
    " if __name__ == \"__main__\":\n",
    "    main()"
   ]
  },
  {
   "cell_type": "markdown",
   "id": "2cd4299d",
   "metadata": {},
   "source": [
    "### programming excercise 14"
   ]
  },
  {
   "cell_type": "markdown",
   "id": "a83a8fb5",
   "metadata": {},
   "source": [
    "this problem wants us to create a text file that contains your expenses for last month in certain categories and than write a program that reads the data from the file and uses matplot lib to plot a pie chart showing how you spend your money"
   ]
  },
  {
   "cell_type": "code",
   "execution_count": 5,
   "id": "12f5076b",
   "metadata": {},
   "outputs": [
    {
     "ename": "SyntaxError",
     "evalue": "invalid syntax (713143044.py, line 4)",
     "output_type": "error",
     "traceback": [
      "\u001b[1;36m  Cell \u001b[1;32mIn[5], line 4\u001b[1;36m\u001b[0m\n\u001b[1;33m    Car payment: 300\u001b[0m\n\u001b[1;37m        ^\u001b[0m\n\u001b[1;31mSyntaxError\u001b[0m\u001b[1;31m:\u001b[0m invalid syntax\n"
     ]
    }
   ],
   "source": [
    "Gas: 150\n",
    "Food: 400\n",
    "Clothing: 100\n",
    "Car payment: 300\n",
    "Misc: 200\n"
   ]
  },
  {
   "cell_type": "code",
   "execution_count": 6,
   "id": "60964fc2",
   "metadata": {},
   "outputs": [
    {
     "ename": "SyntaxError",
     "evalue": "expected ':' (532159880.py, line 4)",
     "output_type": "error",
     "traceback": [
      "\u001b[1;36m  Cell \u001b[1;32mIn[6], line 4\u001b[1;36m\u001b[0m\n\u001b[1;33m    with open('expenses.txt', 'r') as file\u001b[0m\n\u001b[1;37m                                          ^\u001b[0m\n\u001b[1;31mSyntaxError\u001b[0m\u001b[1;31m:\u001b[0m expected ':'\n"
     ]
    }
   ],
   "source": [
    " import matplotlib.pyplot as plt\n",
    "    \n",
    " exoenses = {}\n",
    " with open('expenses.txt', 'r') as file\n",
    "    for line in file:\n",
    "        category, amount = line.split\n",
    "        expenses[category] = float(amount)\n",
    "        \n",
    "        \n",
    " categories = list(expenses.keys())\n",
    " amounts = list(expenses.values())\n",
    "\n",
    "    \n",
    " plt.figure(figsize=(10, 7))\n",
    " plt.pie(amounts, abels=categories, autopct= '%1.1f%', startangle=140)\n",
    " plt.title('monthly expenses')\n",
    " plt.axis('equal')\n",
    "    plt.show()"
   ]
  },
  {
   "cell_type": "code",
   "execution_count": null,
   "id": "62ebc766",
   "metadata": {},
   "outputs": [],
   "source": []
  }
 ],
 "metadata": {
  "kernelspec": {
   "display_name": "Python 3 (ipykernel)",
   "language": "python",
   "name": "python3"
  },
  "language_info": {
   "codemirror_mode": {
    "name": "ipython",
    "version": 3
   },
   "file_extension": ".py",
   "mimetype": "text/x-python",
   "name": "python",
   "nbconvert_exporter": "python",
   "pygments_lexer": "ipython3",
   "version": "3.11.7"
  }
 },
 "nbformat": 4,
 "nbformat_minor": 5
}
