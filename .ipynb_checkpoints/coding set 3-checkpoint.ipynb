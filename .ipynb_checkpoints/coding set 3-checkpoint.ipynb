{
 "cells": [
  {
   "cell_type": "markdown",
   "id": "37d9982a",
   "metadata": {},
   "source": [
    "# coding set 3"
   ]
  },
  {
   "cell_type": "markdown",
   "id": "2078ea0b",
   "metadata": {},
   "source": [
    "### algorithm workbench problem 4 "
   ]
  },
  {
   "cell_type": "code",
   "execution_count": 27,
   "id": "6090fc5e",
   "metadata": {},
   "outputs": [
    {
     "ename": "NameError",
     "evalue": "name 'score' is not defined",
     "output_type": "error",
     "traceback": [
      "\u001b[1;31m---------------------------------------------------------------------------\u001b[0m",
      "\u001b[1;31mNameError\u001b[0m                                 Traceback (most recent call last)",
      "Cell \u001b[1;32mIn[27], line 1\u001b[0m\n\u001b[1;32m----> 1\u001b[0m \u001b[38;5;28;01mif\u001b[39;00m score \u001b[38;5;241m>\u001b[39m\u001b[38;5;241m=\u001b[39m A_score:\n\u001b[0;32m      2\u001b[0m     \u001b[38;5;28mprint\u001b[39m(\u001b[38;5;124m'\u001b[39m\u001b[38;5;124myour grade is A.\u001b[39m\u001b[38;5;124m'\u001b[39m)\n\u001b[0;32m      3\u001b[0m \u001b[38;5;28;01melse\u001b[39;00m:\n",
      "\u001b[1;31mNameError\u001b[0m: name 'score' is not defined"
     ]
    }
   ],
   "source": [
    "if score >= A_score:\n",
    "    print('your grade is A.')\n",
    "else:\n",
    "    if score >= B_score:\n",
    "        print('your grade is B.')\n",
    "    else:\n",
    "        if score >= C_score:\n",
    "            print('your grade is C.')\n",
    "        else:\n",
    "            if score >= D_Score:\n",
    "                print('your grade is D.')\n",
    "            else:\n",
    "                print('your grade is f.')"
   ]
  },
  {
   "cell_type": "markdown",
   "id": "9f8ff1db",
   "metadata": {},
   "source": [
    "i dont fully get why its saying name error, the score should be defined "
   ]
  },
  {
   "cell_type": "markdown",
   "id": "c6a24f53",
   "metadata": {},
   "source": [
    "### algorithm workbench problem 5"
   ]
  },
  {
   "cell_type": "code",
   "execution_count": 35,
   "id": "7e6cc66b",
   "metadata": {},
   "outputs": [
    {
     "ename": "NameError",
     "evalue": "name 'x' is not defined",
     "output_type": "error",
     "traceback": [
      "\u001b[1;31m---------------------------------------------------------------------------\u001b[0m",
      "\u001b[1;31mNameError\u001b[0m                                 Traceback (most recent call last)",
      "Cell \u001b[1;32mIn[35], line 1\u001b[0m\n\u001b[1;32m----> 1\u001b[0m amount1, amount2, \u001b[38;5;241m=\u001b[39m x,y\n",
      "\u001b[1;31mNameError\u001b[0m: name 'x' is not defined"
     ]
    }
   ],
   "source": [
    "amount1, amount2, = x, y"
   ]
  },
  {
   "cell_type": "markdown",
   "id": "fb80fe56",
   "metadata": {},
   "source": [
    "above i tried to figure out problem 5 with just the knowledge i had, below is after looking back at my resources to give me some awnsers "
   ]
  },
  {
   "cell_type": "code",
   "execution_count": null,
   "id": "9a24dc98",
   "metadata": {},
   "outputs": [],
   "source": [
    "if amount1 > 10 and amount2 < 100:\n",
    "    if amount1> amount2:\n",
    "        print(\"the greater of amount1 and amount2 is:\", amount1)\n",
    "    else:\n",
    "        print(\"the greater of amount1 and amount2 is:\", amount2)"
   ]
  },
  {
   "cell_type": "markdown",
   "id": "36dc49da",
   "metadata": {},
   "source": [
    "im still getting erros and i dont understand why, i plugged my code into chat gpt to try and help me figure it out but it says i need to assign amount1 and amount2 values but we are not given values to assign to them."
   ]
  },
  {
   "cell_type": "markdown",
   "id": "c35957b3",
   "metadata": {},
   "source": [
    "### programing excercise 1"
   ]
  },
  {
   "cell_type": "code",
   "execution_count": null,
   "id": "bcf6b6c3",
   "metadata": {},
   "outputs": [],
   "source": [
    "number = int(input(\"enter a number between 1 and 7:\"))\n",
    "\n",
    "if 1 <= number <=7:\n",
    "    if number == 1:\n",
    "        day = \"monday\"\n",
    "    elif number == 2:\n",
    "        day = \"tuesday\"\n",
    "    elif number == 3:\n",
    "        day = \"wednesday\"\n",
    "    elif number == 4:\n",
    "        day = \"thursday\"\n",
    "    elif number == 5:\n",
    "        day = \"friday\"\n",
    "    elif number ==6:\n",
    "        day = \"saturday\"\n",
    "    else: \n",
    "        day = \"sunday\" \n",
    "        \n",
    "print(\"the coresponding day of the week is:\", day)\n",
    "else:\n",
    "    print('error: please enter a number between 1 and 7.')"
   ]
  },
  {
   "cell_type": "markdown",
   "id": "f4dfa30a",
   "metadata": {},
   "source": [
    "for some reason it still doesnt execute the code when i press shift and enter or when i press the button in the top left corner of the code box"
   ]
  },
  {
   "cell_type": "code",
   "execution_count": null,
   "id": "2accf770",
   "metadata": {},
   "outputs": [],
   "source": []
  }
 ],
 "metadata": {
  "kernelspec": {
   "display_name": "Python 3 (ipykernel)",
   "language": "python",
   "name": "python3"
  },
  "language_info": {
   "codemirror_mode": {
    "name": "ipython",
    "version": 3
   },
   "file_extension": ".py",
   "mimetype": "text/x-python",
   "name": "python",
   "nbconvert_exporter": "python",
   "pygments_lexer": "ipython3",
   "version": "3.11.7"
  }
 },
 "nbformat": 4,
 "nbformat_minor": 5
}
