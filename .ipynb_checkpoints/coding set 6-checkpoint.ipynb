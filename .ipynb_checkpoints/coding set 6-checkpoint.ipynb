{
 "cells": [
  {
   "cell_type": "markdown",
   "id": "f4315572",
   "metadata": {},
   "source": [
    "# coding set 6"
   ]
  },
  {
   "cell_type": "markdown",
   "id": "507d6fc7",
   "metadata": {},
   "source": [
    "### algorithm workbench question 1"
   ]
  },
  {
   "cell_type": "markdown",
   "id": "f6c41cae",
   "metadata": {},
   "source": [
    "this problem wants us to write a program that opens an output file with the filename my_name.txt, writes your name to the file, then closes the file "
   ]
  },
  {
   "cell_type": "code",
   "execution_count": 11,
   "id": "6c26b015",
   "metadata": {},
   "outputs": [],
   "source": [
    "with open('output.txt', 'w') as file:\n",
    "    file.write(\"Andy Kovacs\")"
   ]
  },
  {
   "cell_type": "markdown",
   "id": "eb0fc8f9",
   "metadata": {},
   "source": [
    "### Algorithm workbench question 3"
   ]
  },
  {
   "cell_type": "markdown",
   "id": "842b9dc2",
   "metadata": {},
   "source": [
    "This problem wants us to write a code that opens an output file with the filename number_list.txt, uses a loop to write the numbers 1 through 100 to the file, then closes the file."
   ]
  },
  {
   "cell_type": "code",
   "execution_count": 17,
   "id": "a2d2761c",
   "metadata": {},
   "outputs": [],
   "source": [
    "with open('numbers.txt', 'w') as file:\n",
    "    \n",
    "    for num in range(1, 101):\n",
    "        file.write(str(num) + '\\n')"
   ]
  },
  {
   "cell_type": "markdown",
   "id": "5f862690",
   "metadata": {},
   "source": [
    "### programing excercise 1"
   ]
  },
  {
   "cell_type": "markdown",
   "id": "ae37000f",
   "metadata": {},
   "source": [
    "this problem wants us to assume a file containing a seeries of integers is named numbers.txt and exists on the computers disk. write a prgram that displays all of the numbers in the file."
   ]
  },
  {
   "cell_type": "code",
   "execution_count": 19,
   "id": "c8b0ed05",
   "metadata": {},
   "outputs": [
    {
     "name": "stdout",
     "output_type": "stream",
     "text": [
      "1\n",
      "2\n",
      "3\n",
      "4\n",
      "5\n",
      "6\n",
      "7\n",
      "8\n",
      "9\n",
      "10\n",
      "11\n",
      "12\n",
      "13\n",
      "14\n",
      "15\n",
      "16\n",
      "17\n",
      "18\n",
      "19\n",
      "20\n",
      "21\n",
      "22\n",
      "23\n",
      "24\n",
      "25\n",
      "26\n",
      "27\n",
      "28\n",
      "29\n",
      "30\n",
      "31\n",
      "32\n",
      "33\n",
      "34\n",
      "35\n",
      "36\n",
      "37\n",
      "38\n",
      "39\n",
      "40\n",
      "41\n",
      "42\n",
      "43\n",
      "44\n",
      "45\n",
      "46\n",
      "47\n",
      "48\n",
      "49\n",
      "50\n",
      "51\n",
      "52\n",
      "53\n",
      "54\n",
      "55\n",
      "56\n",
      "57\n",
      "58\n",
      "59\n",
      "60\n",
      "61\n",
      "62\n",
      "63\n",
      "64\n",
      "65\n",
      "66\n",
      "67\n",
      "68\n",
      "69\n",
      "70\n",
      "71\n",
      "72\n",
      "73\n",
      "74\n",
      "75\n",
      "76\n",
      "77\n",
      "78\n",
      "79\n",
      "80\n",
      "81\n",
      "82\n",
      "83\n",
      "84\n",
      "85\n",
      "86\n",
      "87\n",
      "88\n",
      "89\n",
      "90\n",
      "91\n",
      "92\n",
      "93\n",
      "94\n",
      "95\n",
      "96\n",
      "97\n",
      "98\n",
      "99\n",
      "100\n"
     ]
    }
   ],
   "source": [
    " with open('numbers.txt', 'r') as file:\n",
    "        \n",
    "        lines = file.readlines()\n",
    "        \n",
    "        for line in lines:\n",
    "            \n",
    "            print(line.strip())"
   ]
  },
  {
   "cell_type": "markdown",
   "id": "c72c49ed",
   "metadata": {},
   "source": [
    "### Programming excercise 6"
   ]
  },
  {
   "cell_type": "markdown",
   "id": "5ec0e76b",
   "metadata": {},
   "source": [
    "in this problem we are supposed to write a set of code that assumes a file containing a series of integers is named numbers.txt and exists on the computers disk. write a program that calculates the average of all the numbers stored in the file."
   ]
  },
  {
   "cell_type": "code",
   "execution_count": 25,
   "id": "24fc6746",
   "metadata": {},
   "outputs": [
    {
     "name": "stdout",
     "output_type": "stream",
     "text": [
      "The average of the numbers in the file is: 50.5\n"
     ]
    }
   ],
   "source": [
    "total_sum = 0\n",
    "count = 0\n",
    "\n",
    "with open('numbers.txt', 'r') as file:\n",
    "    lines = file.readlines()\n",
    "    \n",
    "    for line in lines:\n",
    "        \n",
    "        number = int(line.strip())\n",
    "        \n",
    "        total_sum += number\n",
    "        \n",
    "        count += 1\n",
    "        \n",
    "if count > 0:\n",
    "    average = total_sum / count\n",
    "    print(f\"The average of the numbers in the file is: {average}\")\n",
    "else:\n",
    "    print(\"The file is empty or does not conatin valid numbers.\")"
   ]
  },
  {
   "cell_type": "markdown",
   "id": "63bd637e",
   "metadata": {},
   "source": [
    "### programming excercise 9"
   ]
  },
  {
   "cell_type": "markdown",
   "id": "8c56fe25",
   "metadata": {},
   "source": [
    "in this problem we are asked to modify the program that we wrote in excercise 6 so it handles the following exceptions, it wants the code to handle any IOERROR exceptions that are raised when the file is opened and data is read from it, and it also wants the code to handle any VALUEERROR exceptions that are raised when the items are read from the file converted to a number"
   ]
  },
  {
   "cell_type": "code",
   "execution_count": 34,
   "id": "a5c5d950",
   "metadata": {},
   "outputs": [
    {
     "name": "stdout",
     "output_type": "stream",
     "text": [
      "The average of the valid numbers in the file is: 50.5\n"
     ]
    }
   ],
   "source": [
    "total_sum = 0\n",
    "count = 0\n",
    "\n",
    "try:\n",
    "    with open('numbers.txt', 'r') as file:\n",
    "        lines = file.readlines()\n",
    "        \n",
    "        for line in lines:\n",
    "            try:\n",
    "                number = int(line.strip())\n",
    "                total_sum += number\n",
    "                count += 1\n",
    "            except ValueError:\n",
    "                print(f\"Warning: Skipped invalid number in file at line '{line.strip()}'\")\n",
    "        \n",
    "        if count > 0:\n",
    "            average = total_sum / count\n",
    "            print(f\"The average of the valid numbers in the file is: {average}\")\n",
    "        else:\n",
    "            print(\"The file is empty or does not contain valid numbers.\")\n",
    "            \n",
    "except FileNotFoundError:\n",
    "    print(\"Error: The file 'numbers.txt' was not found.\")\n",
    "except IOError:\n",
    "    print(\"Error: An IOError occurred while trying to read the file.\")\n",
    "except Exception as e:\n",
    "    print(f\"Error: An unexpected error occurred: {str(e)}\")"
   ]
  },
  {
   "cell_type": "markdown",
   "id": "e5e37cc9",
   "metadata": {},
   "source": [
    "### programming excercise 10 'golf scores'"
   ]
  },
  {
   "cell_type": "markdown",
   "id": "5307b206",
   "metadata": {},
   "source": [
    "this problem is asking us to write two prgrams, one of the programs will read each players name and golf score and the other reads the recoerds and displayes them from the springfork amature golf club"
   ]
  },
  {
   "cell_type": "code",
   "execution_count": null,
   "id": "28e7503a",
   "metadata": {},
   "outputs": [
    {
     "name": "stdout",
     "output_type": "stream",
     "text": [
      "Enter player's name (or 'quit' to stop): Andy\n",
      "Enter golf score: 96\n"
     ]
    }
   ],
   "source": [
    "def write_player_records(filename):\n",
    "    try:\n",
    "        with open(filename, 'w') as file:\n",
    "            while True:\n",
    "                player_name = input(\"Enter player's name (or 'quit' to stop): \")\n",
    "                if player_name.lower() == 'quit':\n",
    "                    break\n",
    "                golf_score = input(\"Enter golf score: \")\n",
    "                \n",
    "                file.write(f\"{player_name},{golf_score}\\n\")\n",
    "                \n",
    "        print(f\"Player records have been saved to '{filename}'.\")\n",
    "        \n",
    "    except IOError:\n",
    "        print(f\"Error: Could not write to file '{filename}'.\")\n",
    "    except Exception as e:\n",
    "        print(f\"Error: An unexpected error occurred: {str(e)}\")\n",
    "\n",
    "# Example usage:\n",
    "write_player_records('player_records.txt')"
   ]
  },
  {
   "cell_type": "code",
   "execution_count": null,
   "id": "469e4ae3",
   "metadata": {},
   "outputs": [],
   "source": []
  }
 ],
 "metadata": {
  "kernelspec": {
   "display_name": "Python 3 (ipykernel)",
   "language": "python",
   "name": "python3"
  },
  "language_info": {
   "codemirror_mode": {
    "name": "ipython",
    "version": 3
   },
   "file_extension": ".py",
   "mimetype": "text/x-python",
   "name": "python",
   "nbconvert_exporter": "python",
   "pygments_lexer": "ipython3",
   "version": "3.11.7"
  }
 },
 "nbformat": 4,
 "nbformat_minor": 5
}
