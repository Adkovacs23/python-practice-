{
 "cells": [
  {
   "cell_type": "markdown",
   "id": "8c7744c2",
   "metadata": {},
   "source": [
    "# coding set 10"
   ]
  },
  {
   "cell_type": "markdown",
   "id": "ea1d1361",
   "metadata": {},
   "source": [
    "### programming excercise 2"
   ]
  },
  {
   "cell_type": "markdown",
   "id": "b9865206",
   "metadata": {},
   "source": [
    "this problem wants us to write a line of code that talks about a car and gives certain classifications such as make, model, speed, ect."
   ]
  },
  {
   "cell_type": "code",
   "execution_count": 2,
   "id": "71fe25c8",
   "metadata": {},
   "outputs": [
    {
     "name": "stdout",
     "output_type": "stream",
     "text": [
      "Current speed after accelerating: 5 km/h\n",
      "Current speed after accelerating: 10 km/h\n",
      "Current speed after accelerating: 15 km/h\n",
      "Current speed after accelerating: 20 km/h\n",
      "Current speed after accelerating: 25 km/h\n",
      "Current speed after braking: 20 km/h\n",
      "Current speed after braking: 15 km/h\n",
      "Current speed after braking: 10 km/h\n",
      "Current speed after braking: 5 km/h\n",
      "Current speed after braking: 0 km/h\n"
     ]
    }
   ],
   "source": [
    "class Car:\n",
    "    def __init__(self, year_model, make):\n",
    "        self.year_model = year_model\n",
    "        self.make = make\n",
    "        self.current_speed = 0\n",
    "\n",
    "    def accelerate(self):\n",
    "        self.current_speed += 5\n",
    "\n",
    "    def brake(self):\n",
    "        self.current_speed = max(0, self.current_speed - 5)\n",
    "\n",
    "    def get_speed(self):\n",
    "        return self.current_speed\n",
    "\n",
    "# Testing the Car class\n",
    "def test_car():\n",
    "    # Create a Car object\n",
    "    car = Car(2021, \"Honda\")\n",
    "\n",
    "    # Call the accelerate method five times\n",
    "    for _ in range(5):\n",
    "        car.accelerate()\n",
    "        print(f\"Current speed after accelerating: {car.get_speed()} km/h\")\n",
    "\n",
    "    # Call the brake method five times\n",
    "    for _ in range(5):\n",
    "        car.brake()\n",
    "        print(f\"Current speed after braking: {car.get_speed()} km/h\")\n",
    "\n",
    "# Run the test\n",
    "test_car()"
   ]
  },
  {
   "cell_type": "markdown",
   "id": "56915258",
   "metadata": {},
   "source": [
    "here is a flowchart to help explain programming problem 2\n",
    "\n",
    "\n",
    "Start\n",
    "  |\n",
    "  v\n",
    "+---------------------+\n",
    "| Define Car Class    |\n",
    "|                     |\n",
    "| __init__(self,      |\n",
    "| year_model, make)   |\n",
    "|                     |\n",
    "| accelerate(self)    |\n",
    "|                     |\n",
    "| brake(self)         |\n",
    "|                     |\n",
    "| get_speed(self)     |\n",
    "+---------------------+\n",
    "  |\n",
    "  v\n",
    "+---------------------+\n",
    "| Define test_car     |\n",
    "| Function            |\n",
    "+---------------------+\n",
    "  |\n",
    "  v\n",
    "+---------------------+\n",
    "| Create Car Object   |\n",
    "| car = Car(2021,     |\n",
    "| \"Honda\")            |\n",
    "+---------------------+\n",
    "  |\n",
    "  v\n",
    "+---------------------+\n",
    "| Loop 5 times:       |\n",
    "| car.accelerate()    |\n",
    "| Print Speed         |\n",
    "+---------------------+\n",
    "  |\n",
    "  v\n",
    "+---------------------+\n",
    "| Loop 5 times:       |\n",
    "| car.brake()         |\n",
    "| Print Speed         |\n",
    "+---------------------+\n",
    "  |\n",
    "  v\n",
    "+---------------------+\n",
    "| Call test_car       |\n",
    "| Function            |\n",
    "+---------------------+\n",
    "  |\n",
    "  v\n",
    "End\n"
   ]
  },
  {
   "cell_type": "markdown",
   "id": "be2c94e5",
   "metadata": {},
   "source": [
    "### programming problem 1"
   ]
  },
  {
   "cell_type": "markdown",
   "id": "12ba335d",
   "metadata": {},
   "source": [
    "this problem is asking us to write a set of code with a class named pet, it wants us to include different data attributes such as name, animal type, age ect."
   ]
  },
  {
   "cell_type": "code",
   "execution_count": 5,
   "id": "96cf88f3",
   "metadata": {},
   "outputs": [
    {
     "name": "stdout",
     "output_type": "stream",
     "text": [
      "Enter the name of your pet: bob\n",
      "Enter the type of animal (e.g., Dog, Cat, Bird): dog\n",
      "Enter the age of your pet: 2\n",
      "\n",
      "Here are the details of your pet:\n",
      "Name: bob\n",
      "Type: dog\n",
      "Age: 2\n"
     ]
    }
   ],
   "source": [
    "class Pet:\n",
    "    def __init__(self, name, animal_type, age):\n",
    "        self._name = name\n",
    "        self._animal_type = animal_type\n",
    "        self._age = age\n",
    "\n",
    "    # Mutator (setter) methods\n",
    "    def set_name(self, name):\n",
    "        self._name = name\n",
    "\n",
    "    def set_animal_type(self, animal_type):\n",
    "        self._animal_type = animal_type\n",
    "\n",
    "    def set_age(self, age):\n",
    "        self._age = age\n",
    "\n",
    "    # Accessor (getter) methods\n",
    "    def get_name(self):\n",
    "        return self._name\n",
    "\n",
    "    def get_animal_type(self):\n",
    "        return self._animal_type\n",
    "\n",
    "    def get_age(self):\n",
    "        return self._age\n",
    "\n",
    "# Program to create a Pet object and interact with the user\n",
    "def main():\n",
    "    # Prompt the user for pet's name, type, and age\n",
    "    name = input(\"Enter the name of your pet: \")\n",
    "    animal_type = input(\"Enter the type of animal (e.g., Dog, Cat, Bird): \")\n",
    "    age = int(input(\"Enter the age of your pet: \"))\n",
    "\n",
    "    # Create a Pet object with the provided data\n",
    "    pet = Pet(name, animal_type, age)\n",
    "\n",
    "    # Display the pet's details using accessor methods\n",
    "    print(\"\\nHere are the details of your pet:\")\n",
    "    print(f\"Name: {pet.get_name()}\")\n",
    "    print(f\"Type: {pet.get_animal_type()}\")\n",
    "    print(f\"Age: {pet.get_age()}\")\n",
    "\n",
    "# Run the program\n",
    "if __name__ == \"__main__\":\n",
    "    main()\n"
   ]
  },
  {
   "cell_type": "markdown",
   "id": "2a1f1ee1",
   "metadata": {},
   "source": [
    "here is a flowchart to help explain my code\n",
    "\n",
    "\n",
    "+-------------------------+\n",
    "|         Start           |\n",
    "+-------------------------+\n",
    "            |\n",
    "            v\n",
    "+-------------------------+\n",
    "|     Create Pet Class    |\n",
    "| - Define __init__ method|\n",
    "| - Define setter methods |\n",
    "|   - set_name            |\n",
    "|   - set_animal_type     |\n",
    "|   - set_age             |\n",
    "| - Define getter methods |\n",
    "|   - get_name            |\n",
    "|   - get_animal_type     |\n",
    "|   - get_age             |\n",
    "+-------------------------+\n",
    "            |\n",
    "            v\n",
    "+-------------------------+\n",
    "|      Main Program       |\n",
    "| - Prompt user for:     |\n",
    "|   - Pet's name          |\n",
    "|   - Pet's type          |\n",
    "|   - Pet's age           |\n",
    "| - Create Pet object     |\n",
    "|   with user data        |\n",
    "| - Display pet's details |\n",
    "|   using getter methods  |\n",
    "+-------------------------+\n",
    "            |\n",
    "            v\n",
    "+-------------------------+\n",
    "|         End             |\n",
    "+-------------------------+\n"
   ]
  }
 ],
 "metadata": {
  "kernelspec": {
   "display_name": "Python 3 (ipykernel)",
   "language": "python",
   "name": "python3"
  },
  "language_info": {
   "codemirror_mode": {
    "name": "ipython",
    "version": 3
   },
   "file_extension": ".py",
   "mimetype": "text/x-python",
   "name": "python",
   "nbconvert_exporter": "python",
   "pygments_lexer": "ipython3",
   "version": "3.11.7"
  }
 },
 "nbformat": 4,
 "nbformat_minor": 5
}
