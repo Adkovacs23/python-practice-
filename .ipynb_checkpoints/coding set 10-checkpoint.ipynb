{
 "cells": [
  {
   "cell_type": "markdown",
   "id": "eb5c06aa",
   "metadata": {},
   "source": [
    "# coding set 10"
   ]
  },
  {
   "cell_type": "markdown",
   "id": "52b11735",
   "metadata": {},
   "source": [
    "### programming excercise 2"
   ]
  },
  {
   "cell_type": "markdown",
   "id": "a2dcb3ee",
   "metadata": {},
   "source": [
    "this problem wants us to write a line of code that talks about a car and gives certain classifications such as make, model, speed, ect."
   ]
  },
  {
   "cell_type": "code",
   "execution_count": 2,
   "id": "55b59e5b",
   "metadata": {},
   "outputs": [
    {
     "name": "stdout",
     "output_type": "stream",
     "text": [
      "Current speed after accelerating: 5 km/h\n",
      "Current speed after accelerating: 10 km/h\n",
      "Current speed after accelerating: 15 km/h\n",
      "Current speed after accelerating: 20 km/h\n",
      "Current speed after accelerating: 25 km/h\n",
      "Current speed after braking: 20 km/h\n",
      "Current speed after braking: 15 km/h\n",
      "Current speed after braking: 10 km/h\n",
      "Current speed after braking: 5 km/h\n",
      "Current speed after braking: 0 km/h\n"
     ]
    }
   ],
   "source": [
    "class Car:\n",
    "    def __init__(self, year_model, make):\n",
    "        self.year_model = year_model\n",
    "        self.make = make\n",
    "        self.current_speed = 0\n",
    "\n",
    "    def accelerate(self):\n",
    "        self.current_speed += 5\n",
    "\n",
    "    def brake(self):\n",
    "        self.current_speed = max(0, self.current_speed - 5)\n",
    "\n",
    "    def get_speed(self):\n",
    "        return self.current_speed\n",
    "\n",
    "# Testing the Car class\n",
    "def test_car():\n",
    "    # Create a Car object\n",
    "    car = Car(2021, \"Honda\")\n",
    "\n",
    "    # Call the accelerate method five times\n",
    "    for _ in range(5):\n",
    "        car.accelerate()\n",
    "        print(f\"Current speed after accelerating: {car.get_speed()} km/h\")\n",
    "\n",
    "    # Call the brake method five times\n",
    "    for _ in range(5):\n",
    "        car.brake()\n",
    "        print(f\"Current speed after braking: {car.get_speed()} km/h\")\n",
    "\n",
    "# Run the test\n",
    "test_car()"
   ]
  },
  {
   "cell_type": "markdown",
   "id": "37bd458b",
   "metadata": {},
   "source": [
    "here is a flowchart to help explain programming problem 2\n",
    "\n",
    "\n",
    "Start\n",
    "  |\n",
    "  v\n",
    "+---------------------+\n",
    "| Define Car Class    |\n",
    "|                     |\n",
    "| __init__(self,      |\n",
    "| year_model, make)   |\n",
    "|                     |\n",
    "| accelerate(self)    |\n",
    "|                     |\n",
    "| brake(self)         |\n",
    "|                     |\n",
    "| get_speed(self)     |\n",
    "+---------------------+\n",
    "  |\n",
    "  v\n",
    "+---------------------+\n",
    "| Define test_car     |\n",
    "| Function            |\n",
    "+---------------------+\n",
    "  |\n",
    "  v\n",
    "+---------------------+\n",
    "| Create Car Object   |\n",
    "| car = Car(2021,     |\n",
    "| \"Honda\")            |\n",
    "+---------------------+\n",
    "  |\n",
    "  v\n",
    "+---------------------+\n",
    "| Loop 5 times:       |\n",
    "| car.accelerate()    |\n",
    "| Print Speed         |\n",
    "+---------------------+\n",
    "  |\n",
    "  v\n",
    "+---------------------+\n",
    "| Loop 5 times:       |\n",
    "| car.brake()         |\n",
    "| Print Speed         |\n",
    "+---------------------+\n",
    "  |\n",
    "  v\n",
    "+---------------------+\n",
    "| Call test_car       |\n",
    "| Function            |\n",
    "+---------------------+\n",
    "  |\n",
    "  v\n",
    "End\n"
   ]
  },
  {
   "cell_type": "code",
   "execution_count": null,
   "id": "ac7d007d",
   "metadata": {},
   "outputs": [],
   "source": []
  }
 ],
 "metadata": {
  "kernelspec": {
   "display_name": "Python 3 (ipykernel)",
   "language": "python",
   "name": "python3"
  },
  "language_info": {
   "codemirror_mode": {
    "name": "ipython",
    "version": 3
   },
   "file_extension": ".py",
   "mimetype": "text/x-python",
   "name": "python",
   "nbconvert_exporter": "python",
   "pygments_lexer": "ipython3",
   "version": "3.11.7"
  }
 },
 "nbformat": 4,
 "nbformat_minor": 5
}
