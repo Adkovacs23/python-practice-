{
 "cells": [
  {
   "cell_type": "markdown",
   "id": "aec42249",
   "metadata": {},
   "source": [
    "# coding set 5"
   ]
  },
  {
   "cell_type": "markdown",
   "id": "8ef18d2b",
   "metadata": {},
   "source": [
    "### algorithm workbench question 1"
   ]
  },
  {
   "cell_type": "code",
   "execution_count": 47,
   "id": "9f71e260",
   "metadata": {},
   "outputs": [
    {
     "ename": "SyntaxError",
     "evalue": "expected ':' (903309339.py, line 1)",
     "output_type": "error",
     "traceback": [
      "\u001b[1;36m  Cell \u001b[1;32mIn[47], line 1\u001b[1;36m\u001b[0m\n\u001b[1;33m    def multiply_by_10(num)\u001b[0m\n\u001b[1;37m                           ^\u001b[0m\n\u001b[1;31mSyntaxError\u001b[0m\u001b[1;31m:\u001b[0m expected ':'\n"
     ]
    }
   ],
   "source": [
    " def multiply_by_10(num):\n",
    "    result = num * 10\n",
    "    print(result)"
   ]
  },
  {
   "cell_type": "raw",
   "id": "b0aeae98",
   "metadata": {},
   "source": [
    "i tried writing the code mysself and than plugged it into chat gpt to see my errors and learned i forgot to put underscores instead of spaces and i forgot put a semi colon. need to make sure i slow down and dont make silly mistakes like this."
   ]
  },
  {
   "cell_type": "code",
   "execution_count": 45,
   "id": "43e414bd",
   "metadata": {},
   "outputs": [],
   "source": [
    "def multiply_by_10(num):\n",
    "    result = num * 10\n",
    "    print(result)"
   ]
  },
  {
   "cell_type": "markdown",
   "id": "e5457fbc",
   "metadata": {},
   "source": [
    "### Algorithm workbench question 10"
   ]
  },
  {
   "cell_type": "code",
   "execution_count": 22,
   "id": "def53e01",
   "metadata": {},
   "outputs": [
    {
     "ename": "SyntaxError",
     "evalue": "invalid syntax (2824371516.py, line 3)",
     "output_type": "error",
     "traceback": [
      "\u001b[1;36m  Cell \u001b[1;32mIn[22], line 3\u001b[1;36m\u001b[0m\n\u001b[1;33m    returns first_name\u001b[0m\n\u001b[1;37m            ^\u001b[0m\n\u001b[1;31mSyntaxError\u001b[0m\u001b[1;31m:\u001b[0m invalid syntax\n"
     ]
    }
   ],
   "source": [
    " def get_first_name():\n",
    "    first_name = input('please enter your first name: ')\n",
    "    returns first_name"
   ]
  },
  {
   "cell_type": "markdown",
   "id": "56b0b394",
   "metadata": {},
   "source": [
    "this is my original code, after plugging into chat gpt i found that i accidently added an s in returns so jupiter notebook didnt recocnize the task i was giving. "
   ]
  },
  {
   "cell_type": "code",
   "execution_count": 56,
   "id": "62f6d869",
   "metadata": {},
   "outputs": [],
   "source": [
    " def get_first_name():\n",
    "        first_name = input(\"please enter your first name; \")\n",
    "        return first_name"
   ]
  },
  {
   "cell_type": "markdown",
   "id": "12d5f778",
   "metadata": {},
   "source": [
    "### programming excercise 1"
   ]
  },
  {
   "cell_type": "code",
   "execution_count": null,
   "id": "5d1f6739",
   "metadata": {},
   "outputs": [],
   "source": [
    "def kilometers_to_miles(kilometers):\n",
    "    miles = kilometers * 0.621371\n",
    "    return miles\n",
    "\n",
    "def main():\n",
    "    kilometers = float(input(\"please enter a distance in kilometers: \"))\n",
    "    \n",
    "    miles = kilometers_to_miles(kilometers)\n",
    "    \n",
    "    print(f\"{kilometers} kilometers is equal to {miles} miles.\")\n",
    "    \n",
    "if __name__==\"__main__\":\n",
    "    main()"
   ]
  },
  {
   "cell_type": "markdown",
   "id": "e8b7305f",
   "metadata": {},
   "source": [
    "this problem i got the code right on the first try, i did have to use chat gpt as a reference for the conversion of kilometers to miles and to help me with 1 small line of code i forgot how to write but i didnt have any errors in my code i needed chat gpts help with. "
   ]
  },
  {
   "cell_type": "markdown",
   "id": "e7b0fe62",
   "metadata": {},
   "source": [
    "### programming excercise prime numbers "
   ]
  },
  {
   "cell_type": "code",
   "execution_count": null,
   "id": "01b2bbd7",
   "metadata": {},
   "outputs": [],
   "source": [
    "def is_prime(number):\n",
    "    if number <= 1:\n",
    "        return false\n",
    "    for i in range(2, int(number ** 0.5) + 1):\n",
    "        if number % i == 0:\n",
    "            return false\n",
    "        return true\n",
    "    \n",
    "def main():\n",
    "    num = int(input(\"enter a number: \"))\n",
    "    \n",
    "    if is_prime(num):\n",
    "        print(f\"{num} is a prime number.\")\n",
    "    else:\n",
    "        print(f\"{num} is not a prime number.\")\n",
    "        \n",
    "if __name__== \"__main__\":\n",
    "    main()"
   ]
  },
  {
   "cell_type": "markdown",
   "id": "f0e0c2ae",
   "metadata": {},
   "source": [
    "in this excercise i had trouble getting the code to run what i was telling it to run, i used chat gpt to help try and brainstorm what could be the problem but ended up fiddling around with jupiter notebook"
   ]
  },
  {
   "cell_type": "markdown",
   "id": "20a1d0b0",
   "metadata": {},
   "source": [
    "### prime number list "
   ]
  },
  {
   "cell_type": "code",
   "execution_count": null,
   "id": "c7c3e2df",
   "metadata": {},
   "outputs": [],
   "source": [
    "def is_prime(number):\n",
    "    if number <=1:\n",
    "        return false\n",
    "    for i in range(2, int(number ** 0.5) + 1):\n",
    "        if number % 1 == 0:\n",
    "            return false\n",
    "        return true\n",
    "\n",
    "    def main():\n",
    "        print(\"prime numbers from 1 to 100 are:\")\n",
    "        for num in range(1, 101):\n",
    "            if is_prime(num):\n",
    "                print(num, end=\" \")\n",
    "                \n",
    "if __name__ == \"__main__\":\n",
    "    main()"
   ]
  },
  {
   "cell_type": "markdown",
   "id": "405f9682",
   "metadata": {},
   "source": [
    "in this problem i used chat gpt to find my error and figured out i had missed a semi colon at the end of 1 line of code"
   ]
  },
  {
   "cell_type": "markdown",
   "id": "c6259800",
   "metadata": {},
   "source": [
    "### programming problem 10 math quiz"
   ]
  },
  {
   "cell_type": "code",
   "execution_count": null,
   "id": "8e5ddda6",
   "metadata": {},
   "outputs": [],
   "source": [
    "import random \n",
    "\n",
    "def math_quiz():\n",
    "    num1 = random.randint(1, 100)\n",
    "    num2 = random.randint(1, 100)\n",
    "    \n",
    "    print(f\"what is {num1} + {num2}?\")\n",
    "    \n",
    "    user_answer + int(input(\"your awnser:\"))\n",
    "    \n",
    "    correct_answer = num1 + num2\n",
    "    \n",
    "    if user_answer == correct_answer:\n",
    "        print(\"congratulations! your answer is correct:\")\n",
    "    else:\n",
    "        print(f\"sorry, that's inncorrect, the correct answer is {correct_answer}.\")\n",
    "        \n",
    "if __name__ == \"__main__\":\n",
    "    math_quiz()"
   ]
  },
  {
   "cell_type": "markdown",
   "id": "83ae0b75",
   "metadata": {},
   "source": [
    "in this set of code i used chat gpt to help figure out what the syntax error was and found out that i put spaces in between random and randint instead of periods whcich caused the code to malfunction and not run properly "
   ]
  },
  {
   "cell_type": "code",
   "execution_count": null,
   "id": "d090996a",
   "metadata": {},
   "outputs": [],
   "source": []
  }
 ],
 "metadata": {
  "kernelspec": {
   "display_name": "Python 3 (ipykernel)",
   "language": "python",
   "name": "python3"
  },
  "language_info": {
   "codemirror_mode": {
    "name": "ipython",
    "version": 3
   },
   "file_extension": ".py",
   "mimetype": "text/x-python",
   "name": "python",
   "nbconvert_exporter": "python",
   "pygments_lexer": "ipython3",
   "version": "3.11.7"
  }
 },
 "nbformat": 4,
 "nbformat_minor": 5
}
