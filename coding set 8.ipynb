{
 "cells": [
  {
   "cell_type": "markdown",
   "id": "8d76096e",
   "metadata": {},
   "source": [
    "# coding set 8"
   ]
  },
  {
   "cell_type": "markdown",
   "id": "3db51285",
   "metadata": {},
   "source": [
    "### algorithm workbench problem 2"
   ]
  },
  {
   "cell_type": "markdown",
   "id": "d99085cf",
   "metadata": {},
   "source": [
    "this question wants  us to write a loop that counts the number of space charecters that apprear in the string referenced by mystring"
   ]
  },
  {
   "cell_type": "code",
   "execution_count": 2,
   "id": "7d502aaf",
   "metadata": {},
   "outputs": [
    {
     "name": "stdout",
     "output_type": "stream",
     "text": [
      "number of spaces: 7\n"
     ]
    }
   ],
   "source": [
    " sample_string = \"this is a sample string with some spaces.\"\n",
    "    \n",
    " space_count = 0\n",
    "\n",
    "\n",
    " for char in sample_string:\n",
    "     if char == ' ':\n",
    "        space_count += 1\n",
    "        \n",
    "        \n",
    " print(\"number of spaces:\", space_count)"
   ]
  },
  {
   "cell_type": "markdown",
   "id": "17cf316d",
   "metadata": {},
   "source": [
    "### algorithm workbench problem 3"
   ]
  },
  {
   "cell_type": "markdown",
   "id": "2e688077",
   "metadata": {},
   "source": [
    "this problem wants us to write a loop that counts the number of digits that appear in the string referenced by mystring"
   ]
  },
  {
   "cell_type": "code",
   "execution_count": 4,
   "id": "fc71453c",
   "metadata": {},
   "outputs": [
    {
     "name": "stdout",
     "output_type": "stream",
     "text": [
      "number of digits: 6\n"
     ]
    }
   ],
   "source": [
    " sample_string = \"this string contains some digits like 123 and 456.\"\n",
    "    \n",
    " digit_count = 0\n",
    "\n",
    " for char in sample_string:\n",
    "     if char.isdigit():\n",
    "        digit_count += 1\n",
    "        \n",
    "        \n",
    " print(\"number of digits:\", digit_count)"
   ]
  },
  {
   "cell_type": "markdown",
   "id": "17787e60",
   "metadata": {},
   "source": [
    "### programming excercies 1"
   ]
  },
  {
   "cell_type": "markdown",
   "id": "e95b05db",
   "metadata": {},
   "source": [
    "this question wants us to write a program that gets a string containing a person's first, middle, and last names, and displays their first, middle, and last initials. for example, if the user enters john william smit, the program should display j.w.s"
   ]
  },
  {
   "cell_type": "code",
   "execution_count": null,
   "id": "ac9b6bc8",
   "metadata": {},
   "outputs": [],
   "source": [
    " full_name = input(\"enter your first, middle, and last names: \")\n",
    "    \n",
    "    \n",
    " name_parts = full_name.split()\n",
    "\n",
    " initials = [name_part[0].upper() + '.' for name_part in name_parts]\n",
    "    \n",
    "    \n",
    " initials_string = ' '.joing(initials)\n",
    "pring"
   ]
  }
 ],
 "metadata": {
  "kernelspec": {
   "display_name": "Python 3 (ipykernel)",
   "language": "python",
   "name": "python3"
  },
  "language_info": {
   "codemirror_mode": {
    "name": "ipython",
    "version": 3
   },
   "file_extension": ".py",
   "mimetype": "text/x-python",
   "name": "python",
   "nbconvert_exporter": "python",
   "pygments_lexer": "ipython3",
   "version": "3.11.7"
  }
 },
 "nbformat": 4,
 "nbformat_minor": 5
}
