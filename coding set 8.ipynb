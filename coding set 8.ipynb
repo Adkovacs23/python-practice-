{
 "cells": [
  {
   "cell_type": "markdown",
   "id": "e31edb79",
   "metadata": {},
   "source": [
    "# coding set 8"
   ]
  },
  {
   "cell_type": "markdown",
   "id": "011e9b98",
   "metadata": {},
   "source": [
    "### algorithm workbench problem 2"
   ]
  },
  {
   "cell_type": "markdown",
   "id": "a66ff97c",
   "metadata": {},
   "source": [
    "this question wants  us to write a loop that counts the number of space charecters that apprear in the string referenced by mystring"
   ]
  },
  {
   "cell_type": "code",
   "execution_count": 2,
   "id": "ca10b1dd",
   "metadata": {},
   "outputs": [
    {
     "name": "stdout",
     "output_type": "stream",
     "text": [
      "number of spaces: 7\n"
     ]
    }
   ],
   "source": [
    " sample_string = \"this is a sample string with some spaces.\"\n",
    "    \n",
    " space_count = 0\n",
    "\n",
    "\n",
    " for char in sample_string:\n",
    "     if char == ' ':\n",
    "        space_count += 1\n",
    "        \n",
    "        \n",
    " print(\"number of spaces:\", space_count)"
   ]
  },
  {
   "cell_type": "markdown",
   "id": "77b554f2",
   "metadata": {},
   "source": [
    "### algorithm workbench problem 3"
   ]
  },
  {
   "cell_type": "markdown",
   "id": "bdab080e",
   "metadata": {},
   "source": [
    "this problem wants us to write a loop that counts the number of digits that appear in the string referenced by mystring"
   ]
  },
  {
   "cell_type": "code",
   "execution_count": 4,
   "id": "5b2406aa",
   "metadata": {},
   "outputs": [
    {
     "name": "stdout",
     "output_type": "stream",
     "text": [
      "number of digits: 6\n"
     ]
    }
   ],
   "source": [
    " sample_string = \"this string contains some digits like 123 and 456.\"\n",
    "    \n",
    " digit_count = 0\n",
    "\n",
    " for char in sample_string:\n",
    "     if char.isdigit():\n",
    "        digit_count += 1\n",
    "        \n",
    "        \n",
    " print(\"number of digits:\", digit_count)"
   ]
  },
  {
   "cell_type": "markdown",
   "id": "35d7dd7a",
   "metadata": {},
   "source": [
    "### programming excercies 1"
   ]
  },
  {
   "cell_type": "markdown",
   "id": "bf92b85f",
   "metadata": {},
   "source": [
    "this question wants us to write a program that gets a string containing a person's first, middle, and last names, and displays their first, middle, and last initials. for example, if the user enters john william smit, the program should display j.w.s"
   ]
  },
  {
   "cell_type": "code",
   "execution_count": null,
   "id": "82fe65aa",
   "metadata": {},
   "outputs": [],
   "source": [
    " full_name = input(\"enter your first, middle, and last names: \")\n",
    "    \n",
    "    \n",
    " name_parts = full_name.split()\n",
    "\n",
    " initials = [name_part[0].upper() + '.' for name_part in name_parts]\n",
    "    \n",
    "    \n",
    " initials_string = ' '.joing(initials)\n",
    "print(\"your initials are:\", initials_string)"
   ]
  },
  {
   "cell_type": "markdown",
   "id": "c1888a77",
   "metadata": {},
   "source": [
    "### programming excercise 3"
   ]
  },
  {
   "cell_type": "markdown",
   "id": "87fc5a17",
   "metadata": {},
   "source": [
    "this problem wants us to Write a program that reads a string from the user containing a date in the form mm/dd/yyyy. It should print the date in the format March 12, 2018."
   ]
  },
  {
   "cell_type": "code",
   "execution_count": null,
   "id": "cb285e0e",
   "metadata": {},
   "outputs": [],
   "source": [
    "months = {\n",
    "    '01': 'January', '02': 'February', '03': 'March', '04': 'April',\n",
    "    '05': 'May', '06': 'June', '07': 'July', '08': 'August',\n",
    "    '09': 'September', '10': 'October', '11': 'November', '12': 'December'\n",
    "}\n",
    "\n",
    "\n",
    " date_input = input(\"enter a date (mm/dd/yyyy): \")\n",
    "\n",
    "    \n",
    " month, day, year = date_input.split('/')\n",
    "\n",
    "\n",
    " month_name = months[month]\n",
    "    \n",
    "    \n",
    " formatted_date = f\"{month_name} {int(day)}, {year}\"\n",
    " print(\"formatted date:\", formatted_date)"
   ]
  },
  {
   "cell_type": "code",
   "execution_count": null,
   "id": "6eac0976",
   "metadata": {},
   "outputs": [],
   "source": []
  }
 ],
 "metadata": {
  "kernelspec": {
   "display_name": "Python 3 (ipykernel)",
   "language": "python",
   "name": "python3"
  },
  "language_info": {
   "codemirror_mode": {
    "name": "ipython",
    "version": 3
   },
   "file_extension": ".py",
   "mimetype": "text/x-python",
   "name": "python",
   "nbconvert_exporter": "python",
   "pygments_lexer": "ipython3",
   "version": "3.11.7"
  }
 },
 "nbformat": 4,
 "nbformat_minor": 5
}
