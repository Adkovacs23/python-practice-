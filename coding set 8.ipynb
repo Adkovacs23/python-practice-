{
 "cells": [
  {
   "cell_type": "markdown",
   "id": "8cfb67d4",
   "metadata": {},
   "source": [
    "# coding set 8"
   ]
  },
  {
   "cell_type": "markdown",
   "id": "8abe4179",
   "metadata": {},
   "source": [
    "### algorithm workbench problem 2"
   ]
  },
  {
   "cell_type": "markdown",
   "id": "73999572",
   "metadata": {},
   "source": [
    "this question wants  us to write a loop that counts the number of space charecters that apprear in the string referenced by mystring"
   ]
  },
  {
   "cell_type": "code",
   "execution_count": null,
   "id": "60d57094",
   "metadata": {},
   "outputs": [],
   "source": [
    " sample_string = \"this is a sample string with some spaces.\"\n",
    "    \n",
    " sample_count = 0\n",
    "\n",
    "\n",
    " for char in sam"
   ]
  }
 ],
 "metadata": {
  "kernelspec": {
   "display_name": "Python 3 (ipykernel)",
   "language": "python",
   "name": "python3"
  },
  "language_info": {
   "codemirror_mode": {
    "name": "ipython",
    "version": 3
   },
   "file_extension": ".py",
   "mimetype": "text/x-python",
   "name": "python",
   "nbconvert_exporter": "python",
   "pygments_lexer": "ipython3",
   "version": "3.11.7"
  }
 },
 "nbformat": 4,
 "nbformat_minor": 5
}
