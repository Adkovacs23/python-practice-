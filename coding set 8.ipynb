{
 "cells": [
  {
   "cell_type": "markdown",
   "id": "23b81bef",
   "metadata": {},
   "source": [
    "# coding set 8"
   ]
  },
  {
   "cell_type": "markdown",
   "id": "1c9fcec3",
   "metadata": {},
   "source": [
    "### algorithm workbench problem 2"
   ]
  },
  {
   "cell_type": "markdown",
   "id": "c2daa0b7",
   "metadata": {},
   "source": [
    "this question wants  us to write a loop that counts the number of space charecters that apprear in the string referenced by mystring"
   ]
  },
  {
   "cell_type": "code",
   "execution_count": 2,
   "id": "17c9075e",
   "metadata": {},
   "outputs": [
    {
     "name": "stdout",
     "output_type": "stream",
     "text": [
      "number of spaces: 7\n"
     ]
    }
   ],
   "source": [
    " sample_string = \"this is a sample string with some spaces.\"\n",
    "    \n",
    " space_count = 0\n",
    "\n",
    "\n",
    " for char in sample_string:\n",
    "     if char == ' ':\n",
    "        space_count += 1\n",
    "        \n",
    "        \n",
    " print(\"number of spaces:\", space_count)"
   ]
  },
  {
   "cell_type": "markdown",
   "id": "113a8373",
   "metadata": {},
   "source": [
    "### algorithm workbench problem 3"
   ]
  },
  {
   "cell_type": "markdown",
   "id": "2765c08a",
   "metadata": {},
   "source": [
    "this problem wants us to write a loop that counts the number of digits that appear in the string referenced by mystring"
   ]
  },
  {
   "cell_type": "code",
   "execution_count": 3,
   "id": "c1f23afd",
   "metadata": {},
   "outputs": [
    {
     "ename": "SyntaxError",
     "evalue": "invalid syntax (2416482633.py, line 5)",
     "output_type": "error",
     "traceback": [
      "\u001b[1;36m  Cell \u001b[1;32mIn[3], line 5\u001b[1;36m\u001b[0m\n\u001b[1;33m    for char is sample_string:\u001b[0m\n\u001b[1;37m             ^\u001b[0m\n\u001b[1;31mSyntaxError\u001b[0m\u001b[1;31m:\u001b[0m invalid syntax\n"
     ]
    }
   ],
   "source": [
    " sample_string = \"this string contains some digits like 123 and 456.\"\n",
    "    \n",
    " digit_count = 0\n",
    "\n",
    " for char is sample_string:\n",
    "     if char.isdigit():\n",
    "        digit_count += 1\n",
    "        \n",
    "        \n",
    " print(\"number of digits:\", digit_count)"
   ]
  },
  {
   "cell_type": "code",
   "execution_count": null,
   "id": "81a37b86",
   "metadata": {},
   "outputs": [],
   "source": []
  }
 ],
 "metadata": {
  "kernelspec": {
   "display_name": "Python 3 (ipykernel)",
   "language": "python",
   "name": "python3"
  },
  "language_info": {
   "codemirror_mode": {
    "name": "ipython",
    "version": 3
   },
   "file_extension": ".py",
   "mimetype": "text/x-python",
   "name": "python",
   "nbconvert_exporter": "python",
   "pygments_lexer": "ipython3",
   "version": "3.11.7"
  }
 },
 "nbformat": 4,
 "nbformat_minor": 5
}
