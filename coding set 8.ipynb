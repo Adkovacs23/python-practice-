{
 "cells": [
  {
   "cell_type": "markdown",
   "id": "bb272bd4",
   "metadata": {},
   "source": [
    "# coding set 8"
   ]
  },
  {
   "cell_type": "markdown",
   "id": "2ae226fe",
   "metadata": {},
   "source": [
    "### algorithm workbench problem 2"
   ]
  },
  {
   "cell_type": "markdown",
   "id": "7839f89c",
   "metadata": {},
   "source": [
    "this question wants  us to write a loop that counts the number of space charecters that apprear in the string referenced by mystring"
   ]
  },
  {
   "cell_type": "code",
   "execution_count": 1,
   "id": "fb55ef46",
   "metadata": {},
   "outputs": [
    {
     "ename": "NameError",
     "evalue": "name 'space_count' is not defined",
     "output_type": "error",
     "traceback": [
      "\u001b[1;31m---------------------------------------------------------------------------\u001b[0m",
      "\u001b[1;31mNameError\u001b[0m                                 Traceback (most recent call last)",
      "Cell \u001b[1;32mIn[1], line 8\u001b[0m\n\u001b[0;32m      6\u001b[0m \u001b[38;5;28;01mfor\u001b[39;00m char \u001b[38;5;129;01min\u001b[39;00m sample_string:\n\u001b[0;32m      7\u001b[0m     \u001b[38;5;28;01mif\u001b[39;00m char \u001b[38;5;241m==\u001b[39m \u001b[38;5;124m'\u001b[39m\u001b[38;5;124m \u001b[39m\u001b[38;5;124m'\u001b[39m:\n\u001b[1;32m----> 8\u001b[0m        space_count \u001b[38;5;241m+\u001b[39m\u001b[38;5;241m=\u001b[39m \u001b[38;5;241m1\u001b[39m\n\u001b[0;32m     11\u001b[0m \u001b[38;5;28mprint\u001b[39m(\u001b[38;5;124m\"\u001b[39m\u001b[38;5;124mnumber of spaces:\u001b[39m\u001b[38;5;124m\"\u001b[39m, space_count)\n",
      "\u001b[1;31mNameError\u001b[0m: name 'space_count' is not defined"
     ]
    }
   ],
   "source": [
    " sample_string = \"this is a sample string with some spaces.\"\n",
    "    \n",
    " sample_count = 0\n",
    "\n",
    "\n",
    " for char in sample_string:\n",
    "     if char == ' ':\n",
    "        space_count += 1\n",
    "        \n",
    "        \n",
    " print(\"number of spaces:\", space_count)"
   ]
  },
  {
   "cell_type": "code",
   "execution_count": null,
   "id": "a7cbbf58",
   "metadata": {},
   "outputs": [],
   "source": []
  }
 ],
 "metadata": {
  "kernelspec": {
   "display_name": "Python 3 (ipykernel)",
   "language": "python",
   "name": "python3"
  },
  "language_info": {
   "codemirror_mode": {
    "name": "ipython",
    "version": 3
   },
   "file_extension": ".py",
   "mimetype": "text/x-python",
   "name": "python",
   "nbconvert_exporter": "python",
   "pygments_lexer": "ipython3",
   "version": "3.11.7"
  }
 },
 "nbformat": 4,
 "nbformat_minor": 5
}
