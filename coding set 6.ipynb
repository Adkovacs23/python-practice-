{
 "cells": [
  {
   "cell_type": "markdown",
   "id": "eb2af2a8",
   "metadata": {},
   "source": [
    "# coding set 6"
   ]
  },
  {
   "cell_type": "markdown",
   "id": "7379877c",
   "metadata": {},
   "source": [
    "### algorithm workbench question 1"
   ]
  },
  {
   "cell_type": "markdown",
   "id": "19565285",
   "metadata": {},
   "source": [
    "this problem wants us to write a program that opens an output file with the filename my_name.txt, writes your name to the file, then closes the file "
   ]
  },
  {
   "cell_type": "code",
   "execution_count": 11,
   "id": "fbe82ddb",
   "metadata": {},
   "outputs": [],
   "source": [
    "with open('output.txt', 'w') as file:\n",
    "    file.write(\"Andy Kovacs\")"
   ]
  },
  {
   "cell_type": "markdown",
   "id": "3dc3ef5d",
   "metadata": {},
   "source": [
    "### Algorithm workbench question 3"
   ]
  },
  {
   "cell_type": "markdown",
   "id": "3e59fbe3",
   "metadata": {},
   "source": [
    "This problem wants us to write a code that opens an output file with the filename number_list.txt, uses a loop to write the numbers 1 through 100 to the file, then closes the file."
   ]
  },
  {
   "cell_type": "code",
   "execution_count": 17,
   "id": "dc617575",
   "metadata": {},
   "outputs": [],
   "source": [
    "with open('numbers.txt', 'w') as file:\n",
    "    \n",
    "    for num in range(1, 101):\n",
    "        file.write(str(num) + '\\n')"
   ]
  },
  {
   "cell_type": "markdown",
   "id": "a3ba4a5e",
   "metadata": {},
   "source": [
    "### programing excercise 1"
   ]
  },
  {
   "cell_type": "markdown",
   "id": "9ad3ea10",
   "metadata": {},
   "source": [
    "this problem wants us to assume a file containing a seeries of integers is named numbers.txt and exists on the computers disk. write a prgram that displays all of the numbers in the file."
   ]
  },
  {
   "cell_type": "code",
   "execution_count": null,
   "id": "0f8fe300",
   "metadata": {},
   "outputs": [],
   "source": [
    " with open(numbers.txt, 'r') as file:\n",
    "        \n",
    "        lines = file.readlines()\n",
    "        "
   ]
  }
 ],
 "metadata": {
  "kernelspec": {
   "display_name": "Python 3 (ipykernel)",
   "language": "python",
   "name": "python3"
  },
  "language_info": {
   "codemirror_mode": {
    "name": "ipython",
    "version": 3
   },
   "file_extension": ".py",
   "mimetype": "text/x-python",
   "name": "python",
   "nbconvert_exporter": "python",
   "pygments_lexer": "ipython3",
   "version": "3.11.7"
  }
 },
 "nbformat": 4,
 "nbformat_minor": 5
}
