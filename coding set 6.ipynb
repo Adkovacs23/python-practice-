{
 "cells": [
  {
   "cell_type": "markdown",
   "id": "50d3e1dc",
   "metadata": {},
   "source": [
    "# coding set 6"
   ]
  },
  {
   "cell_type": "markdown",
   "id": "110371b7",
   "metadata": {},
   "source": [
    "### algorithm workbench question 1"
   ]
  },
  {
   "cell_type": "markdown",
   "id": "5d070cdf",
   "metadata": {},
   "source": [
    "this problem wants us to write a program that opens an output file with the filename my_name.txt, writes your name to the file, then closes the file "
   ]
  },
  {
   "cell_type": "code",
   "execution_count": 11,
   "id": "1a3b81d0",
   "metadata": {},
   "outputs": [],
   "source": [
    "with open('output.txt', 'w') as file:\n",
    "    file.write(\"Andy Kovacs\")"
   ]
  },
  {
   "cell_type": "code",
   "execution_count": null,
   "id": "c92db061",
   "metadata": {},
   "outputs": [],
   "source": []
  }
 ],
 "metadata": {
  "kernelspec": {
   "display_name": "Python 3 (ipykernel)",
   "language": "python",
   "name": "python3"
  },
  "language_info": {
   "codemirror_mode": {
    "name": "ipython",
    "version": 3
   },
   "file_extension": ".py",
   "mimetype": "text/x-python",
   "name": "python",
   "nbconvert_exporter": "python",
   "pygments_lexer": "ipython3",
   "version": "3.11.7"
  }
 },
 "nbformat": 4,
 "nbformat_minor": 5
}
