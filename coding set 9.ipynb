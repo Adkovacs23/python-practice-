{
 "cells": [
  {
   "cell_type": "markdown",
   "id": "00d0808f",
   "metadata": {},
   "source": [
    "# coding set  9"
   ]
  },
  {
   "cell_type": "markdown",
   "id": "196ab902",
   "metadata": {},
   "source": [
    "### programming excercise 4"
   ]
  },
  {
   "cell_type": "markdown",
   "id": "8e93d556",
   "metadata": {},
   "source": [
    "This program wants us to write a program that opens a specified text file then dislplays a list of all the unique words found in the file "
   ]
  },
  {
   "cell_type": "code",
   "execution_count": null,
   "id": "b2972fd9",
   "metadata": {},
   "outputs": [],
   "source": [
    " def get_unique_words(file_path):\n",
    "     try:\n",
    "        with open(file_path, 'r') as file:\n",
    "            text = file.read()\n",
    "            \n",
    "        for char in '-.,\\n':\n",
    "            text = text.replace(char, ' ')\n",
    "        text = text.lower()\n",
    "        \n",
    "        words = text.split()\n",
    "        unique_words = set(words)\n",
    "        \n",
    "        return unique_words\n",
    "    \n",
    "    except fileNotFoundError"
   ]
  }
 ],
 "metadata": {
  "kernelspec": {
   "display_name": "Python 3 (ipykernel)",
   "language": "python",
   "name": "python3"
  },
  "language_info": {
   "codemirror_mode": {
    "name": "ipython",
    "version": 3
   },
   "file_extension": ".py",
   "mimetype": "text/x-python",
   "name": "python",
   "nbconvert_exporter": "python",
   "pygments_lexer": "ipython3",
   "version": "3.11.7"
  }
 },
 "nbformat": 4,
 "nbformat_minor": 5
}
