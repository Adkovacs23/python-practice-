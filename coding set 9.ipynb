{
 "cells": [
  {
   "cell_type": "markdown",
   "id": "00d0808f",
   "metadata": {},
   "source": [
    "# coding set  9"
   ]
  },
  {
   "cell_type": "markdown",
   "id": "fa11b121",
   "metadata": {},
   "source": [
    "### programming excercise 4"
   ]
  },
  {
   "cell_type": "markdown",
   "id": "70c112f0",
   "metadata": {},
   "source": [
    "This program wants us to write a program that opens a specified text file then dislplays a list of all the unique words found in the file "
   ]
  },
  {
   "cell_type": "code",
   "execution_count": 8,
   "id": "cd9a69e7",
   "metadata": {},
   "outputs": [
    {
     "name": "stdout",
     "output_type": "stream",
     "text": [
      "The file at your_text_file.txt was not found.\n",
      "No unique words found or the file could not be read.\n"
     ]
    }
   ],
   "source": [
    "def get_unique_words(file_path):\n",
    "    try:\n",
    "        with open(file_path, 'r') as file:\n",
    "            text = file.read()\n",
    "            \n",
    "        # Remove punctuation from the text\n",
    "        for char in '-.,\\n':\n",
    "            text = text.replace(char, ' ')\n",
    "        text = text.lower()\n",
    "        \n",
    "        words = text.split()\n",
    "        unique_words = set(words)\n",
    "        \n",
    "        return unique_words\n",
    "    \n",
    "    except FileNotFoundError:\n",
    "        print(f\"The file at {file_path} was not found.\")\n",
    "        return set()\n",
    "    except Exception as e:\n",
    "        print(f\"An error occurred: {e}\")\n",
    "        return set()\n",
    "\n",
    "# Specify the path to your text file\n",
    "file_path = 'your_text_file.txt'\n",
    "unique_words = get_unique_words(file_path)\n",
    "\n",
    "# Display the unique words\n",
    "if unique_words:\n",
    "    print(\"Unique words found in the file:\")\n",
    "    for word in sorted(unique_words):\n",
    "        print(word)\n",
    "else:\n",
    "    print(\"No unique words found or the file could not be read.\")\n"
   ]
  },
  {
   "cell_type": "code",
   "execution_count": null,
   "id": "c0d53972",
   "metadata": {},
   "outputs": [],
   "source": []
  }
 ],
 "metadata": {
  "kernelspec": {
   "display_name": "Python 3 (ipykernel)",
   "language": "python",
   "name": "python3"
  },
  "language_info": {
   "codemirror_mode": {
    "name": "ipython",
    "version": 3
   },
   "file_extension": ".py",
   "mimetype": "text/x-python",
   "name": "python",
   "nbconvert_exporter": "python",
   "pygments_lexer": "ipython3",
   "version": "3.11.7"
  }
 },
 "nbformat": 4,
 "nbformat_minor": 5
}
