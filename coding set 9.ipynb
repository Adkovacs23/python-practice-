{
 "cells": [
  {
   "cell_type": "markdown",
   "id": "00d0808f",
   "metadata": {},
   "source": [
    "# coding set  9"
   ]
  },
  {
   "cell_type": "markdown",
   "id": "a1268c87",
   "metadata": {},
   "source": [
    "### programming excercise 4"
   ]
  },
  {
   "cell_type": "markdown",
   "id": "ffb3e2b3",
   "metadata": {},
   "source": [
    "This program wants us to write a program that opens a specified text file then dislplays a list of all the unique words found in the file "
   ]
  },
  {
   "cell_type": "code",
   "execution_count": null,
   "id": "658b6e26",
   "metadata": {},
   "outputs": [],
   "source": [
    " def get_unique_words(file_path):\n",
    "     try:\n",
    "        with open(file_path,)"
   ]
  }
 ],
 "metadata": {
  "kernelspec": {
   "display_name": "Python 3 (ipykernel)",
   "language": "python",
   "name": "python3"
  },
  "language_info": {
   "codemirror_mode": {
    "name": "ipython",
    "version": 3
   },
   "file_extension": ".py",
   "mimetype": "text/x-python",
   "name": "python",
   "nbconvert_exporter": "python",
   "pygments_lexer": "ipython3",
   "version": "3.11.7"
  }
 },
 "nbformat": 4,
 "nbformat_minor": 5
}
