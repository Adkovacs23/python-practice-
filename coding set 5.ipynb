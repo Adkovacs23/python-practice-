{
 "cells": [
  {
   "cell_type": "markdown",
   "id": "fc851c10",
   "metadata": {},
   "source": [
    "# coding set 5"
   ]
  },
  {
   "cell_type": "markdown",
   "id": "b3ffa819",
   "metadata": {},
   "source": [
    "### algorithm workbench question 1"
   ]
  },
  {
   "cell_type": "code",
   "execution_count": 47,
   "id": "20844d70",
   "metadata": {},
   "outputs": [
    {
     "ename": "SyntaxError",
     "evalue": "expected ':' (903309339.py, line 1)",
     "output_type": "error",
     "traceback": [
      "\u001b[1;36m  Cell \u001b[1;32mIn[47], line 1\u001b[1;36m\u001b[0m\n\u001b[1;33m    def multiply_by_10(num)\u001b[0m\n\u001b[1;37m                           ^\u001b[0m\n\u001b[1;31mSyntaxError\u001b[0m\u001b[1;31m:\u001b[0m expected ':'\n"
     ]
    }
   ],
   "source": [
    " def multiply_by_10(num):\n",
    "    result = num * 10\n",
    "    print(result)"
   ]
  },
  {
   "cell_type": "raw",
   "id": "3a507602",
   "metadata": {},
   "source": [
    "i tried writing the code mysself and than plugged it into chat gpt to see my errors and learned i forgot to put underscores instead of spaces and i forgot put a semi colon. need to make sure i slow down and dont make silly mistakes like this."
   ]
  },
  {
   "cell_type": "code",
   "execution_count": 45,
   "id": "f5e876e1",
   "metadata": {},
   "outputs": [],
   "source": [
    "def multiply_by_10(num):\n",
    "    result = num * 10\n",
    "    print(result)"
   ]
  },
  {
   "cell_type": "markdown",
   "id": "56c8cd4a",
   "metadata": {},
   "source": [
    "### Algorithm workbench question 10"
   ]
  },
  {
   "cell_type": "code",
   "execution_count": 22,
   "id": "7bf082de",
   "metadata": {},
   "outputs": [
    {
     "ename": "SyntaxError",
     "evalue": "invalid syntax (2824371516.py, line 3)",
     "output_type": "error",
     "traceback": [
      "\u001b[1;36m  Cell \u001b[1;32mIn[22], line 3\u001b[1;36m\u001b[0m\n\u001b[1;33m    returns first_name\u001b[0m\n\u001b[1;37m            ^\u001b[0m\n\u001b[1;31mSyntaxError\u001b[0m\u001b[1;31m:\u001b[0m invalid syntax\n"
     ]
    }
   ],
   "source": [
    " def get_first_name():\n",
    "    first_name = input('please enter your first name: ')\n",
    "    returns first_name"
   ]
  },
  {
   "cell_type": "markdown",
   "id": "30cfdef8",
   "metadata": {},
   "source": [
    "this is my original code, after plugging into chat gpt i found that i accidently added an s in returns so jupiter notebook didnt recocnize the task i was giving. "
   ]
  },
  {
   "cell_type": "code",
   "execution_count": 56,
   "id": "44b62c78",
   "metadata": {},
   "outputs": [],
   "source": [
    " def get_first_name():\n",
    "        first_name = input(\"please enter your first name; \")\n",
    "        return first_name"
   ]
  },
  {
   "cell_type": "markdown",
   "id": "f763624b",
   "metadata": {},
   "source": [
    "### programming excercise 1"
   ]
  },
  {
   "cell_type": "code",
   "execution_count": null,
   "id": "71aed45d",
   "metadata": {},
   "outputs": [],
   "source": [
    "def kilometers_to_miles(kilometers):\n",
    "    miles = kilometers * 0.621371\n",
    "    return miles\n",
    "\n",
    "def main():\n",
    "    kilometers = float(input(\"please enter a distance in kilometers: \"))\n",
    "    \n",
    "    miles = kilometers_to_miles(kilometers)\n",
    "    \n",
    "    print(f\"{kilometers} kilometers is equal to {miles} miles.\")\n",
    "    \n",
    "if __name__==\"__main__\":\n",
    "    main()"
   ]
  },
  {
   "cell_type": "markdown",
   "id": "727ca0b9",
   "metadata": {},
   "source": [
    "this problem i got the code right on the first try, i did have to use chat gpt as a reference for the conversion of kilometers to miles and to help me with 1 small line of code i forgot how to write but i didnt have any errors in my code i needed chat gpts help with. "
   ]
  },
  {
   "cell_type": "markdown",
   "id": "80a359bb",
   "metadata": {},
   "source": [
    "### programming excercise prime numbers "
   ]
  },
  {
   "cell_type": "code",
   "execution_count": null,
   "id": "2841697c",
   "metadata": {},
   "outputs": [],
   "source": [
    "def is_prime(number):\n",
    "    if number <= 1:\n",
    "        return false\n",
    "    for i in range(2, int(number ** 0.5) + 1):\n",
    "        if number % i == 0:\n",
    "            return false\n",
    "        return true\n",
    "    \n",
    "def main():\n",
    "    num = int(input(\"enter a number: \"))\n",
    "    \n",
    "    if is_prime(num):\n",
    "        print(f\"{num} is a prime number.\")\n",
    "    else:\n",
    "        print(f\"{num} is not a prime number.\")\n",
    "        \n",
    "if __name__== \"__main__\":\n",
    "    main()"
   ]
  },
  {
   "cell_type": "markdown",
   "id": "f85873d5",
   "metadata": {},
   "source": [
    "in this excercise i had trouble getting the code to run what i was telling it to run, i used chat gpt to help try and brainstorm what could be the problem but ended up fiddling around with jupiter notebook"
   ]
  },
  {
   "cell_type": "markdown",
   "id": "aa0e24da",
   "metadata": {},
   "source": [
    "### prime number list "
   ]
  },
  {
   "cell_type": "code",
   "execution_count": 34,
   "id": "801251fb",
   "metadata": {},
   "outputs": [
    {
     "ename": "KeyboardInterrupt",
     "evalue": "Interrupted by user",
     "output_type": "error",
     "traceback": [
      "\u001b[1;31m---------------------------------------------------------------------------\u001b[0m",
      "\u001b[1;31mKeyboardInterrupt\u001b[0m                         Traceback (most recent call last)",
      "Cell \u001b[1;32mIn[34], line 16\u001b[0m\n\u001b[0;32m     13\u001b[0m                 \u001b[38;5;28mprint\u001b[39m(num, end\u001b[38;5;241m=\u001b[39m\u001b[38;5;124m\"\u001b[39m\u001b[38;5;124m \u001b[39m\u001b[38;5;124m\"\u001b[39m)\n\u001b[0;32m     15\u001b[0m \u001b[38;5;28;01mif\u001b[39;00m \u001b[38;5;18m__name__\u001b[39m \u001b[38;5;241m==\u001b[39m \u001b[38;5;124m\"\u001b[39m\u001b[38;5;124m__main__\u001b[39m\u001b[38;5;124m\"\u001b[39m:\n\u001b[1;32m---> 16\u001b[0m     main()\n",
      "Cell \u001b[1;32mIn[32], line 6\u001b[0m, in \u001b[0;36mmain\u001b[1;34m()\u001b[0m\n\u001b[0;32m      5\u001b[0m \u001b[38;5;28;01mdef\u001b[39;00m \u001b[38;5;21mmain\u001b[39m():\n\u001b[1;32m----> 6\u001b[0m     kilometers \u001b[38;5;241m=\u001b[39m \u001b[38;5;28mfloat\u001b[39m(\u001b[38;5;28minput\u001b[39m(\u001b[38;5;124m\"\u001b[39m\u001b[38;5;124mplease enter a distance in kilometers: \u001b[39m\u001b[38;5;124m\"\u001b[39m))\n\u001b[0;32m      8\u001b[0m     miles \u001b[38;5;241m=\u001b[39m kilometers_to_miles(kilometers)\n\u001b[0;32m     10\u001b[0m     \u001b[38;5;28mprint\u001b[39m(\u001b[38;5;124mf\u001b[39m\u001b[38;5;124m\"\u001b[39m\u001b[38;5;132;01m{\u001b[39;00mkilometers\u001b[38;5;132;01m}\u001b[39;00m\u001b[38;5;124m kilometers is equal to \u001b[39m\u001b[38;5;132;01m{\u001b[39;00mmiles\u001b[38;5;132;01m}\u001b[39;00m\u001b[38;5;124m miles.\u001b[39m\u001b[38;5;124m\"\u001b[39m)\n",
      "File \u001b[1;32m~\\anaconda3\\Lib\\site-packages\\ipykernel\\kernelbase.py:1262\u001b[0m, in \u001b[0;36mKernel.raw_input\u001b[1;34m(self, prompt)\u001b[0m\n\u001b[0;32m   1260\u001b[0m     msg \u001b[38;5;241m=\u001b[39m \u001b[38;5;124m\"\u001b[39m\u001b[38;5;124mraw_input was called, but this frontend does not support input requests.\u001b[39m\u001b[38;5;124m\"\u001b[39m\n\u001b[0;32m   1261\u001b[0m     \u001b[38;5;28;01mraise\u001b[39;00m StdinNotImplementedError(msg)\n\u001b[1;32m-> 1262\u001b[0m \u001b[38;5;28;01mreturn\u001b[39;00m \u001b[38;5;28mself\u001b[39m\u001b[38;5;241m.\u001b[39m_input_request(\n\u001b[0;32m   1263\u001b[0m     \u001b[38;5;28mstr\u001b[39m(prompt),\n\u001b[0;32m   1264\u001b[0m     \u001b[38;5;28mself\u001b[39m\u001b[38;5;241m.\u001b[39m_parent_ident[\u001b[38;5;124m\"\u001b[39m\u001b[38;5;124mshell\u001b[39m\u001b[38;5;124m\"\u001b[39m],\n\u001b[0;32m   1265\u001b[0m     \u001b[38;5;28mself\u001b[39m\u001b[38;5;241m.\u001b[39mget_parent(\u001b[38;5;124m\"\u001b[39m\u001b[38;5;124mshell\u001b[39m\u001b[38;5;124m\"\u001b[39m),\n\u001b[0;32m   1266\u001b[0m     password\u001b[38;5;241m=\u001b[39m\u001b[38;5;28;01mFalse\u001b[39;00m,\n\u001b[0;32m   1267\u001b[0m )\n",
      "File \u001b[1;32m~\\anaconda3\\Lib\\site-packages\\ipykernel\\kernelbase.py:1305\u001b[0m, in \u001b[0;36mKernel._input_request\u001b[1;34m(self, prompt, ident, parent, password)\u001b[0m\n\u001b[0;32m   1302\u001b[0m \u001b[38;5;28;01mexcept\u001b[39;00m \u001b[38;5;167;01mKeyboardInterrupt\u001b[39;00m:\n\u001b[0;32m   1303\u001b[0m     \u001b[38;5;66;03m# re-raise KeyboardInterrupt, to truncate traceback\u001b[39;00m\n\u001b[0;32m   1304\u001b[0m     msg \u001b[38;5;241m=\u001b[39m \u001b[38;5;124m\"\u001b[39m\u001b[38;5;124mInterrupted by user\u001b[39m\u001b[38;5;124m\"\u001b[39m\n\u001b[1;32m-> 1305\u001b[0m     \u001b[38;5;28;01mraise\u001b[39;00m \u001b[38;5;167;01mKeyboardInterrupt\u001b[39;00m(msg) \u001b[38;5;28;01mfrom\u001b[39;00m \u001b[38;5;28;01mNone\u001b[39;00m\n\u001b[0;32m   1306\u001b[0m \u001b[38;5;28;01mexcept\u001b[39;00m \u001b[38;5;167;01mException\u001b[39;00m:\n\u001b[0;32m   1307\u001b[0m     \u001b[38;5;28mself\u001b[39m\u001b[38;5;241m.\u001b[39mlog\u001b[38;5;241m.\u001b[39mwarning(\u001b[38;5;124m\"\u001b[39m\u001b[38;5;124mInvalid Message:\u001b[39m\u001b[38;5;124m\"\u001b[39m, exc_info\u001b[38;5;241m=\u001b[39m\u001b[38;5;28;01mTrue\u001b[39;00m)\n",
      "\u001b[1;31mKeyboardInterrupt\u001b[0m: Interrupted by user"
     ]
    }
   ],
   "source": [
    "def is_prime(number):\n",
    "    if number <=1:\n",
    "        return false\n",
    "    for i in range(2, int(number ** 0.5) + 1):\n",
    "        if number % 1 == 0:\n",
    "            return false\n",
    "        return true\n",
    "\n",
    "    def main():\n",
    "        print(\"prime numbers from 1 to 100 are:\")\n",
    "        for num in range(1, 101):\n",
    "            if is_prime(num):\n",
    "                print(num, end=\" \")\n",
    "                \n",
    "if __name__ == \"__main__\":\n",
    "    main()"
   ]
  },
  {
   "cell_type": "markdown",
   "id": "6ebc974a",
   "metadata": {},
   "source": [
    "in this problem i used chat gpt to find my error and figured out i had missed a semi colon at the end of 1 line of code"
   ]
  },
  {
   "cell_type": "markdown",
   "id": "713e084d",
   "metadata": {},
   "source": [
    "### programming problem 10 math quiz"
   ]
  },
  {
   "cell_type": "code",
   "execution_count": null,
   "id": "70bc727a",
   "metadata": {},
   "outputs": [],
   "source": [
    "import random \n",
    "\n",
    "def math_quiz():\n",
    "    num1 = random.randint(1, 100)\n",
    "    num2 = random.randint(1, 100)\n",
    "    \n",
    "    print(f\"what is {num1} + {num2}?\")\n",
    "    \n",
    "    user_answer + int(input(\"your awnser:\"))\n",
    "    \n",
    "    correct_answer = num1 + num2\n",
    "    \n",
    "    if user_answer == correct_answer:\n",
    "        print(\"congratulations! your answer is correct:\")\n",
    "    else:\n",
    "        print(f\"sorry, that's inncorrect, the correct answer is {correct_answer}.\")\n",
    "        \n",
    "if __name__ == \"__main__\":\n",
    "    math_quiz()"
   ]
  },
  {
   "cell_type": "markdown",
   "id": "0cfef2cb",
   "metadata": {},
   "source": [
    "in this set of code i used chat gpt to help figure out what the syntax error was and found out that i put spaces in between random and randint instead of periods whcich caused the code to malfunction and not run properly "
   ]
  },
  {
   "cell_type": "code",
   "execution_count": null,
   "id": "147c1d65",
   "metadata": {},
   "outputs": [],
   "source": []
  }
 ],
 "metadata": {
  "kernelspec": {
   "display_name": "Python 3 (ipykernel)",
   "language": "python",
   "name": "python3"
  },
  "language_info": {
   "codemirror_mode": {
    "name": "ipython",
    "version": 3
   },
   "file_extension": ".py",
   "mimetype": "text/x-python",
   "name": "python",
   "nbconvert_exporter": "python",
   "pygments_lexer": "ipython3",
   "version": "3.11.7"
  }
 },
 "nbformat": 4,
 "nbformat_minor": 5
}
