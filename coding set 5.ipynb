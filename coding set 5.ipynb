{
 "cells": [
  {
   "cell_type": "markdown",
   "id": "2c049f9a",
   "metadata": {},
   "source": [
    "# coding set 5"
   ]
  },
  {
   "cell_type": "markdown",
   "id": "82955d7d",
   "metadata": {},
   "source": [
    "### algorithm workbench question 1"
   ]
  },
  {
   "cell_type": "code",
   "execution_count": 16,
   "id": "bd049e07",
   "metadata": {},
   "outputs": [
    {
     "ename": "SyntaxError",
     "evalue": "expected '(' (3733813840.py, line 1)",
     "output_type": "error",
     "traceback": [
      "\u001b[1;36m  Cell \u001b[1;32mIn[16], line 1\u001b[1;36m\u001b[0m\n\u001b[1;33m    def multiply by 10(num)\u001b[0m\n\u001b[1;37m                 ^\u001b[0m\n\u001b[1;31mSyntaxError\u001b[0m\u001b[1;31m:\u001b[0m expected '('\n"
     ]
    }
   ],
   "source": [
    " def multiply by 10(num)\n",
    "    result = num * 10\n",
    "    print(result)"
   ]
  },
  {
   "cell_type": "raw",
   "id": "f56fa0ce",
   "metadata": {},
   "source": [
    "i tried writing the code mysself and than plugged it into chat gpt to see my errors and learned i forgot to put underscores instead of spaces and i forgot put a semi colon. need to make sure i slow down and dont make silly mistakes like this."
   ]
  },
  {
   "cell_type": "code",
   "execution_count": 19,
   "id": "7abd158f",
   "metadata": {},
   "outputs": [
    {
     "ename": "SyntaxError",
     "evalue": "invalid syntax (3373388539.py, line 1)",
     "output_type": "error",
     "traceback": [
      "\u001b[1;36m  Cell \u001b[1;32mIn[19], line 1\u001b[1;36m\u001b[0m\n\u001b[1;33m    def multiply_by_10(5):\u001b[0m\n\u001b[1;37m                       ^\u001b[0m\n\u001b[1;31mSyntaxError\u001b[0m\u001b[1;31m:\u001b[0m invalid syntax\n"
     ]
    }
   ],
   "source": [
    "def multiply_by_10(num):\n",
    "    result = num * 10\n",
    "    print(result)"
   ]
  },
  {
   "cell_type": "markdown",
   "id": "bde033ff",
   "metadata": {},
   "source": [
    "### Algorithm workbench question 10"
   ]
  },
  {
   "cell_type": "code",
   "execution_count": 20,
   "id": "8ab934b6",
   "metadata": {},
   "outputs": [
    {
     "ename": "SyntaxError",
     "evalue": "invalid syntax (2824371516.py, line 3)",
     "output_type": "error",
     "traceback": [
      "\u001b[1;36m  Cell \u001b[1;32mIn[20], line 3\u001b[1;36m\u001b[0m\n\u001b[1;33m    returns first_name\u001b[0m\n\u001b[1;37m            ^\u001b[0m\n\u001b[1;31mSyntaxError\u001b[0m\u001b[1;31m:\u001b[0m invalid syntax\n"
     ]
    }
   ],
   "source": [
    " def get_first_name():\n",
    "    first_name = input('please enter your first name: ')\n",
    "    returns first_name"
   ]
  },
  {
   "cell_type": "code",
   "execution_count": null,
   "id": "235cb505",
   "metadata": {},
   "outputs": [],
   "source": []
  }
 ],
 "metadata": {
  "kernelspec": {
   "display_name": "Python 3 (ipykernel)",
   "language": "python",
   "name": "python3"
  },
  "language_info": {
   "codemirror_mode": {
    "name": "ipython",
    "version": 3
   },
   "file_extension": ".py",
   "mimetype": "text/x-python",
   "name": "python",
   "nbconvert_exporter": "python",
   "pygments_lexer": "ipython3",
   "version": "3.11.7"
  }
 },
 "nbformat": 4,
 "nbformat_minor": 5
}
