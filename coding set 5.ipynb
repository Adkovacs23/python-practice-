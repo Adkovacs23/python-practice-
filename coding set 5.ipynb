{
 "cells": [
  {
   "cell_type": "markdown",
   "id": "51248df8",
   "metadata": {},
   "source": [
    "# coding set 5"
   ]
  },
  {
   "cell_type": "markdown",
   "id": "aeff475f",
   "metadata": {},
   "source": [
    "### algorithm workbench question 1"
   ]
  },
  {
   "cell_type": "code",
   "execution_count": 16,
   "id": "56a0a9da",
   "metadata": {},
   "outputs": [
    {
     "ename": "SyntaxError",
     "evalue": "expected '(' (3733813840.py, line 1)",
     "output_type": "error",
     "traceback": [
      "\u001b[1;36m  Cell \u001b[1;32mIn[16], line 1\u001b[1;36m\u001b[0m\n\u001b[1;33m    def multiply by 10(num)\u001b[0m\n\u001b[1;37m                 ^\u001b[0m\n\u001b[1;31mSyntaxError\u001b[0m\u001b[1;31m:\u001b[0m expected '('\n"
     ]
    }
   ],
   "source": [
    " def multiply by 10(num)\n",
    "    result = num * 10\n",
    "    print(result)"
   ]
  },
  {
   "cell_type": "raw",
   "id": "28aa3cb7",
   "metadata": {},
   "source": [
    "i tried writing the code mysself and than plugged it into chat gpt to see my errors and learned i forgot to put underscores instead of spaces and i forgot put a semi colon. need to make sure i slow down and dont make silly mistakes like this."
   ]
  },
  {
   "cell_type": "code",
   "execution_count": 19,
   "id": "90468f58",
   "metadata": {},
   "outputs": [
    {
     "ename": "SyntaxError",
     "evalue": "invalid syntax (3373388539.py, line 1)",
     "output_type": "error",
     "traceback": [
      "\u001b[1;36m  Cell \u001b[1;32mIn[19], line 1\u001b[1;36m\u001b[0m\n\u001b[1;33m    def multiply_by_10(5):\u001b[0m\n\u001b[1;37m                       ^\u001b[0m\n\u001b[1;31mSyntaxError\u001b[0m\u001b[1;31m:\u001b[0m invalid syntax\n"
     ]
    }
   ],
   "source": [
    "def multiply_by_10(num):\n",
    "    result = num * 10\n",
    "    print(result)"
   ]
  },
  {
   "cell_type": "markdown",
   "id": "d356313f",
   "metadata": {},
   "source": [
    "### Algorithm workbench question 10"
   ]
  },
  {
   "cell_type": "code",
   "execution_count": 22,
   "id": "b951437b",
   "metadata": {},
   "outputs": [
    {
     "ename": "SyntaxError",
     "evalue": "invalid syntax (2824371516.py, line 3)",
     "output_type": "error",
     "traceback": [
      "\u001b[1;36m  Cell \u001b[1;32mIn[22], line 3\u001b[1;36m\u001b[0m\n\u001b[1;33m    returns first_name\u001b[0m\n\u001b[1;37m            ^\u001b[0m\n\u001b[1;31mSyntaxError\u001b[0m\u001b[1;31m:\u001b[0m invalid syntax\n"
     ]
    }
   ],
   "source": [
    " def get_first_name():\n",
    "    first_name = input('please enter your first name: ')\n",
    "    returns first_name"
   ]
  },
  {
   "cell_type": "markdown",
   "id": "881a45e9",
   "metadata": {},
   "source": [
    "this is my original code, after plugging into chat gpt i found that i accidently added an s in returns so jupiter notebook didnt recocnize the task i was giving. "
   ]
  },
  {
   "cell_type": "code",
   "execution_count": 28,
   "id": "e3a91aba",
   "metadata": {},
   "outputs": [],
   "source": [
    " def get_first_name():\n",
    "        first_name = input(\"please enter your first name; \")\n",
    "        return first_name"
   ]
  },
  {
   "cell_type": "markdown",
   "id": "61cbe4d6",
   "metadata": {},
   "source": []
  }
 ],
 "metadata": {
  "kernelspec": {
   "display_name": "Python 3 (ipykernel)",
   "language": "python",
   "name": "python3"
  },
  "language_info": {
   "codemirror_mode": {
    "name": "ipython",
    "version": 3
   },
   "file_extension": ".py",
   "mimetype": "text/x-python",
   "name": "python",
   "nbconvert_exporter": "python",
   "pygments_lexer": "ipython3",
   "version": "3.11.7"
  }
 },
 "nbformat": 4,
 "nbformat_minor": 5
}
