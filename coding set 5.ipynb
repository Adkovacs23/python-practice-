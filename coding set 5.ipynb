{
 "cells": [
  {
   "cell_type": "markdown",
   "id": "f7e433de",
   "metadata": {},
   "source": [
    "# coding set 5"
   ]
  },
  {
   "cell_type": "markdown",
   "id": "dbd69c18",
   "metadata": {},
   "source": [
    "### algorithm workbench question 1"
   ]
  },
  {
   "cell_type": "code",
   "execution_count": 1,
   "id": "3343c472",
   "metadata": {},
   "outputs": [
    {
     "ename": "SyntaxError",
     "evalue": "expected '(' (3733813840.py, line 1)",
     "output_type": "error",
     "traceback": [
      "\u001b[1;36m  Cell \u001b[1;32mIn[1], line 1\u001b[1;36m\u001b[0m\n\u001b[1;33m    def multiply by 10(num)\u001b[0m\n\u001b[1;37m                 ^\u001b[0m\n\u001b[1;31mSyntaxError\u001b[0m\u001b[1;31m:\u001b[0m expected '('\n"
     ]
    }
   ],
   "source": [
    " def multiply by 10(num)\n",
    "    result = num * 10\n",
    "    print(result)"
   ]
  },
  {
   "cell_type": "raw",
   "id": "a38ac4ec",
   "metadata": {},
   "source": [
    "i tried writing the code mysself and than plugged it into chat gpt to see my errors and learned i forgot to put underscores instead of spaces and i forgot put a semi colon. need to make sure i slow down and dont make silly mistakes like this."
   ]
  },
  {
   "cell_type": "code",
   "execution_count": 4,
   "id": "5edf9a20",
   "metadata": {},
   "outputs": [],
   "source": [
    "def multiply_by_10(num):\n",
    "    result = num * 10\n",
    "    print(result)"
   ]
  },
  {
   "cell_type": "code",
   "execution_count": null,
   "id": "f505b6c8",
   "metadata": {},
   "outputs": [],
   "source": []
  }
 ],
 "metadata": {
  "kernelspec": {
   "display_name": "Python 3 (ipykernel)",
   "language": "python",
   "name": "python3"
  },
  "language_info": {
   "codemirror_mode": {
    "name": "ipython",
    "version": 3
   },
   "file_extension": ".py",
   "mimetype": "text/x-python",
   "name": "python",
   "nbconvert_exporter": "python",
   "pygments_lexer": "ipython3",
   "version": "3.11.7"
  }
 },
 "nbformat": 4,
 "nbformat_minor": 5
}
