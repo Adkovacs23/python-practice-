{
 "cells": [
  {
   "cell_type": "markdown",
   "id": "485ee1ec",
   "metadata": {},
   "source": [
    "# coding set 5"
   ]
  },
  {
   "cell_type": "markdown",
   "id": "1e4fcbc5",
   "metadata": {},
   "source": [
    "### algorithm workbench question 1"
   ]
  },
  {
   "cell_type": "code",
   "execution_count": 16,
   "id": "d67705af",
   "metadata": {},
   "outputs": [
    {
     "ename": "SyntaxError",
     "evalue": "expected '(' (3733813840.py, line 1)",
     "output_type": "error",
     "traceback": [
      "\u001b[1;36m  Cell \u001b[1;32mIn[16], line 1\u001b[1;36m\u001b[0m\n\u001b[1;33m    def multiply by 10(num)\u001b[0m\n\u001b[1;37m                 ^\u001b[0m\n\u001b[1;31mSyntaxError\u001b[0m\u001b[1;31m:\u001b[0m expected '('\n"
     ]
    }
   ],
   "source": [
    " def multiply by 10(num)\n",
    "    result = num * 10\n",
    "    print(result)"
   ]
  },
  {
   "cell_type": "raw",
   "id": "c2f0531c",
   "metadata": {},
   "source": [
    "i tried writing the code mysself and than plugged it into chat gpt to see my errors and learned i forgot to put underscores instead of spaces and i forgot put a semi colon. need to make sure i slow down and dont make silly mistakes like this."
   ]
  },
  {
   "cell_type": "code",
   "execution_count": 19,
   "id": "c0879379",
   "metadata": {},
   "outputs": [
    {
     "ename": "SyntaxError",
     "evalue": "invalid syntax (3373388539.py, line 1)",
     "output_type": "error",
     "traceback": [
      "\u001b[1;36m  Cell \u001b[1;32mIn[19], line 1\u001b[1;36m\u001b[0m\n\u001b[1;33m    def multiply_by_10(5):\u001b[0m\n\u001b[1;37m                       ^\u001b[0m\n\u001b[1;31mSyntaxError\u001b[0m\u001b[1;31m:\u001b[0m invalid syntax\n"
     ]
    }
   ],
   "source": [
    "def multiply_by_10(num):\n",
    "    result = num * 10\n",
    "    print(result)"
   ]
  },
  {
   "cell_type": "markdown",
   "id": "1fffc13a",
   "metadata": {},
   "source": [
    "### Algorithm workbench question 10"
   ]
  },
  {
   "cell_type": "code",
   "execution_count": 22,
   "id": "cd6c5d4b",
   "metadata": {},
   "outputs": [
    {
     "ename": "SyntaxError",
     "evalue": "invalid syntax (2824371516.py, line 3)",
     "output_type": "error",
     "traceback": [
      "\u001b[1;36m  Cell \u001b[1;32mIn[22], line 3\u001b[1;36m\u001b[0m\n\u001b[1;33m    returns first_name\u001b[0m\n\u001b[1;37m            ^\u001b[0m\n\u001b[1;31mSyntaxError\u001b[0m\u001b[1;31m:\u001b[0m invalid syntax\n"
     ]
    }
   ],
   "source": [
    " def get_first_name():\n",
    "    first_name = input('please enter your first name: ')\n",
    "    returns first_name"
   ]
  },
  {
   "cell_type": "markdown",
   "id": "7fae44d5",
   "metadata": {},
   "source": [
    "this is my original code, after plugging into chat gpt i found that i accidently added an s in returns so jupiter notebook didnt recocnize the task i was giving. "
   ]
  },
  {
   "cell_type": "code",
   "execution_count": 28,
   "id": "499bb489",
   "metadata": {},
   "outputs": [],
   "source": [
    " def get_first_name():\n",
    "        first_name = input(\"please enter your first name; \")\n",
    "        return first_name"
   ]
  },
  {
   "cell_type": "markdown",
   "id": "63f80a6c",
   "metadata": {},
   "source": [
    "### programming excercise 1"
   ]
  },
  {
   "cell_type": "code",
   "execution_count": null,
   "id": "4ad3299f",
   "metadata": {},
   "outputs": [],
   "source": [
    "def kilometers_to_miles(kilometers):\n",
    "    miles = kilometers * 0.621371\n",
    "    return miles\n",
    "\n",
    "def main():\n",
    "    kilometers = float(input(\"please enter a distance in kilometers: \"))\n",
    "    \n",
    "    miles = kilometers_to_miles(kilometers)\n",
    "    \n",
    "    print(f\"{kilometers} kilometers is equal to {miles} miles.\")\n",
    "    \n",
    "if __name__==\"__main__\":\n",
    "    main()"
   ]
  },
  {
   "cell_type": "markdown",
   "id": "0a8d735f",
   "metadata": {},
   "source": [
    "this problem i got the code right on the first try, i did have to use chat gpt as a reference for the conversion of kilometers to miles and to help me with 1 small line of code i forgot how to write but i didnt have any errors in my code i needed chat gpts help with. "
   ]
  },
  {
   "cell_type": "markdown",
   "id": "a2a66d07",
   "metadata": {},
   "source": [
    "### programming excercise prime numbers "
   ]
  },
  {
   "cell_type": "code",
   "execution_count": null,
   "id": "e036ba80",
   "metadata": {},
   "outputs": [],
   "source": [
    "def is_prime(number):\n",
    "    if number <= 1:\n",
    "        return false\n",
    "    for i in range(2, int(number ** 0.5) + 1):\n",
    "        if number % i == 0:\n",
    "            return false\n",
    "        return true\n",
    "    \n",
    "def main():\n",
    "    num = int(input(\"enter a number: \"))\n",
    "    \n",
    "    if is_prime(num):\n",
    "        print(f\"{num} is a prime number.\")"
   ]
  }
 ],
 "metadata": {
  "kernelspec": {
   "display_name": "Python 3 (ipykernel)",
   "language": "python",
   "name": "python3"
  },
  "language_info": {
   "codemirror_mode": {
    "name": "ipython",
    "version": 3
   },
   "file_extension": ".py",
   "mimetype": "text/x-python",
   "name": "python",
   "nbconvert_exporter": "python",
   "pygments_lexer": "ipython3",
   "version": "3.11.7"
  }
 },
 "nbformat": 4,
 "nbformat_minor": 5
}
