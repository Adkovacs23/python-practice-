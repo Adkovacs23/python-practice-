{
 "cells": [
  {
   "cell_type": "markdown",
   "id": "9cff7c48",
   "metadata": {},
   "source": [
    "Algorithm workbench problem 1"
   ]
  },
  {
   "cell_type": "markdown",
   "id": "acd493c6",
   "metadata": {},
   "source": [
    "this problem is asking us to write a sttement that creates a list with the following strings, einstein, newton, copernicus and ekpler"
   ]
  },
  {
   "cell_type": "code",
   "execution_count": 5,
   "id": "a95be0d5",
   "metadata": {},
   "outputs": [],
   "source": [
    "my_list = [\",Einstein\", \"newton\", \"and\" \"kepler\"]"
   ]
  },
  {
   "cell_type": "markdown",
   "id": "2d96d11a",
   "metadata": {},
   "source": [
    "### Algorithm workbench problem 2"
   ]
  },
  {
   "cell_type": "markdown",
   "id": "fd3cd48f",
   "metadata": {},
   "source": [
    "this problem wants us to assume names references a list, meaning it wants us to reference the list from the first problem and write a FOR loop that displays each element of the list."
   ]
  },
  {
   "cell_type": "code",
   "execution_count": 6,
   "id": "5ce91a46",
   "metadata": {},
   "outputs": [
    {
     "name": "stdout",
     "output_type": "stream",
     "text": [
      ",Einstein\n",
      "newton\n",
      "andkepler\n"
     ]
    }
   ],
   "source": [
    "for element in my_list:\n",
    "    print(element)"
   ]
  },
  {
   "cell_type": "markdown",
   "id": "b683323f",
   "metadata": {},
   "source": [
    "### programming excercise 1"
   ]
  },
  {
   "cell_type": "markdown",
   "id": "13584b35",
   "metadata": {},
   "source": [
    "this problem wants us to design a program that asks the user to enter a store's sales for each day of the week. the amounts should be stored in a list. use a loop to calculate the total sales for the week and display the result"
   ]
  },
  {
   "cell_type": "code",
   "execution_count": null,
   "id": "e8669505",
   "metadata": {},
   "outputs": [],
   "source": [
    " def main():\n",
    "        sales = []\n",
    "        for day in ['monday', 'tuesday', 'wednesday', 'thursday', 'friday', 'saturday', 'sunday' ]:\n",
    "            daily_sales = float(input(f\"enter sales for {day}: $\"))\n",
    "            sales.append(daily_sales)\n",
    "        \n",
    "        total_sales = sum(sales)\n",
    "        \n",
    "        \n",
    "        print(f\"Total sales for the week: ${total_sales:.2f}\")\n",
    "        \n",
    "        \n",
    " if __name__ == \"__main__\":\n",
    "    main()"
   ]
  },
  {
   "cell_type": "markdown",
   "id": "06fccf46",
   "metadata": {},
   "source": [
    "### programming excercise 14"
   ]
  },
  {
   "cell_type": "markdown",
   "id": "2e183b48",
   "metadata": {},
   "source": [
    "this problem wants us to create a text file that contains your expenses for last month in certain categories and than write a program that reads the data from the file and uses matplot lib to plot a pie chart showing how you spend your money"
   ]
  },
  {
   "cell_type": "code",
   "execution_count": 3,
   "id": "353a0ec4",
   "metadata": {},
   "outputs": [
    {
     "ename": "SyntaxError",
     "evalue": "invalid syntax (363031744.py, line 5)",
     "output_type": "error",
     "traceback": [
      "\u001b[1;36m  Cell \u001b[1;32mIn[3], line 5\u001b[1;36m\u001b[0m\n\u001b[1;33m    Car Payment: 300\u001b[0m\n\u001b[1;37m        ^\u001b[0m\n\u001b[1;31mSyntaxError\u001b[0m\u001b[1;31m:\u001b[0m invalid syntax\n"
     ]
    }
   ],
   "source": [
    " Rent: 1200\n",
    " Gas: 150\n",
    " food: 400\n",
    " Clothing: 100\n",
    " Car Payment: 300\n",
    " misc: 200\n",
    " 'expenses.txt'"
   ]
  },
  {
   "cell_type": "code",
   "execution_count": null,
   "id": "c089b05e",
   "metadata": {},
   "outputs": [],
   "source": []
  }
 ],
 "metadata": {
  "kernelspec": {
   "display_name": "Python 3 (ipykernel)",
   "language": "python",
   "name": "python3"
  },
  "language_info": {
   "codemirror_mode": {
    "name": "ipython",
    "version": 3
   },
   "file_extension": ".py",
   "mimetype": "text/x-python",
   "name": "python",
   "nbconvert_exporter": "python",
   "pygments_lexer": "ipython3",
   "version": "3.11.7"
  }
 },
 "nbformat": 4,
 "nbformat_minor": 5
}
