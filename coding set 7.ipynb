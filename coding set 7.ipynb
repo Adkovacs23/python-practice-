{
 "cells": [
  {
   "cell_type": "markdown",
   "id": "a00e5c7f",
   "metadata": {},
   "source": [
    "Algorithm workbench problem 1"
   ]
  },
  {
   "cell_type": "markdown",
   "id": "b47610fc",
   "metadata": {},
   "source": [
    "this problem is asking us to write a sttement that creates a list with the following strings, einstein, newton, copernicus and ekpler"
   ]
  },
  {
   "cell_type": "code",
   "execution_count": 5,
   "id": "2de5e42b",
   "metadata": {},
   "outputs": [],
   "source": [
    "my_list = [\",Einstein\", \"newton\", \"and\" \"kepler\"]"
   ]
  },
  {
   "cell_type": "markdown",
   "id": "096d797c",
   "metadata": {},
   "source": [
    "### Algorithm workbench problem 2"
   ]
  },
  {
   "cell_type": "markdown",
   "id": "2f89e5d8",
   "metadata": {},
   "source": [
    "this problem wants us to assume names references a list, meaning it wants us to reference the list from the first problem and write a FOR loop that displays each element of the list."
   ]
  },
  {
   "cell_type": "code",
   "execution_count": 6,
   "id": "0299a18a",
   "metadata": {},
   "outputs": [
    {
     "name": "stdout",
     "output_type": "stream",
     "text": [
      ",Einstein\n",
      "newton\n",
      "andkepler\n"
     ]
    }
   ],
   "source": [
    "for element in my_list:\n",
    "    print(element)"
   ]
  },
  {
   "cell_type": "markdown",
   "id": "b0880892",
   "metadata": {},
   "source": [
    "### programming excercise 1"
   ]
  },
  {
   "cell_type": "markdown",
   "id": "e564ec80",
   "metadata": {},
   "source": [
    "this problem wants us to design a program that asks the user to enter a store's sales for each day of the week. the amounts should be stored in a list. use a loop to calculate the total sales for the week and display the result"
   ]
  },
  {
   "cell_type": "code",
   "execution_count": null,
   "id": "3fd6ddde",
   "metadata": {},
   "outputs": [],
   "source": [
    " def main():\n",
    "        sales = []\n",
    "        for day in ['monday', 'tuesday', 'wednesday', 'thursday', 'friday', 'saturday', 'sunday' ]:\n",
    "            daily_sales = float(input(f\"enter sales for {day}: $\"))\n",
    "            sales.append(daily_sales)\n",
    "        \n",
    "        total_sales = sum(sales)\n",
    "        \n",
    "        \n",
    "        print(f\"Total sales for the week: ${total_sales:.2f}\")\n",
    "        \n",
    "        \n",
    " if __name__ == \"__main__\":\n",
    "    main()"
   ]
  },
  {
   "cell_type": "markdown",
   "id": "278c1c31",
   "metadata": {},
   "source": [
    "### programming excercise 14"
   ]
  },
  {
   "cell_type": "markdown",
   "id": "c49889f0",
   "metadata": {},
   "source": [
    "this problem wants us to create a text file that contains your expenses for last month in certain categories and than write a program that reads the data from the file and uses matplot lib to plot a pie chart showing how you spend your money"
   ]
  },
  {
   "cell_type": "code",
   "execution_count": 5,
   "id": "f1dfad52",
   "metadata": {},
   "outputs": [
    {
     "ename": "SyntaxError",
     "evalue": "invalid syntax (713143044.py, line 4)",
     "output_type": "error",
     "traceback": [
      "\u001b[1;36m  Cell \u001b[1;32mIn[5], line 4\u001b[1;36m\u001b[0m\n\u001b[1;33m    Car payment: 300\u001b[0m\n\u001b[1;37m        ^\u001b[0m\n\u001b[1;31mSyntaxError\u001b[0m\u001b[1;31m:\u001b[0m invalid syntax\n"
     ]
    }
   ],
   "source": [
    "Gas: 150\n",
    "Food: 400\n",
    "Clothing: 100\n",
    "Car payment: 300\n",
    "Misc: 200\n"
   ]
  },
  {
   "cell_type": "code",
   "execution_count": 6,
   "id": "dc0649fe",
   "metadata": {},
   "outputs": [
    {
     "ename": "SyntaxError",
     "evalue": "expected ':' (532159880.py, line 4)",
     "output_type": "error",
     "traceback": [
      "\u001b[1;36m  Cell \u001b[1;32mIn[6], line 4\u001b[1;36m\u001b[0m\n\u001b[1;33m    with open('expenses.txt', 'r') as file\u001b[0m\n\u001b[1;37m                                          ^\u001b[0m\n\u001b[1;31mSyntaxError\u001b[0m\u001b[1;31m:\u001b[0m expected ':'\n"
     ]
    }
   ],
   "source": [
    " import matplotlib.pyplot as plt\n",
    "    \n",
    " exoenses = {}\n",
    " with open('expenses.txt', 'r') as file\n",
    "    for line in file:\n",
    "        category, amount = line.split\n",
    "        expenses[category] = float(amount)\n",
    "        \n",
    "        \n",
    " categories = list(expenses.keys())\n",
    " amounts = list(expenses.values())\n",
    "\n",
    "    \n",
    " plt.figure(figsize=(10, 7))\n",
    " plt.pie(amounts, abels=categories, autopct= '%1.1f%', startangle=140)\n",
    " plt.title('monthly expenses')\n",
    " plt.axis('equal')\n",
    "    plt.show()"
   ]
  },
  {
   "cell_type": "markdown",
   "id": "a74e5f65",
   "metadata": {},
   "source": [
    "### programming question 2"
   ]
  },
  {
   "cell_type": "markdown",
   "id": "b2cd4bd7",
   "metadata": {},
   "source": [
    "this problem wants us to Design a program that generates a seven-digit lottery number. The program should generate seven random numbers, each in the range of 0 through 9, and assign each number to a list element."
   ]
  },
  {
   "cell_type": "code",
   "execution_count": 8,
   "id": "15a77ec5",
   "metadata": {},
   "outputs": [
    {
     "name": "stdout",
     "output_type": "stream",
     "text": [
      "your lottery number is:\n",
      "0803377"
     ]
    },
    {
     "ename": "NameError",
     "evalue": "name 'join' is not defined",
     "output_type": "error",
     "traceback": [
      "\u001b[1;31m---------------------------------------------------------------------------\u001b[0m",
      "\u001b[1;31mNameError\u001b[0m                                 Traceback (most recent call last)",
      "Cell \u001b[1;32mIn[8], line 9\u001b[0m\n\u001b[0;32m      6\u001b[0m \u001b[38;5;28;01mfor\u001b[39;00m number \u001b[38;5;129;01min\u001b[39;00m lottery_numbers:\n\u001b[0;32m      7\u001b[0m        \u001b[38;5;28mprint\u001b[39m(number, end\u001b[38;5;241m=\u001b[39m\u001b[38;5;124m'\u001b[39m\u001b[38;5;124m'\u001b[39m)\n\u001b[1;32m----> 9\u001b[0m \u001b[38;5;28mprint\u001b[39m(\u001b[38;5;124m\"\u001b[39m\u001b[38;5;130;01m\\n\u001b[39;00m\u001b[38;5;124myour lottery number is: \u001b[39m\u001b[38;5;124m\"\u001b[39m \u001b[38;5;241m+\u001b[39m \u001b[38;5;124m'\u001b[39m\u001b[38;5;124m'\u001b[39m,join(\u001b[38;5;28mmap\u001b[39m(\u001b[38;5;28mstr\u001b[39m, lottery_numbers)))\n",
      "\u001b[1;31mNameError\u001b[0m: name 'join' is not defined"
     ]
    }
   ],
   "source": [
    " import random\n",
    "    \n",
    " lottery_numbers = [random.randint(0, 9) for _ in range(7)]\n",
    "\n",
    " print(\"your lottery number is:\")\n",
    " for number in lottery_numbers:\n",
    "        print(number, end='')\n",
    "        \n",
    " print(\"\\nyour lottery number is: \" + '',join(map(str, lottery_numbers)))"
   ]
  },
  {
   "cell_type": "markdown",
   "id": "ed6bdeb2",
   "metadata": {},
   "source": [
    "### programing question 3"
   ]
  },
  {
   "cell_type": "markdown",
   "id": "e654f922",
   "metadata": {},
   "source": [
    "this question is asking us to Design a program that lets the user enter the total rainfall for each of 12 months into a list. The program should calculate and display the total rainfall for the year, the average monthly rainfall, the months with the highest and lowest amounts."
   ]
  },
  {
   "cell_type": "code",
   "execution_count": null,
   "id": "24081933",
   "metadata": {},
   "outputs": [],
   "source": []
  }
 ],
 "metadata": {
  "kernelspec": {
   "display_name": "Python 3 (ipykernel)",
   "language": "python",
   "name": "python3"
  },
  "language_info": {
   "codemirror_mode": {
    "name": "ipython",
    "version": 3
   },
   "file_extension": ".py",
   "mimetype": "text/x-python",
   "name": "python",
   "nbconvert_exporter": "python",
   "pygments_lexer": "ipython3",
   "version": "3.11.7"
  }
 },
 "nbformat": 4,
 "nbformat_minor": 5
}
