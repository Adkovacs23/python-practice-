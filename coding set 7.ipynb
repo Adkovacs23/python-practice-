{
 "cells": [
  {
   "cell_type": "markdown",
   "id": "02e8267a",
   "metadata": {},
   "source": [
    "Algorithm workbench problem 1"
   ]
  },
  {
   "cell_type": "markdown",
   "id": "46053e97",
   "metadata": {},
   "source": [
    "this problem is asking us to write a sttement that creates a list with the following strings, einstein, newton, copernicus and ekpler"
   ]
  },
  {
   "cell_type": "code",
   "execution_count": 5,
   "id": "24675207",
   "metadata": {},
   "outputs": [],
   "source": [
    "my_list = [\",Einstein\", \"newton\", \"and\" \"kepler\"]"
   ]
  },
  {
   "cell_type": "markdown",
   "id": "405641d1",
   "metadata": {},
   "source": [
    "### Algorithm workbench problem 2"
   ]
  },
  {
   "cell_type": "markdown",
   "id": "08983045",
   "metadata": {},
   "source": [
    "this problem wants us to assume names references a list, meaning it wants us to reference the list from the first problem and write a FOR loop that displays each element of the list."
   ]
  },
  {
   "cell_type": "code",
   "execution_count": 6,
   "id": "46aae72d",
   "metadata": {},
   "outputs": [
    {
     "name": "stdout",
     "output_type": "stream",
     "text": [
      ",Einstein\n",
      "newton\n",
      "andkepler\n"
     ]
    }
   ],
   "source": [
    "for element in my_list:\n",
    "    print(element)"
   ]
  },
  {
   "cell_type": "markdown",
   "id": "1bd59281",
   "metadata": {},
   "source": [
    "### programming excercise 1"
   ]
  },
  {
   "cell_type": "markdown",
   "id": "8cd7b51c",
   "metadata": {},
   "source": [
    "this problem wants us to design a program that asks the user to enter a store's sales for each day of the week. the amounts should be stored in a list. use a loop to calculate the total sales for the week and display the result"
   ]
  },
  {
   "cell_type": "code",
   "execution_count": null,
   "id": "54ed18c6",
   "metadata": {},
   "outputs": [],
   "source": [
    " def main():\n",
    "        sales = []\n",
    "        for day in ['monday', 'tuesday', 'wednesday', 'thursday', 'friday', 'saturday', 'sunday' ]:\n",
    "            daily_sales = float(input(f\"enter sales for {day}: $\"))\n",
    "            sales.append(daily_sales)\n",
    "        \n",
    "        total_sales = sum(sales)\n",
    "        \n",
    "        \n",
    "        print(f\"Total sales for the week: ${total_sales:.2f}\")\n",
    "        \n",
    "        \n",
    " if __name__ == \"__main__\":\n",
    "    main()"
   ]
  },
  {
   "cell_type": "markdown",
   "id": "fe9e103a",
   "metadata": {},
   "source": [
    "### programming excercise 14"
   ]
  },
  {
   "cell_type": "markdown",
   "id": "86936160",
   "metadata": {},
   "source": [
    "this problem wants us to create a text file that contains your expenses for last month in certain categories and than write a program that reads the data from the file and uses matplot lib to plot a pie chart showing how you spend your money"
   ]
  },
  {
   "cell_type": "code",
   "execution_count": 5,
   "id": "ccdece74",
   "metadata": {},
   "outputs": [
    {
     "ename": "SyntaxError",
     "evalue": "invalid syntax (713143044.py, line 4)",
     "output_type": "error",
     "traceback": [
      "\u001b[1;36m  Cell \u001b[1;32mIn[5], line 4\u001b[1;36m\u001b[0m\n\u001b[1;33m    Car payment: 300\u001b[0m\n\u001b[1;37m        ^\u001b[0m\n\u001b[1;31mSyntaxError\u001b[0m\u001b[1;31m:\u001b[0m invalid syntax\n"
     ]
    }
   ],
   "source": [
    "Gas: 150\n",
    "Food: 400\n",
    "Clothing: 100\n",
    "Car payment: 300\n",
    "Misc: 200\n"
   ]
  },
  {
   "cell_type": "code",
   "execution_count": 6,
   "id": "5c384c6d",
   "metadata": {},
   "outputs": [
    {
     "ename": "SyntaxError",
     "evalue": "expected ':' (532159880.py, line 4)",
     "output_type": "error",
     "traceback": [
      "\u001b[1;36m  Cell \u001b[1;32mIn[6], line 4\u001b[1;36m\u001b[0m\n\u001b[1;33m    with open('expenses.txt', 'r') as file\u001b[0m\n\u001b[1;37m                                          ^\u001b[0m\n\u001b[1;31mSyntaxError\u001b[0m\u001b[1;31m:\u001b[0m expected ':'\n"
     ]
    }
   ],
   "source": [
    " import matplotlib.pyplot as plt\n",
    "    \n",
    " exoenses = {}\n",
    " with open('expenses.txt', 'r') as file\n",
    "    for line in file:\n",
    "        category, amount = line.split\n",
    "        expenses[category] = float(amount)\n",
    "        \n",
    "        \n",
    " categories = list(expenses.keys())\n",
    " amounts = list(expenses.values())\n",
    "\n",
    "    \n",
    " plt.figure(figsize=(10, 7))\n",
    " plt.pie(amounts, abels=categories, autopct= '%1.1f%', startangle=140)\n",
    " plt.title('monthly expenses')\n",
    " plt.axis('equal')\n",
    "    plt.show()"
   ]
  },
  {
   "cell_type": "markdown",
   "id": "4b6709d3",
   "metadata": {},
   "source": [
    "### programming question 2"
   ]
  },
  {
   "cell_type": "markdown",
   "id": "61a65106",
   "metadata": {},
   "source": [
    "this problem wants us to Design a program that generates a seven-digit lottery number. The program should generate seven random numbers, each in the range of 0 through 9, and assign each number to a list element."
   ]
  },
  {
   "cell_type": "code",
   "execution_count": 8,
   "id": "18f6eafb",
   "metadata": {},
   "outputs": [
    {
     "name": "stdout",
     "output_type": "stream",
     "text": [
      "your lottery number is:\n",
      "0803377"
     ]
    },
    {
     "ename": "NameError",
     "evalue": "name 'join' is not defined",
     "output_type": "error",
     "traceback": [
      "\u001b[1;31m---------------------------------------------------------------------------\u001b[0m",
      "\u001b[1;31mNameError\u001b[0m                                 Traceback (most recent call last)",
      "Cell \u001b[1;32mIn[8], line 9\u001b[0m\n\u001b[0;32m      6\u001b[0m \u001b[38;5;28;01mfor\u001b[39;00m number \u001b[38;5;129;01min\u001b[39;00m lottery_numbers:\n\u001b[0;32m      7\u001b[0m        \u001b[38;5;28mprint\u001b[39m(number, end\u001b[38;5;241m=\u001b[39m\u001b[38;5;124m'\u001b[39m\u001b[38;5;124m'\u001b[39m)\n\u001b[1;32m----> 9\u001b[0m \u001b[38;5;28mprint\u001b[39m(\u001b[38;5;124m\"\u001b[39m\u001b[38;5;130;01m\\n\u001b[39;00m\u001b[38;5;124myour lottery number is: \u001b[39m\u001b[38;5;124m\"\u001b[39m \u001b[38;5;241m+\u001b[39m \u001b[38;5;124m'\u001b[39m\u001b[38;5;124m'\u001b[39m,join(\u001b[38;5;28mmap\u001b[39m(\u001b[38;5;28mstr\u001b[39m, lottery_numbers)))\n",
      "\u001b[1;31mNameError\u001b[0m: name 'join' is not defined"
     ]
    }
   ],
   "source": [
    " import random\n",
    "    \n",
    " lottery_numbers = [random.randint(0, 9) for _ in range(7)]\n",
    "\n",
    " print(\"your lottery number is:\")\n",
    " for number in lottery_numbers:\n",
    "        print(number, end='')\n",
    "        \n",
    " print(\"\\nyour lottery number is: \" + '',join(map(str, lottery_numbers)))"
   ]
  },
  {
   "cell_type": "markdown",
   "id": "9d0eadcc",
   "metadata": {},
   "source": [
    "### programing question 3"
   ]
  },
  {
   "cell_type": "markdown",
   "id": "9594c224",
   "metadata": {},
   "source": [
    "this question is asking us to Design a program that lets the user enter the total rainfall for each of 12 months into a list. The program should calculate and display the total rainfall for the year, the average monthly rainfall, the months with the highest and lowest amounts."
   ]
  },
  {
   "cell_type": "code",
   "execution_count": null,
   "id": "8d67dde9",
   "metadata": {},
   "outputs": [],
   "source": [
    "def get_rainfall():\n",
    "    rainfall = []\n",
    "    for month in range(1, 13):\n",
    "        while True:\n",
    "            try:\n",
    "                amount = float(input(f\"Enter the total rainfall for month {month}: \"))\n",
    "                if amount < 0:\n",
    "                    raise ValueError(\"Rainfall amount cannot be negative.\")\n",
    "                rainfall.append(amount)\n",
    "                break\n",
    "            except ValueError as e:\n",
    "                print(e)\n",
    "    return rainfall\n",
    "\n",
    "def calculate_statistics(rainfall):\n",
    "    total_rainfall = sum(rainfall)\n",
    "    average_rainfall = total_rainfall / len(rainfall)\n",
    "    highest_rainfall = max(rainfall)\n",
    "    lowest_rainfall = min(rainfall)\n",
    "    highest_month = rainfall.index(highest_rainfall) + 1\n",
    "    lowest_month = rainfall.index(lowest_rainfall) + 1\n",
    "    return total_rainfall, average_rainfall, highest_month, highest_rainfall, lowest_month, lowest_rainfall\n",
    "\n",
    " \n",
    "def display_statistics(total_rainfall, average_rainfall, highest_month, highest_rainfall, lowest_month, lowest_rainfall):\n",
    "    print(\"\\nRainfall Statistics:\")\n",
    "    print(f\"Total rainfall for the year: {total_rainfall:.2f} units\")\n",
    "    print(f\"Average monthly rainfall: {average_rainfall:.2f} units\")\n",
    "    print(f\"Highest rainfall in month {highest_month}: {highest_rainfall:.2f} units\")\n",
    "    print(f\"Lowest rainfall in month {lowest_month}: {lowest_rainfall:.2f} units\")\n",
    "\n",
    "def main():\n",
    "    rainfall = get_rainfall()\n",
    "    total_rainfall, average_rainfall, highest_month, highest_rainfall, lowest_month, lowest_rainfall = calculate_statistics(rainfall)\n",
    "    display_statistics(total_rainfall, average_rainfall, highest_month, highest_rainfall, lowest_month, lowest_rainfall)\n",
    "\n",
    "if __name__ == \"__main__\":\n",
    "    main()"
   ]
  }
 ],
 "metadata": {
  "kernelspec": {
   "display_name": "Python 3 (ipykernel)",
   "language": "python",
   "name": "python3"
  },
  "language_info": {
   "codemirror_mode": {
    "name": "ipython",
    "version": 3
   },
   "file_extension": ".py",
   "mimetype": "text/x-python",
   "name": "python",
   "nbconvert_exporter": "python",
   "pygments_lexer": "ipython3",
   "version": "3.11.7"
  }
 },
 "nbformat": 4,
 "nbformat_minor": 5
}
