{
 "cells": [
  {
   "cell_type": "markdown",
   "id": "a31adc41",
   "metadata": {},
   "source": [
    "# coding set 2"
   ]
  },
  {
   "cell_type": "markdown",
   "id": "c67cf362",
   "metadata": {},
   "source": [
    "algorithm workbench problem number 8"
   ]
  },
  {
   "cell_type": "markdown",
   "id": "7b797d9a",
   "metadata": {},
   "source": [
    "in this problem they are asking what the following set of info would display when coded"
   ]
  },
  {
   "cell_type": "markdown",
   "id": "1df3d060",
   "metadata": {},
   "source": [
    "a=5\n",
    "b=2\n",
    "c=3\n",
    "result=a+b+c\n",
    "print('result')"
   ]
  },
  {
   "cell_type": "markdown",
   "id": "52dc7716",
   "metadata": {},
   "source": [
    "I think this set of code will result in the number being 10"
   ]
  },
  {
   "cell_type": "code",
   "execution_count": 3,
   "id": "eb206585",
   "metadata": {},
   "outputs": [
    {
     "name": "stdout",
     "output_type": "stream",
     "text": [
      "result\n"
     ]
    }
   ],
   "source": [
    "a=5\n",
    "b=2\n",
    "c=3\n",
    "result=a+b+c\n",
    "print(\"result\")"
   ]
  },
  {
   "cell_type": "markdown",
   "id": "50a3ab9e",
   "metadata": {},
   "source": [
    "I accidently put apostraphys in the print function making the function not give me the number but giving me the word result as an awnser"
   ]
  },
  {
   "cell_type": "code",
   "execution_count": 1,
   "id": "69d66ff0",
   "metadata": {},
   "outputs": [
    {
     "name": "stdout",
     "output_type": "stream",
     "text": [
      "10\n"
     ]
    }
   ],
   "source": [
    "a=5\n",
    "b=2\n",
    "c=3\n",
    "result=a+b+c\n",
    "print(result)"
   ]
  },
  {
   "cell_type": "markdown",
   "id": "ce8cd19a",
   "metadata": {},
   "source": [
    "# programming excercise 1"
   ]
  },
  {
   "cell_type": "markdown",
   "id": "30994106",
   "metadata": {},
   "source": [
    "this problem is asking us to display information of a student such as their maijor, the state and city they live in ect through code "
   ]
  },
  {
   "cell_type": "code",
   "execution_count": null,
   "id": "6b4991fc",
   "metadata": {},
   "outputs": [],
   "source": [
    "print('name: randyl')\n",
    "print('address, city, state, and zip code: 420 north mirage dr, rochester michigan, 48083')\n",
    "print('telephone number: 248-123-4567')\n",
    "print('college maijor: supply chain management')"
   ]
  },
  {
   "cell_type": "markdown",
   "id": "148a5e70",
   "metadata": {},
   "source": [
    "# programming excercise 13"
   ]
  },
  {
   "cell_type": "markdown",
   "id": "abd85979",
   "metadata": {},
   "source": [
    "this problem is asking us to write a line of code that makes the calculation for the vineyard owner, this code should include the length of the row in feet, the amount of space used by an end-post assembly in feet, and the amount of space between the vines in feet. "
   ]
  },
  {
   "cell_type": "markdown",
   "id": "85be891f",
   "metadata": {},
   "source": [
    "find the length of the row in feet"
   ]
  },
  {
   "cell_type": "code",
   "execution_count": null,
   "id": "e8f15cff",
   "metadata": {},
   "outputs": [
    {
     "name": "stdout",
     "output_type": "stream",
     "text": [
      "please enter the length of the vineyard in feet:\n"
     ]
    }
   ],
   "source": [
    "print(\"please enter the length of the vineyard in feet:\")\n",
    "length = input()"
   ]
  },
  {
   "cell_type": "code",
   "execution_count": null,
   "id": "3f385189",
   "metadata": {},
   "outputs": [],
   "source": [
    "print(\"please enter the amount of space used by an end-post assembly in feet:\")\n",
    "= input()"
   ]
  },
  {
   "cell_type": "code",
   "execution_count": null,
   "id": "66e0a56d",
   "metadata": {},
   "outputs": [],
   "source": [
    "print(\"please entr the amount of space between the vines needed in feet:\")\n",
    "space between vines = inputS()"
   ]
  },
  {
   "cell_type": "markdown",
   "id": "eee2ea8c",
   "metadata": {},
   "source": [
    "I created print statements to find each input needed to calculate how many grapevines can be made"
   ]
  },
  {
   "cell_type": "code",
   "execution_count": null,
   "id": "2cb2937a",
   "metadata": {},
   "outputs": [],
   "source": [
    "calculate_grapevines(row_length, end_post_space, vine_space)"
   ]
  },
  {
   "cell_type": "markdown",
   "id": "301ac62f",
   "metadata": {},
   "source": [
    "above is my first attempt at writing this code and below is my second attempt, although my jupiter notebook does not seem to be giving me the presumesd solutions to the code, evertime i press shift and enter nothing happens "
   ]
  },
  {
   "cell_type": "code",
   "execution_count": null,
   "id": "166b1aa4",
   "metadata": {},
   "outputs": [],
   "source": [
    "R = float(input(\"Enter the length of the row in feet:\"))\n",
    "E = float(input(\"Enter the amount of space used by an end-post assembly in feet:\"))\n",
    "S = float(input(\"Enter the amount of space between the vines in feet:\"))\n",
    "# I created float variable inputs for the calculating terms\n",
    "V = ( R - (2 * E))/S\n",
    "# I made the 'V' variable equal to the equation while utilizing order of operations\n",
    "print(\"The number of grapevines that will fit in the row:\" , V)\n",
    "# After calculating the equations using the inputs, the number of grapevines that can fit is displayed."
   ]
  }
 ],
 "metadata": {
  "kernelspec": {
   "display_name": "Python 3 (ipykernel)",
   "language": "python",
   "name": "python3"
  },
  "language_info": {
   "codemirror_mode": {
    "name": "ipython",
    "version": 3
   },
   "file_extension": ".py",
   "mimetype": "text/x-python",
   "name": "python",
   "nbconvert_exporter": "python",
   "pygments_lexer": "ipython3",
   "version": "3.11.7"
  }
 },
 "nbformat": 4,
 "nbformat_minor": 5
}
