{
 "cells": [
  {
   "cell_type": "markdown",
   "id": "c356d6a0",
   "metadata": {},
   "source": [
    "# coding set 2"
   ]
  },
  {
   "cell_type": "markdown",
   "id": "53e206c6",
   "metadata": {},
   "source": [
    "algorithm workbench problem number 8"
   ]
  },
  {
   "cell_type": "markdown",
   "id": "1f47548d",
   "metadata": {},
   "source": [
    "in this problem they are asking what the following set of info would display when coded"
   ]
  },
  {
   "cell_type": "markdown",
   "id": "b1ca445c",
   "metadata": {},
   "source": [
    "a=5\n",
    "b=2\n",
    "c=3\n",
    "result=a+b+c\n",
    "print('result')"
   ]
  },
  {
   "cell_type": "markdown",
   "id": "f05d1797",
   "metadata": {},
   "source": [
    "I think this set of code will result in the number being 10"
   ]
  },
  {
   "cell_type": "code",
   "execution_count": 3,
   "id": "eaa025d9",
   "metadata": {},
   "outputs": [
    {
     "name": "stdout",
     "output_type": "stream",
     "text": [
      "result\n"
     ]
    }
   ],
   "source": [
    "a=5\n",
    "b=2\n",
    "c=3\n",
    "result=a+b+c\n",
    "print(\"result\")"
   ]
  },
  {
   "cell_type": "markdown",
   "id": "f3732cef",
   "metadata": {},
   "source": [
    "I accidently put apostraphys in the print function making the function not give me the number but giving me the word result as an awnser"
   ]
  },
  {
   "cell_type": "code",
   "execution_count": 5,
   "id": "5ec64a60",
   "metadata": {},
   "outputs": [
    {
     "name": "stdout",
     "output_type": "stream",
     "text": [
      "10\n"
     ]
    }
   ],
   "source": [
    "a=5\n",
    "b=2\n",
    "c=3\n",
    "result=a+b+c\n",
    "print(result)"
   ]
  },
  {
   "cell_type": "markdown",
   "id": "f830a460",
   "metadata": {},
   "source": []
  }
 ],
 "metadata": {
  "kernelspec": {
   "display_name": "Python 3 (ipykernel)",
   "language": "python",
   "name": "python3"
  },
  "language_info": {
   "codemirror_mode": {
    "name": "ipython",
    "version": 3
   },
   "file_extension": ".py",
   "mimetype": "text/x-python",
   "name": "python",
   "nbconvert_exporter": "python",
   "pygments_lexer": "ipython3",
   "version": "3.11.7"
  }
 },
 "nbformat": 4,
 "nbformat_minor": 5
}
