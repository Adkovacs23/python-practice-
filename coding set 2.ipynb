{
 "cells": [
  {
   "cell_type": "markdown",
   "id": "a31adc41",
   "metadata": {},
   "source": [
    "# coding set 2"
   ]
  },
  {
   "cell_type": "markdown",
   "id": "c67cf362",
   "metadata": {},
   "source": [
    "algorithm workbench problem number 8"
   ]
  },
  {
   "cell_type": "markdown",
   "id": "7b797d9a",
   "metadata": {},
   "source": [
    "in this problem they are asking what the following set of info would display when coded"
   ]
  },
  {
   "cell_type": "markdown",
   "id": "1df3d060",
   "metadata": {},
   "source": [
    "a=5\n",
    "b=2\n",
    "c=3\n",
    "result=a+b+c\n",
    "print('result')"
   ]
  },
  {
   "cell_type": "markdown",
   "id": "52dc7716",
   "metadata": {},
   "source": [
    "I think this set of code will result in the number being 10"
   ]
  },
  {
   "cell_type": "code",
   "execution_count": 3,
   "id": "eb206585",
   "metadata": {},
   "outputs": [
    {
     "name": "stdout",
     "output_type": "stream",
     "text": [
      "result\n"
     ]
    }
   ],
   "source": [
    "a=5\n",
    "b=2\n",
    "c=3\n",
    "result=a+b+c\n",
    "print(\"result\")"
   ]
  },
  {
   "cell_type": "markdown",
   "id": "50a3ab9e",
   "metadata": {},
   "source": [
    "I accidently put apostraphys in the print function making the function not give me the number but giving me the word result as an awnser"
   ]
  },
  {
   "cell_type": "code",
   "execution_count": 1,
   "id": "69d66ff0",
   "metadata": {},
   "outputs": [
    {
     "name": "stdout",
     "output_type": "stream",
     "text": [
      "10\n"
     ]
    }
   ],
   "source": [
    "a=5\n",
    "b=2\n",
    "c=3\n",
    "result=a+b+c\n",
    "print(result)"
   ]
  },
  {
   "cell_type": "markdown",
   "id": "ce8cd19a",
   "metadata": {},
   "source": [
    "# programming excercise 1"
   ]
  },
  {
   "cell_type": "markdown",
   "id": "255ce2b5",
   "metadata": {},
   "source": [
    "this problem is asking us to display information of a student such as their maijor, the state and city they live in ect through code "
   ]
  },
  {
   "cell_type": "code",
   "execution_count": 16,
   "id": "6b4991fc",
   "metadata": {},
   "outputs": [
    {
     "name": "stdout",
     "output_type": "stream",
     "text": [
      "name: randyl\n",
      "address, city, state, and zip code: 420 north mirage dr, rochester michigan, 48083\n",
      "telephone number: 248-123-4567\n",
      "college maijor: supply chain management\n"
     ]
    }
   ],
   "source": [
    "print('name: randyl')\n",
    "print('address, city, state, and zip code: 420 north mirage dr, rochester michigan, 48083')\n",
    "print('telephone number: 248-123-4567')\n",
    "print('college maijor: supply chain management')"
   ]
  },
  {
   "cell_type": "markdown",
   "id": "3bbd669f",
   "metadata": {},
   "source": []
  }
 ],
 "metadata": {
  "kernelspec": {
   "display_name": "Python 3 (ipykernel)",
   "language": "python",
   "name": "python3"
  },
  "language_info": {
   "codemirror_mode": {
    "name": "ipython",
    "version": 3
   },
   "file_extension": ".py",
   "mimetype": "text/x-python",
   "name": "python",
   "nbconvert_exporter": "python",
   "pygments_lexer": "ipython3",
   "version": "3.11.7"
  }
 },
 "nbformat": 4,
 "nbformat_minor": 5
}
