{
 "cells": [
  {
   "cell_type": "markdown",
   "id": "ea499c0a",
   "metadata": {},
   "source": [
    "# chapter 1 ex.\n",
    "problems 1, 3, 4"
   ]
  },
  {
   "cell_type": "markdown",
   "id": "55e65905",
   "metadata": {},
   "source": [
    "## Ex. 1"
   ]
  },
  {
   "cell_type": "code",
   "execution_count": 22,
   "id": "2bcc94b4",
   "metadata": {},
   "outputs": [
    {
     "name": "stdout",
     "output_type": "stream",
     "text": [
      "this is a test of the python interpreter\n"
     ]
    }
   ],
   "source": [
    "print('this is a test of the python interpreter')\n",
    "    "
   ]
  },
  {
   "cell_type": "code",
   "execution_count": 11,
   "id": "cc67a28b",
   "metadata": {},
   "outputs": [
    {
     "name": "stdout",
     "output_type": "stream",
     "text": [
      "the lions will win the super bowl in 2024.\n"
     ]
    }
   ],
   "source": [
    "print('the lions will win the super bowl in 2024.')"
   ]
  },
  {
   "cell_type": "code",
   "execution_count": 18,
   "id": "66591363",
   "metadata": {},
   "outputs": [
    {
     "name": "stdout",
     "output_type": "stream",
     "text": [
      "the red wings will win the stanley cup in: 2025\n"
     ]
    }
   ],
   "source": [
    "print('the red wings will win the stanley cup in:', 2025)"
   ]
  },
  {
   "cell_type": "markdown",
   "id": "29d18f9b",
   "metadata": {},
   "source": [
    "## Ex 3"
   ]
  },
  {
   "cell_type": "markdown",
   "id": "02238ae4",
   "metadata": {},
   "source": [
    "11= 1011\n",
    "65= 1000001\n",
    "100= 1100100\n",
    "255= 11111111"
   ]
  },
  {
   "cell_type": "markdown",
   "id": "25b62791",
   "metadata": {},
   "source": [
    "Above was my first attempt with writing down the connversion from decimal numbers to bianary numbers. and below is my revised  converstion after seeing how my peers in my class copletet the work, helped give me an understanding of exactly what the question was asking. "
   ]
  },
  {
   "cell_type": "code",
   "execution_count": 25,
   "id": "f34978ee",
   "metadata": {},
   "outputs": [
    {
     "name": "stdout",
     "output_type": "stream",
     "text": [
      "11 divided by 2=5 with a remainder of 1\n",
      "5 divided by 2=2 with a remainder of 1\n",
      "2 divided by 2=1 with a remainter pf 0\n",
      "1 divided by 2=0 with a remainder of 1\n",
      "so 11 is equal to 1101 in bianary\n"
     ]
    }
   ],
   "source": [
    "print('11 divided by 2=5 with a remainder of 1')\n",
    "print('5 divided by 2=2 with a remainder of 1')\n",
    "print('2 divided by 2=1 with a remainter pf 0')\n",
    "print('1 divided by 2=0 with a remainder of 1')\n",
    "print('so 11 is equal to 1101 in bianary')"
   ]
  },
  {
   "cell_type": "code",
   "execution_count": 28,
   "id": "8b09d1e3",
   "metadata": {},
   "outputs": [
    {
     "name": "stdout",
     "output_type": "stream",
     "text": [
      "65 divided by 2=32 with a remainder of 1\n",
      "32 divided by 2=16 with a remainder of 0\n",
      "16 divided by 2=8 with a remainder of 0\n",
      "8 divided by 2=4 with a remainder of 0\n",
      "4 divided by 2=2 with a remainder of 0\n",
      "2 divided by 2=1 with a remiander of 0\n",
      "1 divided by 2=0 with a remainder of 1\n",
      " so 65 in bianary is 1000001\n"
     ]
    }
   ],
   "source": [
    "print('65 divided by 2=32 with a remainder of 1')\n",
    "print('32 divided by 2=16 with a remainder of 0')\n",
    "print('16 divided by 2=8 with a remainder of 0')\n",
    "print('8 divided by 2=4 with a remainder of 0')\n",
    "print('4 divided by 2=2 with a remainder of 0')\n",
    "print('2 divided by 2=1 with a remiander of 0')\n",
    "print('1 divided by 2=0 with a remainder of 1')\n",
    "print(' so 65 in bianary is 1000001')"
   ]
  },
  {
   "cell_type": "code",
   "execution_count": 29,
   "id": "71e80ffc",
   "metadata": {},
   "outputs": [
    {
     "name": "stdout",
     "output_type": "stream",
     "text": [
      "100 divided by 2=50 with a remainder of 0\n",
      "50 divided by 2=25 with a remainder of 0\n",
      "25 divided by 2=12 with a remainder of 1\n",
      "12 divided by 2=6 with a remainder of 0\n",
      "6 divided by 2=3 with a remainder of 0\n",
      "3 divided by 2=1 with a remainder of 1\n",
      "1 divided by 2=0 with a remainder of 1\n",
      "so 100 in bianary is 1100100\n"
     ]
    }
   ],
   "source": [
    "print('100 divided by 2=50 with a remainder of 0')\n",
    "print('50 divided by 2=25 with a remainder of 0')\n",
    "print('25 divided by 2=12 with a remainder of 1')\n",
    "print('12 divided by 2=6 with a remainder of 0')\n",
    "print('6 divided by 2=3 with a remainder of 0')\n",
    "print('3 divided by 2=1 with a remainder of 1')\n",
    "print('1 divided by 2=0 with a remainder of 1')\n",
    "print('so 100 in bianary is 1100100')"
   ]
  },
  {
   "cell_type": "code",
   "execution_count": 30,
   "id": "0181f216",
   "metadata": {},
   "outputs": [
    {
     "ename": "NameError",
     "evalue": "name 'Print' is not defined",
     "output_type": "error",
     "traceback": [
      "\u001b[1;31m---------------------------------------------------------------------------\u001b[0m",
      "\u001b[1;31mNameError\u001b[0m                                 Traceback (most recent call last)",
      "Cell \u001b[1;32mIn[30], line 1\u001b[0m\n\u001b[1;32m----> 1\u001b[0m Print(\u001b[38;5;124m'\u001b[39m\u001b[38;5;124m255 divided by 2=127 remainder of 1\u001b[39m\u001b[38;5;124m'\u001b[39m)\n\u001b[0;32m      2\u001b[0m \u001b[38;5;28mprint\u001b[39m(\u001b[38;5;124m'\u001b[39m\u001b[38;5;124m127 divided by 2=63 remainder of 1\u001b[39m\u001b[38;5;124m'\u001b[39m)\n\u001b[0;32m      3\u001b[0m \u001b[38;5;28mprint\u001b[39m(\u001b[38;5;124m'\u001b[39m\u001b[38;5;124m63 divided by 2=31 remainder of 1\u001b[39m\u001b[38;5;124m'\u001b[39m)\n",
      "\u001b[1;31mNameError\u001b[0m: name 'Print' is not defined"
     ]
    }
   ],
   "source": [
    "Print('255 divided by 2=127 remainder of 1')\n",
    "print('127 divided by 2=63 remainder of 1')\n",
    "print('63 divided by 2=31 remainder of 1')\n",
    "print(\"31 divided by 2=15 remainder of 1\")\n",
    "print(\"15 divided by 2=7 remainder of 1\")\n",
    "print(\"7divided by 2=3 reaminder of 1\")\n",
    "print(\"3 divided by 2=1 remainder of 1\")\n",
    "print(\"1 divided by 2=0 remainder of 1\")\n",
    "print('so 255 turned into binary is 11111111')"
   ]
  },
  {
   "cell_type": "code",
   "execution_count": 31,
   "id": "01fb6422",
   "metadata": {},
   "outputs": [
    {
     "name": "stdout",
     "output_type": "stream",
     "text": [
      "255 divided by 2=127 remainder of 1\n",
      "127 divided by 2=63 remainder of 1\n",
      "63 divided by 2=31 remainder of 1\n",
      "31 divided by 2=15 remainder of 1\n",
      "15 divided by 2=7 remainder of 1\n",
      "7divided by 2=3 reaminder of 1\n",
      "3 divided by 2=1 remainder of 1\n",
      "1 divided by 2=0 remainder of 1\n",
      "so 255 turned into binary is 11111111\n"
     ]
    }
   ],
   "source": [
    "print('255 divided by 2=127 remainder of 1')\n",
    "print('127 divided by 2=63 remainder of 1')\n",
    "print('63 divided by 2=31 remainder of 1')\n",
    "print(\"31 divided by 2=15 remainder of 1\")\n",
    "print(\"15 divided by 2=7 remainder of 1\")\n",
    "print(\"7divided by 2=3 reaminder of 1\")\n",
    "print(\"3 divided by 2=1 remainder of 1\")\n",
    "print(\"1 divided by 2=0 remainder of 1\")\n",
    "print('so 255 turned into binary is 11111111')"
   ]
  },
  {
   "cell_type": "markdown",
   "id": "866b112c",
   "metadata": {},
   "source": [
    "learned you cant capitalize the print function or it wont work "
   ]
  },
  {
   "cell_type": "markdown",
   "id": "b01a951f",
   "metadata": {},
   "source": [
    "## ex 6"
   ]
  },
  {
   "cell_type": "markdown",
   "id": "feb1b619",
   "metadata": {},
   "source": [
    "who is the creator of python: guido van rossum\n",
    "when was python created: febuary 20 1991\n",
    "In the Python programming community, the person who created Python is commonly referred to as the “BDFL.” What does this mean?: this means benevolent dictator for life, it signifies that guido van rossum had the final say in disputes or decisions regarding the development of python"
   ]
  }
 ],
 "metadata": {
  "kernelspec": {
   "display_name": "Python 3 (ipykernel)",
   "language": "python",
   "name": "python3"
  },
  "language_info": {
   "codemirror_mode": {
    "name": "ipython",
    "version": 3
   },
   "file_extension": ".py",
   "mimetype": "text/x-python",
   "name": "python",
   "nbconvert_exporter": "python",
   "pygments_lexer": "ipython3",
   "version": "3.11.7"
  }
 },
 "nbformat": 4,
 "nbformat_minor": 5
}
