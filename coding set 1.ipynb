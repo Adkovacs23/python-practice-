{
 "cells": [
  {
   "cell_type": "markdown",
   "id": "ea499c0a",
   "metadata": {},
   "source": [
    "# chapter 1 ex.\n",
    "problems 1, 3, 4"
   ]
  },
  {
   "cell_type": "markdown",
   "id": "55e65905",
   "metadata": {},
   "source": [
    "## Ex. 1"
   ]
  },
  {
   "cell_type": "code",
   "execution_count": 22,
   "id": "2bcc94b4",
   "metadata": {},
   "outputs": [
    {
     "name": "stdout",
     "output_type": "stream",
     "text": [
      "this is a test of the python interpreter\n"
     ]
    }
   ],
   "source": [
    "print('this is a test of the python interpreter')\n",
    "    "
   ]
  },
  {
   "cell_type": "code",
   "execution_count": 11,
   "id": "cc67a28b",
   "metadata": {},
   "outputs": [
    {
     "name": "stdout",
     "output_type": "stream",
     "text": [
      "the lions will win the super bowl in 2024.\n"
     ]
    }
   ],
   "source": [
    "print('the lions will win the super bowl in 2024.')"
   ]
  },
  {
   "cell_type": "code",
   "execution_count": 18,
   "id": "66591363",
   "metadata": {},
   "outputs": [
    {
     "name": "stdout",
     "output_type": "stream",
     "text": [
      "the red wings will win the stanley cup in: 2025\n"
     ]
    }
   ],
   "source": [
    "print('the red wings will win the stanley cup in:', 2025)"
   ]
  },
  {
   "cell_type": "markdown",
   "id": "29d18f9b",
   "metadata": {},
   "source": [
    "## Ex 3"
   ]
  },
  {
   "cell_type": "markdown",
   "id": "073afa43",
   "metadata": {},
   "source": [
    "11= 1011\n",
    "65= 1000001\n",
    "100= 1100100\n",
    "255= 11111111"
   ]
  },
  {
   "cell_type": "markdown",
   "id": "b01a951f",
   "metadata": {},
   "source": [
    "## ex 6"
   ]
  },
  {
   "cell_type": "markdown",
   "id": "feb1b619",
   "metadata": {},
   "source": [
    "who is the creator of python: guido van rossum\n",
    "when was python created: febuary 20 1991\n",
    "In the Python programming community, the person who created Python is commonly referred to as the “BDFL.” What does this mean?: this means benevolent dictator for life, it signifies that guido van rossum had the final say in disputes or decisions regarding the development of python"
   ]
  }
 ],
 "metadata": {
  "kernelspec": {
   "display_name": "Python 3 (ipykernel)",
   "language": "python",
   "name": "python3"
  },
  "language_info": {
   "codemirror_mode": {
    "name": "ipython",
    "version": 3
   },
   "file_extension": ".py",
   "mimetype": "text/x-python",
   "name": "python",
   "nbconvert_exporter": "python",
   "pygments_lexer": "ipython3",
   "version": "3.11.7"
  }
 },
 "nbformat": 4,
 "nbformat_minor": 5
}
