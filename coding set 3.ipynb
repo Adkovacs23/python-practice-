{
 "cells": [
  {
   "cell_type": "markdown",
   "id": "e66a21e0",
   "metadata": {},
   "source": [
    "# coding set 3"
   ]
  },
  {
   "cell_type": "markdown",
   "id": "60e522a2",
   "metadata": {},
   "source": [
    "### algorithm workbench problem 4 "
   ]
  },
  {
   "cell_type": "code",
   "execution_count": 27,
   "id": "b5124e1e",
   "metadata": {},
   "outputs": [
    {
     "ename": "NameError",
     "evalue": "name 'score' is not defined",
     "output_type": "error",
     "traceback": [
      "\u001b[1;31m---------------------------------------------------------------------------\u001b[0m",
      "\u001b[1;31mNameError\u001b[0m                                 Traceback (most recent call last)",
      "Cell \u001b[1;32mIn[27], line 1\u001b[0m\n\u001b[1;32m----> 1\u001b[0m \u001b[38;5;28;01mif\u001b[39;00m score \u001b[38;5;241m>\u001b[39m\u001b[38;5;241m=\u001b[39m A_score:\n\u001b[0;32m      2\u001b[0m     \u001b[38;5;28mprint\u001b[39m(\u001b[38;5;124m'\u001b[39m\u001b[38;5;124myour grade is A.\u001b[39m\u001b[38;5;124m'\u001b[39m)\n\u001b[0;32m      3\u001b[0m \u001b[38;5;28;01melse\u001b[39;00m:\n",
      "\u001b[1;31mNameError\u001b[0m: name 'score' is not defined"
     ]
    }
   ],
   "source": [
    "if score >= A_score:\n",
    "    print('your grade is A.')\n",
    "else:\n",
    "    if score >= B_score:\n",
    "        print('your grade is B.')\n",
    "    else:\n",
    "        if score >= C_score:\n",
    "            print('your grade is C.')\n",
    "        else:\n",
    "            if score >= D_Score:\n",
    "                print('your grade is D.')\n",
    "            else:\n",
    "                print('your grade is f.')"
   ]
  },
  {
   "cell_type": "markdown",
   "id": "8d171dcb",
   "metadata": {},
   "source": [
    "i dont fully get why its saying name error, the score should be defined "
   ]
  },
  {
   "cell_type": "markdown",
   "id": "1379b131",
   "metadata": {},
   "source": [
    "### algorithm workbench problem 5"
   ]
  },
  {
   "cell_type": "code",
   "execution_count": 35,
   "id": "24848a84",
   "metadata": {},
   "outputs": [
    {
     "ename": "NameError",
     "evalue": "name 'x' is not defined",
     "output_type": "error",
     "traceback": [
      "\u001b[1;31m---------------------------------------------------------------------------\u001b[0m",
      "\u001b[1;31mNameError\u001b[0m                                 Traceback (most recent call last)",
      "Cell \u001b[1;32mIn[35], line 1\u001b[0m\n\u001b[1;32m----> 1\u001b[0m amount1, amount2, \u001b[38;5;241m=\u001b[39m x,y\n",
      "\u001b[1;31mNameError\u001b[0m: name 'x' is not defined"
     ]
    }
   ],
   "source": [
    "amount1, amount2, = x, y"
   ]
  },
  {
   "cell_type": "markdown",
   "id": "0fcf28a5",
   "metadata": {},
   "source": [
    "above i tried to figure out problem 5 with just the knowledge i had, below is after looking back at my resources to give me some awnsers "
   ]
  },
  {
   "cell_type": "code",
   "execution_count": 60,
   "id": "c722a188",
   "metadata": {},
   "outputs": [
    {
     "ename": "NameError",
     "evalue": "name 'amount1' is not defined",
     "output_type": "error",
     "traceback": [
      "\u001b[1;31m---------------------------------------------------------------------------\u001b[0m",
      "\u001b[1;31mNameError\u001b[0m                                 Traceback (most recent call last)",
      "Cell \u001b[1;32mIn[60], line 1\u001b[0m\n\u001b[1;32m----> 1\u001b[0m \u001b[38;5;28;01mif\u001b[39;00m amount1 \u001b[38;5;241m>\u001b[39m \u001b[38;5;241m10\u001b[39m \u001b[38;5;129;01mand\u001b[39;00m amount2 \u001b[38;5;241m<\u001b[39m \u001b[38;5;241m100\u001b[39m:\n\u001b[0;32m      2\u001b[0m     \u001b[38;5;28;01mif\u001b[39;00m amount1\u001b[38;5;241m>\u001b[39m amount2:\n\u001b[0;32m      3\u001b[0m         \u001b[38;5;28mprint\u001b[39m(\u001b[38;5;124m\"\u001b[39m\u001b[38;5;124mthe greater of amount1 and amount2 is:\u001b[39m\u001b[38;5;124m\"\u001b[39m, amount1)\n",
      "\u001b[1;31mNameError\u001b[0m: name 'amount1' is not defined"
     ]
    }
   ],
   "source": [
    "if amount1 > 10 and amount2 < 100:\n",
    "    if amount1> amount2:\n",
    "        print(\"the greater of amount1 and amount2 is:\", amount1)\n",
    "    else:\n",
    "        print(\"the greater of amount1 and amount2 is:\", amount2)"
   ]
  },
  {
   "cell_type": "markdown",
   "id": "f5fef0d5",
   "metadata": {},
   "source": [
    "im still getting erros and i dont understand why, i plugged my code into chat gpt to try and help me figure it out but it says i need to assign amount1 and amount2 values but we are not given values "
   ]
  }
 ],
 "metadata": {
  "kernelspec": {
   "display_name": "Python 3 (ipykernel)",
   "language": "python",
   "name": "python3"
  },
  "language_info": {
   "codemirror_mode": {
    "name": "ipython",
    "version": 3
   },
   "file_extension": ".py",
   "mimetype": "text/x-python",
   "name": "python",
   "nbconvert_exporter": "python",
   "pygments_lexer": "ipython3",
   "version": "3.11.7"
  }
 },
 "nbformat": 4,
 "nbformat_minor": 5
}
