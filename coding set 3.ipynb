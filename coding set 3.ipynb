{
 "cells": [
  {
   "cell_type": "markdown",
   "id": "18824aba",
   "metadata": {},
   "source": [
    "# coding set 3"
   ]
  },
  {
   "cell_type": "markdown",
   "id": "0005c71e",
   "metadata": {},
   "source": [
    "### algorithm workbench problem 4 "
   ]
  },
  {
   "cell_type": "code",
   "execution_count": 4,
   "id": "a0ec22b9",
   "metadata": {},
   "outputs": [
    {
     "ename": "IndentationError",
     "evalue": "expected an indented block after 'if' statement on line 5 (900031688.py, line 6)",
     "output_type": "error",
     "traceback": [
      "\u001b[1;36m  Cell \u001b[1;32mIn[4], line 6\u001b[1;36m\u001b[0m\n\u001b[1;33m    print('your grade is B.')\u001b[0m\n\u001b[1;37m    ^\u001b[0m\n\u001b[1;31mIndentationError\u001b[0m\u001b[1;31m:\u001b[0m expected an indented block after 'if' statement on line 5\n"
     ]
    }
   ],
   "source": [
    "if score >= A_score:\n",
    "    print('your grade is A.')\n",
    "else:\n",
    "\n",
    "if score >= B_score:\n",
    "    print('your grade is B.')\n",
    "else:\n",
    "\n",
    "if score >= C_score:\n",
    "    print('your grade is C.')\n",
    "else:\n",
    "\n",
    "if score >= D_Score:\n",
    "    print('your grade is D.')\n",
    "else:\n",
    "    print('your grade is f.')"
   ]
  },
  {
   "cell_type": "code",
   "execution_count": null,
   "id": "0e4ae9f7",
   "metadata": {},
   "outputs": [],
   "source": []
  }
 ],
 "metadata": {
  "kernelspec": {
   "display_name": "Python 3 (ipykernel)",
   "language": "python",
   "name": "python3"
  },
  "language_info": {
   "codemirror_mode": {
    "name": "ipython",
    "version": 3
   },
   "file_extension": ".py",
   "mimetype": "text/x-python",
   "name": "python",
   "nbconvert_exporter": "python",
   "pygments_lexer": "ipython3",
   "version": "3.11.7"
  }
 },
 "nbformat": 4,
 "nbformat_minor": 5
}
