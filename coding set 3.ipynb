{
 "cells": [
  {
   "cell_type": "markdown",
   "id": "1651ef7f",
   "metadata": {},
   "source": [
    "# coding set 3"
   ]
  },
  {
   "cell_type": "markdown",
   "id": "99d52f0d",
   "metadata": {},
   "source": [
    "### algorithm workbench problem 4 "
   ]
  },
  {
   "cell_type": "code",
   "execution_count": 27,
   "id": "490d9ed1",
   "metadata": {},
   "outputs": [
    {
     "ename": "NameError",
     "evalue": "name 'score' is not defined",
     "output_type": "error",
     "traceback": [
      "\u001b[1;31m---------------------------------------------------------------------------\u001b[0m",
      "\u001b[1;31mNameError\u001b[0m                                 Traceback (most recent call last)",
      "Cell \u001b[1;32mIn[27], line 1\u001b[0m\n\u001b[1;32m----> 1\u001b[0m \u001b[38;5;28;01mif\u001b[39;00m score \u001b[38;5;241m>\u001b[39m\u001b[38;5;241m=\u001b[39m A_score:\n\u001b[0;32m      2\u001b[0m     \u001b[38;5;28mprint\u001b[39m(\u001b[38;5;124m'\u001b[39m\u001b[38;5;124myour grade is A.\u001b[39m\u001b[38;5;124m'\u001b[39m)\n\u001b[0;32m      3\u001b[0m \u001b[38;5;28;01melse\u001b[39;00m:\n",
      "\u001b[1;31mNameError\u001b[0m: name 'score' is not defined"
     ]
    }
   ],
   "source": [
    "if score >= A_score:\n",
    "    print('your grade is A.')\n",
    "else:\n",
    "    if score >= B_score:\n",
    "        print('your grade is B.')\n",
    "    else:\n",
    "        if score >= C_score:\n",
    "            print('your grade is C.')\n",
    "        else:\n",
    "            if score >= D_Score:\n",
    "                print('your grade is D.')\n",
    "            else:\n",
    "                print('your grade is f.')"
   ]
  },
  {
   "cell_type": "markdown",
   "id": "5de07cef",
   "metadata": {},
   "source": [
    "i dont fully get why its saying name error, the score should be defined "
   ]
  },
  {
   "cell_type": "markdown",
   "id": "6b959726",
   "metadata": {},
   "source": [
    "### algorithm workbench problem 5"
   ]
  },
  {
   "cell_type": "code",
   "execution_count": 35,
   "id": "5de160f0",
   "metadata": {},
   "outputs": [
    {
     "ename": "NameError",
     "evalue": "name 'x' is not defined",
     "output_type": "error",
     "traceback": [
      "\u001b[1;31m---------------------------------------------------------------------------\u001b[0m",
      "\u001b[1;31mNameError\u001b[0m                                 Traceback (most recent call last)",
      "Cell \u001b[1;32mIn[35], line 1\u001b[0m\n\u001b[1;32m----> 1\u001b[0m amount1, amount2, \u001b[38;5;241m=\u001b[39m x,y\n",
      "\u001b[1;31mNameError\u001b[0m: name 'x' is not defined"
     ]
    }
   ],
   "source": [
    "amount1, amount2, = x, y"
   ]
  },
  {
   "cell_type": "code",
   "execution_count": null,
   "id": "47e008c3",
   "metadata": {},
   "outputs": [],
   "source": []
  }
 ],
 "metadata": {
  "kernelspec": {
   "display_name": "Python 3 (ipykernel)",
   "language": "python",
   "name": "python3"
  },
  "language_info": {
   "codemirror_mode": {
    "name": "ipython",
    "version": 3
   },
   "file_extension": ".py",
   "mimetype": "text/x-python",
   "name": "python",
   "nbconvert_exporter": "python",
   "pygments_lexer": "ipython3",
   "version": "3.11.7"
  }
 },
 "nbformat": 4,
 "nbformat_minor": 5
}
