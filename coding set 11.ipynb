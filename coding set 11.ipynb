{
 "cells": [
  {
   "cell_type": "markdown",
   "id": "0c1c0fda",
   "metadata": {},
   "source": [
    "# coding set 11"
   ]
  },
  {
   "cell_type": "markdown",
   "id": "9ef484b7",
   "metadata": {},
   "source": [
    "### programming problem 2, shift supervisor class"
   ]
  },
  {
   "cell_type": "markdown",
   "id": "84540699",
   "metadata": {},
   "source": [
    "this problem wants us to In a particular factory, a shift supervisor is a salaried employee who supervises a shift. In addition to a salary, the shift supervisor earns a yearly bonus when his or her shift meets production goals. Write a  class that is a subclass of the  class you created in Programming Exercise 1. The  class should keep a data attribute for the annual salary, and a data attribute for the annual production bonus that a shift supervisor has earned. Demonstrate the class by writing a program that uses a  object."
   ]
  },
  {
   "cell_type": "code",
   "execution_count": 1,
   "id": "4345f316",
   "metadata": {},
   "outputs": [],
   "source": [
    " class employee:\n",
    "        def __init__(self, name=\"\", number=0):\n",
    "            self.__name = name\n",
    "            self.__number = number\n",
    "            \n",
    "        def get_name(self):\n",
    "            return self.__name\n",
    "        \n",
    "        def get_number(self):\n",
    "            return self.__number\n",
    "        \n",
    "        def set_name(self, name):\n",
    "            self.__name = name\n",
    "            \n",
    "        def set_number(self, number):\n",
    "            self.__number = number\n",
    "            \n",
    " class shiftEmployee(employee):\n",
    "    def __init__(self, name=\"\", number=0, shift=1, hourly_pay_rate=0.0):\n",
    "        super().__init__(name, number)\n",
    "        self.__shift = shift\n",
    "        self.__hourly_pay_rate = hourly_pay_rate\n",
    "        \n",
    "        \n",
    "    def get_shift(self):\n",
    "        return self.__shift\n",
    "    \n",
    "    def get_hourly_pay_rat"
   ]
  },
  {
   "cell_type": "code",
   "execution_count": null,
   "id": "816e6e0f",
   "metadata": {},
   "outputs": [],
   "source": []
  }
 ],
 "metadata": {
  "kernelspec": {
   "display_name": "Python 3 (ipykernel)",
   "language": "python",
   "name": "python3"
  },
  "language_info": {
   "codemirror_mode": {
    "name": "ipython",
    "version": 3
   },
   "file_extension": ".py",
   "mimetype": "text/x-python",
   "name": "python",
   "nbconvert_exporter": "python",
   "pygments_lexer": "ipython3",
   "version": "3.11.7"
  }
 },
 "nbformat": 4,
 "nbformat_minor": 5
}
