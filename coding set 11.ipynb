{
 "cells": [
  {
   "cell_type": "markdown",
   "id": "be4fdb97",
   "metadata": {},
   "source": [
    "# coding set 11"
   ]
  },
  {
   "cell_type": "markdown",
   "id": "1513a0da",
   "metadata": {},
   "source": [
    "### programming problem 2, shift supervisor class"
   ]
  },
  {
   "cell_type": "markdown",
   "id": "02a8b2e7",
   "metadata": {},
   "source": [
    "this problem wants us to In a particular factory, a shift supervisor is a salaried employee who supervises a shift. In addition to a salary, the shift supervisor earns a yearly bonus when his or her shift meets production goals. Write a  class that is a subclass of the  class you created in Programming Exercise 1. The  class should keep a data attribute for the annual salary, and a data attribute for the annual production bonus that a shift supervisor has earned. Demonstrate the class by writing a program that uses a  object."
   ]
  },
  {
   "cell_type": "code",
   "execution_count": 1,
   "id": "df1a1e95",
   "metadata": {},
   "outputs": [],
   "source": [
    " class employee:\n",
    "    def __init__(self, name=\"\", number=0):\n",
    "            self.__name = name\n",
    "            self.__number = number\n",
    "            \n",
    "    def get_name(self):\n",
    "            return self.__name\n",
    "        \n",
    "    def get_number(self):\n",
    "            return self.__number\n",
    "        \n",
    "    def set_name(self, name):\n",
    "            self.__name = name\n",
    "            \n",
    "    def set_number(self, number):\n",
    "            self.__number = number\n",
    "            \n",
    " class shiftEmployee(employee):\n",
    "    def __init__(self, name=\"\", number=0, shift=1, hourly_pay_rate=0.0):\n",
    "        super().__init__(name, number)\n",
    "        self.__shift = shift\n",
    "        self.__hourly_pay_rate = hourly_pay_rate\n",
    "        \n",
    "        \n",
    "    def get_shift(self):\n",
    "        return self.__shift\n",
    "    \n",
    "    def get_hourly_pay_rate(self):\n",
    "        return self.__hourly_pay_rate\n",
    "    \n",
    "    def set_shift(self, shift):\n",
    "        if shift in [1, 2]:\n",
    "            self.__shift = shift\n",
    "        else:\n",
    "            raise ValueError(\"shift must be 1 (day) or 2 n(night)\")\n",
    "    \n",
    "    def set_hourly_pay_rate(self, hourly_pay_rate):\n",
    "        self.__hourly_pay_rate = hourly_pay_rate\n",
    "        \n",
    " class shiftsupervisor(shiftemployee):\n",
    "    def __init__(self, name=\"\", number=0, shift=1, hourly_pay_rate=0.0, annual_salary=0.0, annual_bonus=0.0):\n",
    "         super().__init__(name, number, shift, hourly_pay_rate)\n",
    "        self.__annual_salary = annual_salary\n",
    "        self.__annual_bonus = annual_bonus\n",
    "        \n",
    "        \n",
    "    def get_annual_salary(self):\n",
    "        reurn self.__annual_salary\n",
    "        \n",
    "    def get_annual_bonus(self):\n",
    "        return self.__annual_bonus\n",
    "    \n",
    "    def set_annual_salary(self, annual_salary):\n",
    "        self.__annual_salary = annual_salary\n",
    "        \n",
    "    def set_annual_bonus(self, annual_bonus):\n",
    "        self.__annual_bonus = annual_bonus\n",
    "        \n",
    "    \n",
    "        \n",
    "        "
   ]
  },
  {
   "cell_type": "code",
   "execution_count": null,
   "id": "32ef91e4",
   "metadata": {},
   "outputs": [],
   "source": []
  }
 ],
 "metadata": {
  "kernelspec": {
   "display_name": "Python 3 (ipykernel)",
   "language": "python",
   "name": "python3"
  },
  "language_info": {
   "codemirror_mode": {
    "name": "ipython",
    "version": 3
   },
   "file_extension": ".py",
   "mimetype": "text/x-python",
   "name": "python",
   "nbconvert_exporter": "python",
   "pygments_lexer": "ipython3",
   "version": "3.11.7"
  }
 },
 "nbformat": 4,
 "nbformat_minor": 5
}
