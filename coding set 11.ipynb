{
 "cells": [
  {
   "cell_type": "markdown",
   "id": "69a1b4a3",
   "metadata": {},
   "source": [
    "# coding set 11"
   ]
  },
  {
   "cell_type": "markdown",
   "id": "e836e35f",
   "metadata": {},
   "source": [
    "### programming problem 2, shift supervisor class"
   ]
  },
  {
   "cell_type": "markdown",
   "id": "14221c3d",
   "metadata": {},
   "source": [
    "this problem wants us to In a particular factory, a shift supervisor is a salaried employee who supervises a shift. In addition to a salary, the shift supervisor earns a yearly bonus when his or her shift meets production goals. Write a  class that is a subclass of the  class you created in Programming Exercise 1. The  class should keep a data attribute for the annual salary, and a data attribute for the annual production bonus that a shift supervisor has earned. Demonstrate the class by writing a program that uses a  object."
   ]
  },
  {
   "cell_type": "code",
   "execution_count": 4,
   "id": "df6a9d0f",
   "metadata": {},
   "outputs": [
    {
     "name": "stdout",
     "output_type": "stream",
     "text": [
      "Enter the supervisor's name: bob\n",
      "Enter the supervisor's number: 1234\n",
      "Enter the shift number (1 for day, 2 for night): 1\n",
      "Enter the hourly pay rate: 50\n",
      "Enter the annual salary: 100000\n",
      "Enter the annual production bonus: 10000\n",
      "\n",
      "Shift Supervisor Details:\n",
      "Name: bob\n",
      "Number: 1234\n",
      "Shift: 1\n",
      "Hourly Pay Rate: 50.0\n",
      "Annual Salary: 100000.0\n",
      "Annual Production Bonus: 10000.0\n"
     ]
    }
   ],
   "source": [
    "class Employee:\n",
    "    def __init__(self, name=\"\", number=0):\n",
    "        self.__name = name\n",
    "        self.__number = number\n",
    "\n",
    "    # Accessor methods\n",
    "    def get_name(self):\n",
    "        return self.__name\n",
    "\n",
    "    def get_number(self):\n",
    "        return self.__number\n",
    "\n",
    "    # Mutator methods\n",
    "    def set_name(self, name):\n",
    "        self.__name = name\n",
    "\n",
    "    def set_number(self, number):\n",
    "        self.__number = number\n",
    "\n",
    "class ShiftEmployee(Employee):\n",
    "    def __init__(self, name=\"\", number=0, shift=1, hourly_pay_rate=0.0):\n",
    "        super().__init__(name, number)\n",
    "        self.__shift = shift\n",
    "        self.__hourly_pay_rate = hourly_pay_rate\n",
    "\n",
    "    # Accessor methods\n",
    "    def get_shift(self):\n",
    "        return self.__shift\n",
    "\n",
    "    def get_hourly_pay_rate(self):\n",
    "        return self.__hourly_pay_rate\n",
    "\n",
    "    # Mutator methods\n",
    "    def set_shift(self, shift):\n",
    "        if shift in [1, 2]:  # Ensure shift is either 1 (day) or 2 (night)\n",
    "            self.__shift = shift\n",
    "        else:\n",
    "            raise ValueError(\"Shift must be 1 (day) or 2 (night)\")\n",
    "\n",
    "    def set_hourly_pay_rate(self, hourly_pay_rate):\n",
    "        self.__hourly_pay_rate = hourly_pay_rate\n",
    "\n",
    "class ShiftSupervisor(ShiftEmployee):\n",
    "    def __init__(self, name=\"\", number=0, shift=1, hourly_pay_rate=0.0, annual_salary=0.0, annual_bonus=0.0):\n",
    "        super().__init__(name, number, shift, hourly_pay_rate)\n",
    "        self.__annual_salary = annual_salary\n",
    "        self.__annual_bonus = annual_bonus\n",
    "\n",
    "    # Accessor methods\n",
    "    def get_annual_salary(self):\n",
    "        return self.__annual_salary\n",
    "\n",
    "    def get_annual_bonus(self):\n",
    "        return self.__annual_bonus\n",
    "\n",
    "    # Mutator methods\n",
    "    def set_annual_salary(self, annual_salary):\n",
    "        self.__annual_salary = annual_salary\n",
    "\n",
    "    def set_annual_bonus(self, annual_bonus):\n",
    "        self.__annual_bonus = annual_bonus\n",
    "\n",
    "# Program to create a ShiftSupervisor object and prompt user for data\n",
    "def main():\n",
    "    name = input(\"Enter the supervisor's name: \")\n",
    "    number = int(input(\"Enter the supervisor's number: \"))\n",
    "    shift = int(input(\"Enter the shift number (1 for day, 2 for night): \"))\n",
    "    hourly_pay_rate = float(input(\"Enter the hourly pay rate: \"))\n",
    "    annual_salary = float(input(\"Enter the annual salary: \"))\n",
    "    annual_bonus = float(input(\"Enter the annual production bonus: \"))\n",
    "\n",
    "    # Create ShiftSupervisor object\n",
    "    shift_supervisor = ShiftSupervisor(name, number, shift, hourly_pay_rate, annual_salary, annual_bonus)\n",
    "\n",
    "    # Display the entered data\n",
    "    print(\"\\nShift Supervisor Details:\")\n",
    "    print(f\"Name: {shift_supervisor.get_name()}\")\n",
    "    print(f\"Number: {shift_supervisor.get_number()}\")\n",
    "    print(f\"Shift: {shift_supervisor.get_shift()}\")\n",
    "    print(f\"Hourly Pay Rate: {shift_supervisor.get_hourly_pay_rate()}\")\n",
    "    print(f\"Annual Salary: {shift_supervisor.get_annual_salary()}\")\n",
    "    print(f\"Annual Production Bonus: {shift_supervisor.get_annual_bonus()}\")\n",
    "\n",
    "if __name__ == \"__main__\":\n",
    "    main()\n"
   ]
  },
  {
   "cell_type": "markdown",
   "id": "7d66920a",
   "metadata": {},
   "source": [
    "here is a flowchart for that work\n",
    "+--------------------------+\n",
    "|         Start            |\n",
    "+--------------------------+\n",
    "           |\n",
    "           v\n",
    "+--------------------------+\n",
    "|   Input Supervisor Data  |\n",
    "| - Name                   |\n",
    "| - Number                 |\n",
    "| - Shift (1 for day,      |\n",
    "|   2 for night)           |\n",
    "| - Hourly Pay Rate        |\n",
    "| - Annual Salary          |\n",
    "| - Annual Bonus           |\n",
    "+--------------------------+\n",
    "           |\n",
    "           v\n",
    "+--------------------------+\n",
    "| Create ShiftSupervisor   |\n",
    "| Object with Input Data   |\n",
    "+--------------------------+       |\n",
    "           v\n",
    "+--------------------------+\n",
    "|    Display Supervisor    |\n",
    "|         Details          |\n",
    "| - Name                   |\n",
    "| - Number                 |\n",
    "| - Shift                  |\n",
    "| - Hourly Pay Rate        |\n",
    "| - Annual Salary          |\n",
    "| - Annual Bonus           |\n",
    "+--------------------------+\n",
    "           |\n",
    "           v\n",
    "+--------------------------+\n",
    "|           End            |\n",
    "+--------------------------+"
   ]
  },
  {
   "cell_type": "markdown",
   "id": "882dea79",
   "metadata": {},
   "source": [
    "### programming problem 3"
   ]
  },
  {
   "cell_type": "markdown",
   "id": "fa1acdf0",
   "metadata": {},
   "source": [
    "this problem wants us to "
   ]
  }
 ],
 "metadata": {
  "kernelspec": {
   "display_name": "Python 3 (ipykernel)",
   "language": "python",
   "name": "python3"
  },
  "language_info": {
   "codemirror_mode": {
    "name": "ipython",
    "version": 3
   },
   "file_extension": ".py",
   "mimetype": "text/x-python",
   "name": "python",
   "nbconvert_exporter": "python",
   "pygments_lexer": "ipython3",
   "version": "3.11.7"
  }
 },
 "nbformat": 4,
 "nbformat_minor": 5
}
