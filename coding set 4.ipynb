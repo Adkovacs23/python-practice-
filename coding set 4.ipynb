{
 "cells": [
  {
   "cell_type": "markdown",
   "id": "e297842a",
   "metadata": {},
   "source": [
    "# coding set 4"
   ]
  },
  {
   "cell_type": "markdown",
   "id": "2834b7f4",
   "metadata": {},
   "source": [
    "### algorithm workench problem 1"
   ]
  },
  {
   "cell_type": "code",
   "execution_count": null,
   "id": "e6b8ddaa",
   "metadata": {},
   "outputs": [],
   "source": [
    "result = 0\n",
    "\n",
    "while result < 100:\n",
    "    number = int(input('enter a number:'))\n",
    "    result = number * 10\n",
    "    print('result:', result)"
   ]
  },
  {
   "cell_type": "markdown",
   "id": "dc7d9687",
   "metadata": {},
   "source": [
    "### algorithm workbench problem "
   ]
  },
  {
   "cell_type": "code",
   "execution_count": 9,
   "id": "ac4d617d",
   "metadata": {},
   "outputs": [
    {
     "name": "stdout",
     "output_type": "stream",
     "text": [
      "enter the first number:1\n",
      "enter the second number:2\n",
      "sum 3.0\n",
      "do you want to perform the opertation again? (yes/no):yes\n",
      "enter the first number:1\n",
      "enter the second number:2\n",
      "sum 3.0\n",
      "do you want to perform the opertation again? (yes/no):no\n"
     ]
    }
   ],
   "source": [
    "while True:\n",
    "    num1 = float(input('enter the first number:'))\n",
    "    num2 = float(input('enter the second number:'))\n",
    "    \n",
    "    sum = num1 + num2\n",
    "    print('sum', sum)\n",
    "    \n",
    "    repeat = input('do you want to perform the opertation again? (yes/no):')\n",
    "    if repeat.lower() != 'yes':\n",
    "        break"
   ]
  },
  {
   "cell_type": "markdown",
   "id": "7428e4d5",
   "metadata": {},
   "source": [
    "### programming excercise 1 bug collecter"
   ]
  },
  {
   "cell_type": "code",
   "execution_count": 11,
   "id": "22e5459b",
   "metadata": {},
   "outputs": [
    {
     "name": "stdout",
     "output_type": "stream",
     "text": [
      "Enter the number of bugs colected on day 1: 5\n",
      "Enter the number of bugs colected on day 2: 6\n",
      "Enter the number of bugs colected on day 3: 7\n",
      "Enter the number of bugs colected on day 4: 8\n",
      "Enter the number of bugs colected on day 5: 9\n",
      "total number of bugs collected 0\n"
     ]
    }
   ],
   "source": [
    "total_bugs = 0\n",
    "\n",
    "for day in range(1, 6):\n",
    "    bugs_collected = int(input(f\"Enter the number of bugs colected on day {day}: \"))\n",
    "    \n",
    "print('total number of bugs collected', total_bugs)"
   ]
  },
  {
   "cell_type": "markdown",
   "id": "86b0f455",
   "metadata": {},
   "source": [
    "### programming excercise 4 distance traveled"
   ]
  },
  {
   "cell_type": "code",
   "execution_count": 1,
   "id": "ae2445a5",
   "metadata": {},
   "outputs": [
    {
     "ename": "KeyboardInterrupt",
     "evalue": "Interrupted by user",
     "output_type": "error",
     "traceback": [
      "\u001b[1;31m---------------------------------------------------------------------------\u001b[0m",
      "\u001b[1;31mKeyboardInterrupt\u001b[0m                         Traceback (most recent call last)",
      "Cell \u001b[1;32mIn[1], line 1\u001b[0m\n\u001b[1;32m----> 1\u001b[0m speed \u001b[38;5;241m=\u001b[39m \u001b[38;5;28mfloat\u001b[39m(\u001b[38;5;28minput\u001b[39m(\u001b[38;5;124m'\u001b[39m\u001b[38;5;124menter the speed of the veichle (miles per hour): \u001b[39m\u001b[38;5;124m'\u001b[39m))\n\u001b[0;32m      2\u001b[0m hours \u001b[38;5;241m=\u001b[39m \u001b[38;5;28mint\u001b[39m(\u001b[38;5;28minput\u001b[39m(\u001b[38;5;124m'\u001b[39m\u001b[38;5;124menter the number of hours the veichle has traveled: \u001b[39m\u001b[38;5;124m'\u001b[39m))\n\u001b[0;32m      4\u001b[0m \u001b[38;5;28mprint\u001b[39m(\u001b[38;5;124m'\u001b[39m\u001b[38;5;124mhour\u001b[39m\u001b[38;5;130;01m\\t\u001b[39;00m\u001b[38;5;124mDistance traveled\u001b[39m\u001b[38;5;124m'\u001b[39m)\n",
      "File \u001b[1;32m~\\anaconda3\\Lib\\site-packages\\ipykernel\\kernelbase.py:1262\u001b[0m, in \u001b[0;36mKernel.raw_input\u001b[1;34m(self, prompt)\u001b[0m\n\u001b[0;32m   1260\u001b[0m     msg \u001b[38;5;241m=\u001b[39m \u001b[38;5;124m\"\u001b[39m\u001b[38;5;124mraw_input was called, but this frontend does not support input requests.\u001b[39m\u001b[38;5;124m\"\u001b[39m\n\u001b[0;32m   1261\u001b[0m     \u001b[38;5;28;01mraise\u001b[39;00m StdinNotImplementedError(msg)\n\u001b[1;32m-> 1262\u001b[0m \u001b[38;5;28;01mreturn\u001b[39;00m \u001b[38;5;28mself\u001b[39m\u001b[38;5;241m.\u001b[39m_input_request(\n\u001b[0;32m   1263\u001b[0m     \u001b[38;5;28mstr\u001b[39m(prompt),\n\u001b[0;32m   1264\u001b[0m     \u001b[38;5;28mself\u001b[39m\u001b[38;5;241m.\u001b[39m_parent_ident[\u001b[38;5;124m\"\u001b[39m\u001b[38;5;124mshell\u001b[39m\u001b[38;5;124m\"\u001b[39m],\n\u001b[0;32m   1265\u001b[0m     \u001b[38;5;28mself\u001b[39m\u001b[38;5;241m.\u001b[39mget_parent(\u001b[38;5;124m\"\u001b[39m\u001b[38;5;124mshell\u001b[39m\u001b[38;5;124m\"\u001b[39m),\n\u001b[0;32m   1266\u001b[0m     password\u001b[38;5;241m=\u001b[39m\u001b[38;5;28;01mFalse\u001b[39;00m,\n\u001b[0;32m   1267\u001b[0m )\n",
      "File \u001b[1;32m~\\anaconda3\\Lib\\site-packages\\ipykernel\\kernelbase.py:1305\u001b[0m, in \u001b[0;36mKernel._input_request\u001b[1;34m(self, prompt, ident, parent, password)\u001b[0m\n\u001b[0;32m   1302\u001b[0m \u001b[38;5;28;01mexcept\u001b[39;00m \u001b[38;5;167;01mKeyboardInterrupt\u001b[39;00m:\n\u001b[0;32m   1303\u001b[0m     \u001b[38;5;66;03m# re-raise KeyboardInterrupt, to truncate traceback\u001b[39;00m\n\u001b[0;32m   1304\u001b[0m     msg \u001b[38;5;241m=\u001b[39m \u001b[38;5;124m\"\u001b[39m\u001b[38;5;124mInterrupted by user\u001b[39m\u001b[38;5;124m\"\u001b[39m\n\u001b[1;32m-> 1305\u001b[0m     \u001b[38;5;28;01mraise\u001b[39;00m \u001b[38;5;167;01mKeyboardInterrupt\u001b[39;00m(msg) \u001b[38;5;28;01mfrom\u001b[39;00m \u001b[38;5;28;01mNone\u001b[39;00m\n\u001b[0;32m   1306\u001b[0m \u001b[38;5;28;01mexcept\u001b[39;00m \u001b[38;5;167;01mException\u001b[39;00m:\n\u001b[0;32m   1307\u001b[0m     \u001b[38;5;28mself\u001b[39m\u001b[38;5;241m.\u001b[39mlog\u001b[38;5;241m.\u001b[39mwarning(\u001b[38;5;124m\"\u001b[39m\u001b[38;5;124mInvalid Message:\u001b[39m\u001b[38;5;124m\"\u001b[39m, exc_info\u001b[38;5;241m=\u001b[39m\u001b[38;5;28;01mTrue\u001b[39;00m)\n",
      "\u001b[1;31mKeyboardInterrupt\u001b[0m: Interrupted by user"
     ]
    }
   ],
   "source": [
    " speed = float(input('enter the speed of the veichle (miles per hour): '))\n",
    "hours = int(input('enter the number of hours the veichle has traveled: '))\n",
    "\n",
    "print('hour\\tDistance traveled')\n",
    "print('-------------------------')\n",
    "\n",
    "for hour in range(1, hours + 1):\n",
    "    distance = speed * hour\n",
    "    print(f'{hour}\\t{distance}')"
   ]
  },
  {
   "cell_type": "markdown",
   "id": "18e680b7",
   "metadata": {},
   "source": [
    "### programming excercise 13"
   ]
  },
  {
   "cell_type": "code",
   "execution_count": 14,
   "id": "a596ed05",
   "metadata": {},
   "outputs": [
    {
     "name": "stdout",
     "output_type": "stream",
     "text": [
      "\n",
      "* \n",
      "* * \n",
      "* * * \n",
      "* * * * \n",
      "* * * * * \n",
      "* * * * * * \n",
      "* * * * * * * \n",
      "* * * * * * \n",
      "* * * * * \n",
      "* * * * \n",
      "* * * \n",
      "* * \n",
      "* \n"
     ]
    }
   ],
   "source": [
    "for i in range(7):\n",
    "    for j in range(i):\n",
    "        print('*', end=' ')\n",
    "    print()\n",
    "\n",
    "for i in range(7, 0, -1):\n",
    "    for j in range(i):\n",
    "        print('*', end=' ')\n",
    "    print()"
   ]
  },
  {
   "cell_type": "markdown",
   "id": "29961bb5",
   "metadata": {},
   "source": [
    "### programming excercise 14"
   ]
  },
  {
   "cell_type": "code",
   "execution_count": null,
   "id": "9e290837",
   "metadata": {},
   "outputs": [],
   "source": [
    "import turtle\n",
    "\n",
    "\n",
    "screen = turtle.screen()\n",
    "screen.setup(width=600, height=600)\n",
    "screen.bgcolor('black')\n",
    "\n",
    "\n",
    "t = turtle.turtle()\n",
    "t.speed(0)\n",
    "\n",
    "def draw_square(size):\n",
    "    for _ in range(4):\n",
    "        t.forward(size)\n",
    "        t.right(90)\n",
    "        \n",
    "        \n",
    "size = 20\n",
    "for _ in range(10):\n",
    "    for _ in range(10):\n",
    "        draw_square(size)\n",
    "        t.penup()\n",
    "        t.forward(size * 2)\n",
    "        t.pendown()\n",
    "    t.penup()\n",
    "    t.goto(-size * 5, t.ycor() - size * 2)\n",
    "    t.pendown()\n",
    "\n",
    "t.hideturtle()"
   ]
  },
  {
   "cell_type": "code",
   "execution_count": null,
   "id": "37c724d6",
   "metadata": {},
   "outputs": [],
   "source": []
  }
 ],
 "metadata": {
  "kernelspec": {
   "display_name": "Python 3 (ipykernel)",
   "language": "python",
   "name": "python3"
  },
  "language_info": {
   "codemirror_mode": {
    "name": "ipython",
    "version": 3
   },
   "file_extension": ".py",
   "mimetype": "text/x-python",
   "name": "python",
   "nbconvert_exporter": "python",
   "pygments_lexer": "ipython3",
   "version": "3.11.7"
  }
 },
 "nbformat": 4,
 "nbformat_minor": 5
}
