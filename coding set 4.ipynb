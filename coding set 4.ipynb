{
 "cells": [
  {
   "cell_type": "markdown",
   "id": "0304e1e6",
   "metadata": {},
   "source": [
    "# coding set 4"
   ]
  },
  {
   "cell_type": "markdown",
   "id": "23850930",
   "metadata": {},
   "source": [
    "### algorithm workench problem 1"
   ]
  },
  {
   "cell_type": "code",
   "execution_count": null,
   "id": "96fbe0cf",
   "metadata": {},
   "outputs": [],
   "source": [
    "result = 0\n",
    "\n",
    "while result < 100:\n",
    "    number = int(input('enter a number:'))\n",
    "    result = number * 10\n",
    "    print('result:', result)"
   ]
  },
  {
   "cell_type": "markdown",
   "id": "91ff52aa",
   "metadata": {},
   "source": [
    "### algorithm workbench problem "
   ]
  },
  {
   "cell_type": "code",
   "execution_count": 9,
   "id": "34354088",
   "metadata": {},
   "outputs": [
    {
     "name": "stdout",
     "output_type": "stream",
     "text": [
      "enter the first number:1\n",
      "enter the second number:2\n",
      "sum 3.0\n",
      "do you want to perform the opertation again? (yes/no):yes\n",
      "enter the first number:1\n",
      "enter the second number:2\n",
      "sum 3.0\n",
      "do you want to perform the opertation again? (yes/no):no\n"
     ]
    }
   ],
   "source": [
    "while True:\n",
    "    num1 = float(input('enter the first number:'))\n",
    "    num2 = float(input('enter the second number:'))\n",
    "    \n",
    "    sum = num1 + num2\n",
    "    print('sum', sum)\n",
    "    \n",
    "    repeat = input('do you want to perform the opertation again? (yes/no):')\n",
    "    if repeat.lower() != 'yes':\n",
    "        break"
   ]
  },
  {
   "cell_type": "markdown",
   "id": "fd191e32",
   "metadata": {},
   "source": [
    "### programming excercise 1 bug collecter"
   ]
  },
  {
   "cell_type": "code",
   "execution_count": null,
   "id": "699fe3ca",
   "metadata": {},
   "outputs": [],
   "source": [
    "total_bugs = 0\n",
    "\n",
    "for day in range(1, 6):\n",
    "    bugs_collected = int(input(f\"Enter the number of bugs colected on day {day}: \"\"))"
   ]
  }
 ],
 "metadata": {
  "kernelspec": {
   "display_name": "Python 3 (ipykernel)",
   "language": "python",
   "name": "python3"
  },
  "language_info": {
   "codemirror_mode": {
    "name": "ipython",
    "version": 3
   },
   "file_extension": ".py",
   "mimetype": "text/x-python",
   "name": "python",
   "nbconvert_exporter": "python",
   "pygments_lexer": "ipython3",
   "version": "3.11.7"
  }
 },
 "nbformat": 4,
 "nbformat_minor": 5
}
