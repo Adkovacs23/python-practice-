{
 "cells": [
  {
   "cell_type": "markdown",
   "id": "a132f696",
   "metadata": {},
   "source": [
    "# coding set 4"
   ]
  },
  {
   "cell_type": "markdown",
   "id": "20c3d8a3",
   "metadata": {},
   "source": [
    "### algorithm workench problem 1"
   ]
  },
  {
   "cell_type": "code",
   "execution_count": null,
   "id": "27b10d6f",
   "metadata": {},
   "outputs": [],
   "source": [
    "while result < 100:\n",
    "    number = int(input('enter a number:'))\n",
    "    result = number * 10\n",
    "    print('resu')"
   ]
  }
 ],
 "metadata": {
  "kernelspec": {
   "display_name": "Python 3 (ipykernel)",
   "language": "python",
   "name": "python3"
  },
  "language_info": {
   "codemirror_mode": {
    "name": "ipython",
    "version": 3
   },
   "file_extension": ".py",
   "mimetype": "text/x-python",
   "name": "python",
   "nbconvert_exporter": "python",
   "pygments_lexer": "ipython3",
   "version": "3.11.7"
  }
 },
 "nbformat": 4,
 "nbformat_minor": 5
}
