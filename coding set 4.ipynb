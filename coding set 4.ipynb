{
 "cells": [
  {
   "cell_type": "markdown",
   "id": "3a173c8a",
   "metadata": {},
   "source": [
    "# coding set 4"
   ]
  },
  {
   "cell_type": "markdown",
   "id": "15873099",
   "metadata": {},
   "source": [
    "### algorithm workench problem 1"
   ]
  },
  {
   "cell_type": "code",
   "execution_count": null,
   "id": "d71063cd",
   "metadata": {},
   "outputs": [],
   "source": [
    "result = 0\n",
    "\n",
    "while result < 100:\n",
    "    number = int(input('enter a number:'))\n",
    "    result = number * 10\n",
    "    print('result:', result)"
   ]
  },
  {
   "cell_type": "markdown",
   "id": "bb34207b",
   "metadata": {},
   "source": [
    "### algorithm workbench problem "
   ]
  },
  {
   "cell_type": "code",
   "execution_count": 9,
   "id": "41af6c3e",
   "metadata": {},
   "outputs": [
    {
     "name": "stdout",
     "output_type": "stream",
     "text": [
      "enter the first number:1\n",
      "enter the second number:2\n",
      "sum 3.0\n",
      "do you want to perform the opertation again? (yes/no):yes\n",
      "enter the first number:1\n",
      "enter the second number:2\n",
      "sum 3.0\n",
      "do you want to perform the opertation again? (yes/no):no\n"
     ]
    }
   ],
   "source": [
    "while True:\n",
    "    num1 = float(input('enter the first number:'))\n",
    "    num2 = float(input('enter the second number:'))\n",
    "    \n",
    "    sum = num1 + num2\n",
    "    print('sum', sum)\n",
    "    \n",
    "    repeat = input('do you want to perform the opertation again? (yes/no):')\n",
    "    if repeat.lower() != 'yes':\n",
    "        break"
   ]
  },
  {
   "cell_type": "markdown",
   "id": "4211c128",
   "metadata": {},
   "source": [
    "### programming excercise 1 bug collecter"
   ]
  },
  {
   "cell_type": "code",
   "execution_count": 11,
   "id": "505c0a39",
   "metadata": {},
   "outputs": [
    {
     "name": "stdout",
     "output_type": "stream",
     "text": [
      "Enter the number of bugs colected on day 1: 5\n",
      "Enter the number of bugs colected on day 2: 6\n",
      "Enter the number of bugs colected on day 3: 7\n",
      "Enter the number of bugs colected on day 4: 8\n",
      "Enter the number of bugs colected on day 5: 9\n",
      "total number of bugs collected 0\n"
     ]
    }
   ],
   "source": [
    "total_bugs = 0\n",
    "\n",
    "for day in range(1, 6):\n",
    "    bugs_collected = int(input(f\"Enter the number of bugs colected on day {day}: \"))\n",
    "    \n",
    "print('total number of bugs collected', total_bugs)"
   ]
  },
  {
   "cell_type": "markdown",
   "id": "6eb389a8",
   "metadata": {},
   "source": [
    "### programming excercise 4 distance traveled"
   ]
  },
  {
   "cell_type": "code",
   "execution_count": null,
   "id": "79637f4a",
   "metadata": {},
   "outputs": [],
   "source": [
    " speed = float(input('enter the speed of the veichle (miles per hour): '))\n",
    "hours = int(input('enter the number of hours the veichle has traveled: '))\n",
    "\n",
    "print('hour\\tDistance traveled')\n",
    "print('-------------------------')\n",
    "\n",
    "for hour in range(1, hours + 1):\n",
    "    distance = speed * hour\n",
    "    print(f'{hour}\\t{distance}')"
   ]
  },
  {
   "cell_type": "markdown",
   "id": "5f8f1d7e",
   "metadata": {},
   "source": [
    "### programming excercise 13"
   ]
  },
  {
   "cell_type": "code",
   "execution_count": 14,
   "id": "f8c36fab",
   "metadata": {},
   "outputs": [
    {
     "name": "stdout",
     "output_type": "stream",
     "text": [
      "\n",
      "* \n",
      "* * \n",
      "* * * \n",
      "* * * * \n",
      "* * * * * \n",
      "* * * * * * \n",
      "* * * * * * * \n",
      "* * * * * * \n",
      "* * * * * \n",
      "* * * * \n",
      "* * * \n",
      "* * \n",
      "* \n"
     ]
    }
   ],
   "source": [
    "for i in range(7):\n",
    "    for j in range(i):\n",
    "        print('*', end=' ')\n",
    "    print()\n",
    "\n",
    "for i in range(7, 0, -1):\n",
    "    for j in range(i):\n",
    "        print('*', end=' ')\n",
    "    print()"
   ]
  },
  {
   "cell_type": "markdown",
   "id": "bb306ced",
   "metadata": {},
   "source": [
    "### programming excercise 14"
   ]
  },
  {
   "cell_type": "code",
   "execution_count": null,
   "id": "4bd0d809",
   "metadata": {},
   "outputs": [],
   "source": [
    "import turtle\n",
    "\n",
    "\n",
    "screen = turtle.screen()\n",
    "screen.setup(width=600, height=600)\n",
    "screen.bgcolor('black')\n",
    "\n",
    "\n",
    "t = turtle.turtle()\n",
    "t.speed(0)\n",
    "\n",
    "def draw_square(size):\n",
    "    for _ in range(4):\n",
    "        t."
   ]
  }
 ],
 "metadata": {
  "kernelspec": {
   "display_name": "Python 3 (ipykernel)",
   "language": "python",
   "name": "python3"
  },
  "language_info": {
   "codemirror_mode": {
    "name": "ipython",
    "version": 3
   },
   "file_extension": ".py",
   "mimetype": "text/x-python",
   "name": "python",
   "nbconvert_exporter": "python",
   "pygments_lexer": "ipython3",
   "version": "3.11.7"
  }
 },
 "nbformat": 4,
 "nbformat_minor": 5
}
