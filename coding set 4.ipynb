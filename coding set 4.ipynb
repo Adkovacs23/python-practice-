{
 "cells": [
  {
   "cell_type": "markdown",
   "id": "9cc63ecf",
   "metadata": {},
   "source": [
    "# coding set 4"
   ]
  },
  {
   "cell_type": "markdown",
   "id": "4f1ad673",
   "metadata": {},
   "source": [
    "### algorithm workench problem 1"
   ]
  },
  {
   "cell_type": "code",
   "execution_count": null,
   "id": "d03cef28",
   "metadata": {},
   "outputs": [],
   "source": [
    "result = 0\n",
    "\n",
    "while result < 100:\n",
    "    number = int(input('enter a number:'))\n",
    "    result = number * 10\n",
    "    print('result:', result)"
   ]
  },
  {
   "cell_type": "markdown",
   "id": "194b0c4b",
   "metadata": {},
   "source": [
    "### algorithm workbench problem "
   ]
  },
  {
   "cell_type": "code",
   "execution_count": null,
   "id": "4dfd3663",
   "metadata": {},
   "outputs": [],
   "source": [
    "while True:\n",
    "    num1 = float(input('enter the first number:'))\n",
    "    num2 = float(input('enter the second number:'))\n",
    "    \n",
    "    sum = num1 + num2\n",
    "    print('sum', sum)\n",
    "    \n",
    "    repeat = input('do you want to perform the opertation again? (yes/no):')\n",
    "    if repeat.lower()"
   ]
  }
 ],
 "metadata": {
  "kernelspec": {
   "display_name": "Python 3 (ipykernel)",
   "language": "python",
   "name": "python3"
  },
  "language_info": {
   "codemirror_mode": {
    "name": "ipython",
    "version": 3
   },
   "file_extension": ".py",
   "mimetype": "text/x-python",
   "name": "python",
   "nbconvert_exporter": "python",
   "pygments_lexer": "ipython3",
   "version": "3.11.7"
  }
 },
 "nbformat": 4,
 "nbformat_minor": 5
}
